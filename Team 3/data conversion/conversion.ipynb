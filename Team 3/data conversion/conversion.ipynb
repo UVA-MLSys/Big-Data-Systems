{
 "cells": [
  {
   "cell_type": "code",
   "execution_count": 13,
   "metadata": {},
   "outputs": [
    {
     "name": "stdout",
     "output_type": "stream",
     "text": [
      "Collecting pyspark\n",
      "  Downloading pyspark-3.5.1.tar.gz (317.0 MB)\n",
      "\u001b[2K     \u001b[90m━━━━━━━━━━━━━━━━━━━━━━━━━━━━━━━━━━━━━━━\u001b[0m \u001b[32m317.0/317.0 MB\u001b[0m \u001b[31m6.3 MB/s\u001b[0m eta \u001b[36m0:00:00\u001b[0m00:01\u001b[0m00:01\u001b[0m\n",
      "\u001b[?25h  Preparing metadata (setup.py) ... \u001b[?25ldone\n",
      "\u001b[?25hCollecting py4j==0.10.9.7 (from pyspark)\n",
      "  Downloading py4j-0.10.9.7-py2.py3-none-any.whl.metadata (1.5 kB)\n",
      "Downloading py4j-0.10.9.7-py2.py3-none-any.whl (200 kB)\n",
      "\u001b[2K   \u001b[90m━━━━━━━━━━━━━━━━━━━━━━━━━━━━━━━━━━━━━━━━\u001b[0m \u001b[32m200.5/200.5 kB\u001b[0m \u001b[31m28.6 MB/s\u001b[0m eta \u001b[36m0:00:00\u001b[0m\n",
      "\u001b[?25hBuilding wheels for collected packages: pyspark\n",
      "  Building wheel for pyspark (setup.py) ... \u001b[?25ldone\n",
      "\u001b[?25h  Created wheel for pyspark: filename=pyspark-3.5.1-py2.py3-none-any.whl size=317488493 sha256=14eb7b0d0327d3154c9b2abd1f114485b259a5fc50985b5c16b559c7842cae37\n",
      "  Stored in directory: /home/sagemaker-user/.cache/pip/wheels/80/1d/60/2c256ed38dddce2fdd93be545214a63e02fbd8d74fb0b7f3a6\n",
      "Successfully built pyspark\n",
      "Installing collected packages: py4j, pyspark\n",
      "Successfully installed py4j-0.10.9.7 pyspark-3.5.1\n",
      "Note: you may need to restart the kernel to use updated packages.\n"
     ]
    }
   ],
   "source": [
    "# %pip install pandas python-snappy lz4 bz2file\n",
    "\n",
    "#%pip install zlib-state\n",
    "\n",
    "#%pip install pyarrow\n",
    "\n",
    "%pip install pyspark"
   ]
  },
  {
   "cell_type": "code",
   "execution_count": 1,
   "metadata": {},
   "outputs": [],
   "source": [
    "import boto3\n",
    "import pandas as pd\n",
    "# Create S3 session and bucket\n",
    "s3_session = boto3.Session().client(\"s3\")\n",
    "bucket = 'team-3-project-data-atif'"
   ]
  },
  {
   "cell_type": "code",
   "execution_count": 11,
   "metadata": {},
   "outputs": [
    {
     "name": "stdout",
     "output_type": "stream",
     "text": [
      "Compression completed successfully.\n"
     ]
    }
   ],
   "source": [
    "import boto3\n",
    "import pandas as pd\n",
    "import io\n",
    "import gzip\n",
    "import snappy\n",
    "import lz4.frame\n",
    "import bz2\n",
    "import zlib\n",
    "from pyarrow import csv, orc, parquet\n",
    "import json\n",
    "\n",
    "def read_csv_from_s3(bucket_name, file_key):\n",
    "    s3 = boto3.client('s3')\n",
    "    response = s3.get_object(Bucket=bucket_name, Key=file_key)\n",
    "    csv_content = response['Body'].read()\n",
    "    return csv_content\n",
    "\n",
    "def compress_to_gzip(content):\n",
    "    with io.BytesIO() as bio:\n",
    "        with gzip.GzipFile(filename='output.gz', mode='wb', fileobj=bio) as gz_file:\n",
    "            gz_file.write(content)\n",
    "        return bio.getvalue()\n",
    "\n",
    "def compress_to_snappy(content):\n",
    "    return snappy.compress(content)\n",
    "\n",
    "def compress_to_lz4(content):\n",
    "    return lz4.frame.compress(content)\n",
    "\n",
    "def compress_to_bz2(content):\n",
    "    return bz2.compress(content)\n",
    "\n",
    "def compress_to_deflate(content):\n",
    "    return zlib.compress(content, zlib.Z_BEST_COMPRESSION)\n",
    "\n",
    "def write_compressed_to_s3(bucket_name, file_key, content, compression_format):\n",
    "    s3 = boto3.client('s3')\n",
    "    compressed_file_key = f\"{file_key}.{compression_format}\"\n",
    "    s3.put_object(Bucket=bucket_name, Key=compressed_file_key, Body=content)\n",
    "\n",
    "\n",
    "def preprocess_csv(content):\n",
    "    # Decode bytes to string\n",
    "    content_str = content.decode('utf-8')\n",
    "    # Replace 'NULL' values with empty strings\n",
    "    return content_str.replace('NULL', '')\n",
    "\n",
    "def convert_to_orc(content):\n",
    "    table = csv.read_csv(io.BytesIO(content))\n",
    "    with io.BytesIO() as bio:\n",
    "        orc.write_table(table, bio)\n",
    "        return bio.getvalue()\n",
    "\n",
    "def convert_to_parquet(content):\n",
    "    table = csv.read_csv(io.BytesIO(content))\n",
    "    with io.BytesIO() as bio:\n",
    "        parquet.write_table(table, bio)\n",
    "        return bio.getvalue()\n",
    "\n",
    "def convert_to_json(content):\n",
    "    df = pd.read_csv(io.BytesIO(content))\n",
    "    return df.to_json(orient='records')\n",
    "\n",
    "\n",
    "bucket_name = 'team-3-project-data-atif'\n",
    "file_key = 'Redshift-ingestion/NASA_competency_v5.csv'\n",
    "\n",
    "    # Read CSV file from S3\n",
    "csv_content = read_csv_from_s3(bucket_name, file_key)\n",
    "\n",
    "# Preprocess CSV content\n",
    "#csv_content = preprocess_csv(csv_content)\n",
    "\n",
    "# Convert to other formats\n",
    "#orc_content = convert_to_orc(csv_content)\n",
    "#parquet_content = convert_to_parquet(csv_content)\n",
    "#json_content = convert_to_json(csv_content)\n",
    "\n",
    "    # Compress to different formats\n",
    "gz_content = compress_to_gzip(csv_content)\n",
    "snappy_content = compress_to_snappy(csv_content)\n",
    "lz4_content = compress_to_lz4(csv_content)\n",
    "bz2_content = compress_to_bz2(csv_content)\n",
    "deflate_content = compress_to_deflate(csv_content)\n",
    "\n",
    "    # Write compressed files to S3\n",
    "write_compressed_to_s3(bucket_name, file_key, gz_content, 'gz')\n",
    "write_compressed_to_s3(bucket_name, file_key, snappy_content, 'snappy')\n",
    "write_compressed_to_s3(bucket_name, file_key, lz4_content, 'lz4')\n",
    "write_compressed_to_s3(bucket_name, file_key, bz2_content, 'bz2')\n",
    "write_compressed_to_s3(bucket_name, file_key, deflate_content, 'deflate')\n",
    "\n",
    "print(\"Compression completed successfully.\")\n",
    "\n",
    "\n",
    "\n"
   ]
  }
 ],
 "metadata": {
  "kernelspec": {
   "display_name": "base",
   "language": "python",
   "name": "python3"
  },
  "language_info": {
   "codemirror_mode": {
    "name": "ipython",
    "version": 3
   },
   "file_extension": ".py",
   "mimetype": "text/x-python",
   "name": "python",
   "nbconvert_exporter": "python",
   "pygments_lexer": "ipython3",
   "version": "3.10.13"
  }
 },
 "nbformat": 4,
 "nbformat_minor": 2
}
