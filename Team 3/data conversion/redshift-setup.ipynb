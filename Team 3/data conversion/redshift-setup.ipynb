{
 "cells": [
  {
   "cell_type": "markdown",
   "metadata": {},
   "source": [
    "Load Data to Redshift\n"
   ]
  },
  {
   "cell_type": "code",
   "execution_count": 5,
   "metadata": {},
   "outputs": [],
   "source": [
    "import json\n",
    "import boto3\n",
    "from botocore.exceptions import ClientError\n",
    "from botocore.config import Config\n",
    "\n",
    "config = Config(\n",
    "   retries = {\n",
    "      'max_attempts': 10,\n",
    "      'mode': 'adaptive'\n",
    "   }\n",
    ")\n",
    "\n",
    "\n",
    "iam = boto3.client('iam', config=config)\n",
    "sts = boto3.client('sts')\n",
    "redshift = boto3.client('redshift')\n",
    "sm = boto3.client('sagemaker')\n",
    "ec2 = boto3.client('ec2')"
   ]
  },
  {
   "cell_type": "code",
   "execution_count": 6,
   "metadata": {},
   "outputs": [],
   "source": [
    "#sts policy\n",
    "\n",
    "assume_role_policy_doc = {\n",
    "  \"Version\": \"2012-10-17\",\n",
    "  \"Statement\": [\n",
    "    {\n",
    "      \"Effect\": \"Allow\",\n",
    "      \"Principal\": {\n",
    "        \"Service\": \"redshift.amazonaws.com\"\n",
    "      },\n",
    "      \"Action\": \"sts:AssumeRole\"\n",
    "    }\n",
    "  ]\n",
    "} "
   ]
  },
  {
   "cell_type": "code",
   "execution_count": 7,
   "metadata": {},
   "outputs": [],
   "source": [
    "iam_redshift_role_name = 'team3-Redshift-role'"
   ]
  },
  {
   "cell_type": "code",
   "execution_count": 8,
   "metadata": {},
   "outputs": [
    {
     "name": "stdout",
     "output_type": "stream",
     "text": [
      "Role already exists\n"
     ]
    }
   ],
   "source": [
    "try:\n",
    "    iam_role_redshift = iam.create_role(\n",
    "        RoleName=iam_redshift_role_name,\n",
    "        AssumeRolePolicyDocument=json.dumps(assume_role_policy_doc),\n",
    "        Description='Team3 Redshift Role'\n",
    "    )\n",
    "except ClientError as e:\n",
    "    if e.response['Error']['Code'] == 'EntityAlreadyExists':\n",
    "        print(\"Role already exists\")\n",
    "    else:\n",
    "        print(\"Unexpected error: %s\" % e)"
   ]
  },
  {
   "cell_type": "code",
   "execution_count": 9,
   "metadata": {},
   "outputs": [
    {
     "name": "stdout",
     "output_type": "stream",
     "text": [
      "arn:aws:iam::211125778552:role/team3-Redshift-role\n"
     ]
    }
   ],
   "source": [
    "role = iam.get_role(RoleName='team3-Redshift-role')\n",
    "iam_role_redshift_arn = role['Role']['Arn']\n",
    "print(iam_role_redshift_arn)"
   ]
  },
  {
   "cell_type": "code",
   "execution_count": 10,
   "metadata": {},
   "outputs": [
    {
     "name": "stdout",
     "output_type": "stream",
     "text": [
      "211125778552\n"
     ]
    }
   ],
   "source": [
    "account_id = sts.get_caller_identity()['Account']\n",
    "print(account_id)"
   ]
  },
  {
   "cell_type": "code",
   "execution_count": 11,
   "metadata": {},
   "outputs": [
    {
     "name": "stdout",
     "output_type": "stream",
     "text": [
      "arn:aws:iam::aws:policy/AmazonS3FullAccess\n"
     ]
    }
   ],
   "source": [
    "policy_redshift_S3_Role = f'arn:aws:iam::aws:policy/AmazonS3FullAccess'\n",
    "print(policy_redshift_S3_Role)\n",
    "\n"
   ]
  },
  {
   "cell_type": "code",
   "execution_count": 12,
   "metadata": {},
   "outputs": [
    {
     "name": "stdout",
     "output_type": "stream",
     "text": [
      "arn:aws:iam::aws:policy/AmazonRedshiftFullAccess\n"
     ]
    }
   ],
   "source": [
    "policy_redshift_Role = f'arn:aws:iam::aws:policy/AmazonRedshiftFullAccess'\n",
    "print(policy_redshift_Role)\n",
    "\n",
    "#arn:aws:iam::aws:policy/AmazonRedshiftFullAccess#"
   ]
  },
  {
   "cell_type": "code",
   "execution_count": 13,
   "metadata": {},
   "outputs": [],
   "source": [
    "# Attach AmazonRedshiftFullAccess policy\n",
    "try:\n",
    "    response = iam.attach_role_policy(\n",
    "        PolicyArn=policy_redshift_Role,\n",
    "        RoleName=iam_redshift_role_name\n",
    "    )\n",
    "except ClientError as e:\n",
    "    if e.response['Error']['Code'] == 'EntityAlreadyExists':\n",
    "        print(\"Policy is already attached. This is ok.\")\n",
    "    else:\n",
    "        print(\"Unexpected error: %s\" % e)"
   ]
  },
  {
   "cell_type": "code",
   "execution_count": 14,
   "metadata": {},
   "outputs": [],
   "source": [
    "# Attach policy_redshift_S3_Role policy\n",
    "try:\n",
    "    response = iam.attach_role_policy(\n",
    "        PolicyArn=policy_redshift_S3_Role,\n",
    "        RoleName=iam_redshift_role_name\n",
    "    )\n",
    "except ClientError as e:\n",
    "    if e.response['Error']['Code'] == 'EntityAlreadyExists':\n",
    "        print(\"Policy is already attached. This is ok.\")\n",
    "    else:\n",
    "        print(\"Unexpected error: %s\" % e)"
   ]
  },
  {
   "cell_type": "markdown",
   "metadata": {},
   "source": [
    "Set Up Trust Relationships"
   ]
  },
  {
   "cell_type": "code",
   "execution_count": 15,
   "metadata": {},
   "outputs": [],
   "source": [
    "my_redshift_to_sagemaker_assumerole = {\n",
    "  \"Version\": \"2012-10-17\",\n",
    "  \"Statement\": [\n",
    "    {\n",
    "      \"Effect\": \"Allow\",\n",
    "      \"Principal\": {\n",
    "        \"Service\": \"redshift.amazonaws.com\"\n",
    "      },\n",
    "      \"Action\": \"sts:AssumeRole\"\n",
    "    },\n",
    "    {\n",
    "      \"Effect\": \"Allow\",\n",
    "      \"Principal\": {\n",
    "        \"Service\": \"sagemaker.amazonaws.com\"\n",
    "      },\n",
    "      \"Action\": \"sts:AssumeRole\"\n",
    "    }\n",
    "  ]\n",
    "}  "
   ]
  },
  {
   "cell_type": "code",
   "execution_count": 16,
   "metadata": {},
   "outputs": [],
   "source": [
    "try:\n",
    "    response = iam.update_assume_role_policy(\n",
    "        PolicyDocument=json.dumps(my_redshift_to_sagemaker_assumerole),\n",
    "        RoleName=iam_redshift_role_name\n",
    "    )\n",
    "except ClientError as e:\n",
    "    if e.response['Error']['Code'] == 'EntityAlreadyExists':\n",
    "        print(\"Policy is already attached. This is ok.\")\n",
    "    else:\n",
    "        print(\"Unexpected error: %s\" % e)"
   ]
  },
  {
   "cell_type": "markdown",
   "metadata": {},
   "source": [
    "## Set. Up Secrets"
   ]
  },
  {
   "cell_type": "code",
   "execution_count": 17,
   "metadata": {},
   "outputs": [
    {
     "name": "stdout",
     "output_type": "stream",
     "text": [
      "Secret already exists. This is ok.\n"
     ]
    }
   ],
   "source": [
    "secretsmanager = boto3.client('secretsmanager')\n",
    "\n",
    "try:\n",
    "    response = secretsmanager.create_secret(\n",
    "        Name='team3_redshift_login',\n",
    "        Description='Team3 Redshift Login',\n",
    "        SecretString='[{\"username\":\"team3\"},{\"password\":\"Courtdata3\"}]',\n",
    "        Tags=[\n",
    "            {\n",
    "                'Key': 'name',\n",
    "                'Value': 'team3_redshift_login'\n",
    "            },\n",
    "        ]\n",
    "    )\n",
    "except ClientError as e:\n",
    "    if e.response['Error']['Code'] == 'ResourceExistsException':\n",
    "        print(\"Secret already exists. This is ok.\")\n",
    "    else:\n",
    "        print(\"Unexpected error: %s\" % e)"
   ]
  },
  {
   "cell_type": "code",
   "execution_count": 18,
   "metadata": {},
   "outputs": [
    {
     "name": "stdout",
     "output_type": "stream",
     "text": [
      "courtdata\n"
     ]
    }
   ],
   "source": [
    "import json\n",
    "\n",
    "secret = secretsmanager.get_secret_value(SecretId='team3_redshift_login')\n",
    "cred = json.loads(secret['SecretString'])\n",
    "\n",
    "master_user_name = cred[0]['username']\n",
    "master_user_pw = cred[1]['password']\n",
    "\n",
    "print(master_user_pw)"
   ]
  },
  {
   "cell_type": "markdown",
   "metadata": {},
   "source": [
    "## Redshift Parameters"
   ]
  },
  {
   "cell_type": "code",
   "execution_count": 27,
   "metadata": {},
   "outputs": [],
   "source": [
    "try:\n",
    "    domain_id = sm.list_domains()['Domains'][0]['DomainId']\n",
    "    describe_domain_response = sm.describe_domain(DomainId=domain_id)\n",
    "    print(describe_domain_response)\n",
    "    vpc_id = describe_domain_response['VpcId']\n",
    "    security_groups = ec2.describe_security_groups()['SecurityGroups']\n",
    "    for security_group in security_groups:\n",
    "        if vpc_id == security_group['VpcId']:\n",
    "            security_group_id = security_group['GroupId']\n",
    "    print(security_group_id)    \n",
    "except:\n",
    "    pass"
   ]
  },
  {
   "cell_type": "code",
   "execution_count": 25,
   "metadata": {},
   "outputs": [],
   "source": [
    "try:\n",
    "    notebook_instance_name = sm.list_notebook_instances()['NotebookInstances'][0]['NotebookInstanceName']\n",
    "    notebook_instance = sm.describe_notebook_instance(NotebookInstanceName=notebook_instance_name)\n",
    "    security_group_id = notebook_instance['SecurityGroups'][0]\n",
    "    print(security_group_id)    \n",
    "except:\n",
    "    pass"
   ]
  },
  {
   "cell_type": "code",
   "execution_count": 21,
   "metadata": {},
   "outputs": [],
   "source": [
    "# Redshift configuration parameters\n",
    "redshift_cluster_identifier = 'team3'\n",
    "database_name = 'court-data'\n",
    "cluster_type = 'multi-node'\n",
    "\n",
    "# Note that only some Instance Types support Redshift Query Editor \n",
    "# (https://docs.aws.amazon.com/redshift/latest/mgmt/query-editor.html)\n",
    "node_type = 'dc2.large'\n",
    "number_nodes = '2' "
   ]
  },
  {
   "cell_type": "code",
   "execution_count": 25,
   "metadata": {},
   "outputs": [
    {
     "name": "stdout",
     "output_type": "stream",
     "text": [
      "{'Cluster': {'ClusterIdentifier': 'team3', 'NodeType': 'dc2.large', 'ClusterStatus': 'creating', 'ClusterAvailabilityStatus': 'Modifying', 'MasterUsername': 'team3', 'DBName': 'court-data', 'AutomatedSnapshotRetentionPeriod': 1, 'ManualSnapshotRetentionPeriod': -1, 'ClusterSecurityGroups': [], 'VpcSecurityGroups': [{'VpcSecurityGroupId': 'sg-026d17753b6e52719', 'Status': 'active'}], 'ClusterParameterGroups': [{'ParameterGroupName': 'default.redshift-1.0', 'ParameterApplyStatus': 'in-sync'}], 'ClusterSubnetGroupName': 'default', 'VpcId': 'vpc-0a19e74ac58edb30f', 'PreferredMaintenanceWindow': 'thu:06:00-thu:06:30', 'PendingModifiedValues': {'MasterUserPassword': '****'}, 'ClusterVersion': '1.0', 'AllowVersionUpgrade': True, 'NumberOfNodes': 2, 'PubliclyAccessible': False, 'Encrypted': False, 'Tags': [], 'EnhancedVpcRouting': False, 'IamRoles': [{'IamRoleArn': 'arn:aws:iam::211125778552:role/team3-Redshift-role', 'ApplyStatus': 'adding'}], 'MaintenanceTrackName': 'current', 'DeferredMaintenanceWindows': [], 'NextMaintenanceWindowStartTime': datetime.datetime(2024, 4, 4, 6, 0, tzinfo=tzlocal()), 'ClusterNamespaceArn': 'arn:aws:redshift:us-east-1:211125778552:namespace:064d4b1a-1679-4c8f-8b72-0af895581283', 'AquaConfiguration': {'AquaStatus': 'disabled', 'AquaConfigurationStatus': 'auto'}, 'MultiAZ': 'Disabled'}, 'ResponseMetadata': {'RequestId': '6db284c0-e5cf-4e01-88ab-d1ad50af2fbb', 'HTTPStatusCode': 200, 'HTTPHeaders': {'x-amzn-requestid': '6db284c0-e5cf-4e01-88ab-d1ad50af2fbb', 'content-type': 'text/xml', 'content-length': '2628', 'date': 'Thu, 04 Apr 2024 01:26:27 GMT'}, 'RetryAttempts': 0}}\n"
     ]
    }
   ],
   "source": [
    "response = redshift.create_cluster(\n",
    "        DBName=database_name,\n",
    "        ClusterIdentifier=redshift_cluster_identifier,\n",
    "        ClusterType=cluster_type,\n",
    "        NodeType=node_type,\n",
    "        NumberOfNodes=int(number_nodes),       \n",
    "        MasterUsername=master_user_name,\n",
    "        MasterUserPassword=master_user_pw,\n",
    "        IamRoles=[iam_role_redshift_arn],\n",
    "        VpcSecurityGroupIds=[security_group_id],\n",
    "        Port=5439,\n",
    "        PubliclyAccessible=False\n",
    ")\n",
    "\n",
    "print(response)"
   ]
  },
  {
   "cell_type": "code",
   "execution_count": null,
   "metadata": {},
   "outputs": [],
   "source": []
  }
 ],
 "metadata": {
  "kernelspec": {
   "display_name": "base",
   "language": "python",
   "name": "python3"
  },
  "language_info": {
   "codemirror_mode": {
    "name": "ipython",
    "version": 3
   },
   "file_extension": ".py",
   "mimetype": "text/x-python",
   "name": "python",
   "nbconvert_exporter": "python",
   "pygments_lexer": "ipython3",
   "version": "3.10.13"
  }
 },
 "nbformat": 4,
 "nbformat_minor": 2
}
