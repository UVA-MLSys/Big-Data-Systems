{
 "cells": [
  {
   "cell_type": "markdown",
   "metadata": {},
   "source": [
    "# Setup All Workshop Dependencies\n",
    "\n",
    "## _Note:  This Notebook Will Take A Few Minutes To Complete._\n",
    "\n",
    "## _Please Be Patient._"
   ]
  },
  {
   "cell_type": "code",
   "execution_count": 1,
   "metadata": {},
   "outputs": [
    {
     "name": "stdout",
     "output_type": "stream",
     "text": [
      "Python 3.7.16\n"
     ]
    }
   ],
   "source": [
    "!python --version"
   ]
  },
  {
   "cell_type": "code",
   "execution_count": 2,
   "metadata": {
    "scrolled": true
   },
   "outputs": [
    {
     "name": "stdout",
     "output_type": "stream",
     "text": [
      "Package              Version\n",
      "-------------------- -----------\n",
      "anyio                3.5.0\n",
      "argon2-cffi          21.3.0\n",
      "argon2-cffi-bindings 21.2.0\n",
      "attrs                22.1.0\n",
      "backcall             0.2.0\n",
      "beautifulsoup4       4.11.1\n",
      "bleach               4.1.0\n",
      "certifi              2022.12.7\n",
      "cffi                 1.15.1\n",
      "debugpy              1.5.1\n",
      "decorator            5.1.1\n",
      "defusedxml           0.7.1\n",
      "entrypoints          0.4\n",
      "fastjsonschema       2.16.2\n",
      "flit_core            3.6.0\n",
      "idna                 3.4\n",
      "importlib-metadata   4.11.3\n",
      "importlib-resources  5.2.0\n",
      "ipykernel            6.15.2\n",
      "ipython              7.31.1\n",
      "ipython-genutils     0.2.0\n",
      "ipywidgets           7.6.5\n",
      "jedi                 0.18.1\n",
      "Jinja2               3.1.2\n",
      "jsonschema           4.17.3\n",
      "jupyter_client       7.4.9\n",
      "jupyter_core         4.11.2\n",
      "jupyter-server       1.23.4\n",
      "jupyterlab-pygments  0.1.2\n",
      "jupyterlab-widgets   1.0.0\n",
      "lxml                 4.9.1\n",
      "MarkupSafe           2.1.1\n",
      "matplotlib-inline    0.1.6\n",
      "mistune              0.8.4\n",
      "nbclassic            0.5.2\n",
      "nbclient             0.5.13\n",
      "nbconvert            6.5.4\n",
      "nbformat             5.7.0\n",
      "nest-asyncio         1.5.6\n",
      "notebook             6.5.2\n",
      "notebook_shim        0.2.2\n",
      "packaging            22.0\n",
      "pandocfilters        1.5.0\n",
      "parso                0.8.3\n",
      "pexpect              4.8.0\n",
      "pickleshare          0.7.5\n",
      "pip                  22.3.1\n",
      "pkgutil_resolve_name 1.3.10\n",
      "prometheus-client    0.14.1\n",
      "prompt-toolkit       3.0.36\n",
      "psutil               5.9.0\n",
      "ptyprocess           0.7.0\n",
      "pycparser            2.21\n",
      "Pygments             2.11.2\n",
      "pyrsistent           0.18.0\n",
      "python-dateutil      2.8.2\n",
      "pyzmq                23.2.0\n",
      "Send2Trash           1.8.0\n",
      "setuptools           65.6.3\n",
      "six                  1.16.0\n",
      "sniffio              1.2.0\n",
      "soupsieve            2.3.2.post1\n",
      "terminado            0.17.1\n",
      "tinycss2             1.2.1\n",
      "tornado              6.2\n",
      "traitlets            5.7.1\n",
      "typing_extensions    4.4.0\n",
      "wcwidth              0.2.5\n",
      "webencodings         0.5.1\n",
      "websocket-client     0.58.0\n",
      "wheel                0.38.4\n",
      "widgetsnbextension   3.5.2\n",
      "zipp                 3.11.0\n"
     ]
    }
   ],
   "source": [
    "!pip list"
   ]
  },
  {
   "cell_type": "markdown",
   "metadata": {},
   "source": [
    "# Pip"
   ]
  },
  {
   "cell_type": "code",
   "execution_count": 3,
   "metadata": {},
   "outputs": [],
   "source": [
    "!pip install --disable-pip-version-check -q pip --upgrade > /dev/null\n",
    "!pip install --disable-pip-version-check -q wrapt --upgrade > /dev/null"
   ]
  },
  {
   "cell_type": "markdown",
   "metadata": {},
   "source": [
    "### _Ignore any warning or error message ^^ above ^^.  This is OK!_"
   ]
  },
  {
   "cell_type": "markdown",
   "metadata": {},
   "source": [
    "# AWS CLI and AWS Python SDK (boto3)"
   ]
  },
  {
   "cell_type": "code",
   "execution_count": 4,
   "metadata": {},
   "outputs": [],
   "source": [
    "!pip install --disable-pip-version-check -q awscli==1.18.216 boto3==1.16.56 botocore==1.19.56"
   ]
  },
  {
   "cell_type": "markdown",
   "metadata": {},
   "source": [
    "### _Ignore any warning or error message ^^ above ^^.  This is OK!_"
   ]
  },
  {
   "cell_type": "markdown",
   "metadata": {},
   "source": [
    "# SageMaker"
   ]
  },
  {
   "cell_type": "code",
   "execution_count": 5,
   "metadata": {},
   "outputs": [],
   "source": [
    "!pip install --disable-pip-version-check -q sagemaker==2.29.0\n",
    "!pip install --disable-pip-version-check -q smdebug==1.0.1\n",
    "!pip install --disable-pip-version-check -q sagemaker-experiments==0.1.26"
   ]
  },
  {
   "cell_type": "markdown",
   "metadata": {},
   "source": [
    "### _Ignore any warning or error message ^^ above ^^.  This is OK!_"
   ]
  },
  {
   "cell_type": "markdown",
   "metadata": {},
   "source": [
    "# PyTorch"
   ]
  },
  {
   "cell_type": "code",
   "execution_count": 6,
   "metadata": {},
   "outputs": [
    {
     "name": "stdout",
     "output_type": "stream",
     "text": [
      "Channels:\n",
      " - pytorch\n",
      " - defaults\n",
      "Platform: linux-64\n",
      "Collecting package metadata (repodata.json): done\n",
      "Solving environment: done\n",
      "\n",
      "## Package Plan ##\n",
      "\n",
      "  environment location: /home/sagemaker-user/.conda/envs/data_science_on_aws\n",
      "\n",
      "  added / updated specs:\n",
      "    - pytorch==1.6.0\n",
      "\n",
      "\n",
      "The following packages will be downloaded:\n",
      "\n",
      "    package                    |            build\n",
      "    ---------------------------|-----------------\n",
      "    blas-1.0                   |              mkl           6 KB\n",
      "    cudatoolkit-10.2.89        |       hfd86e86_1       365.1 MB\n",
      "    intel-openmp-2021.4.0      |    h06a4308_3561         4.2 MB\n",
      "    mkl-2021.4.0               |     h06a4308_640       142.6 MB\n",
      "    mkl-service-2.4.0          |   py37h7f8727e_0          56 KB\n",
      "    mkl_fft-1.3.1              |   py37hd3c417c_0         172 KB\n",
      "    mkl_random-1.2.2           |   py37h51133e4_0         287 KB\n",
      "    ninja-1.10.2               |       h06a4308_5           8 KB\n",
      "    ninja-base-1.10.2          |       hd09550d_5         109 KB\n",
      "    numpy-1.21.5               |   py37h6c91a56_3          10 KB\n",
      "    numpy-base-1.21.5          |   py37ha15fc14_3         4.8 MB\n",
      "    pytorch-1.6.0              |py3.7_cuda10.2.89_cudnn7.6.5_0       537.7 MB  pytorch\n",
      "    ------------------------------------------------------------\n",
      "                                           Total:        1.03 GB\n",
      "\n",
      "The following NEW packages will be INSTALLED:\n",
      "\n",
      "  blas               pkgs/main/linux-64::blas-1.0-mkl \n",
      "  cudatoolkit        pkgs/main/linux-64::cudatoolkit-10.2.89-hfd86e86_1 \n",
      "  intel-openmp       pkgs/main/linux-64::intel-openmp-2021.4.0-h06a4308_3561 \n",
      "  mkl                pkgs/main/linux-64::mkl-2021.4.0-h06a4308_640 \n",
      "  mkl-service        pkgs/main/linux-64::mkl-service-2.4.0-py37h7f8727e_0 \n",
      "  mkl_fft            pkgs/main/linux-64::mkl_fft-1.3.1-py37hd3c417c_0 \n",
      "  mkl_random         pkgs/main/linux-64::mkl_random-1.2.2-py37h51133e4_0 \n",
      "  ninja              pkgs/main/linux-64::ninja-1.10.2-h06a4308_5 \n",
      "  ninja-base         pkgs/main/linux-64::ninja-base-1.10.2-hd09550d_5 \n",
      "  numpy              pkgs/main/linux-64::numpy-1.21.5-py37h6c91a56_3 \n",
      "  numpy-base         pkgs/main/linux-64::numpy-base-1.21.5-py37ha15fc14_3 \n",
      "  pytorch            pytorch/linux-64::pytorch-1.6.0-py3.7_cuda10.2.89_cudnn7.6.5_0 \n",
      "\n",
      "\n",
      "\n",
      "Downloading and Extracting Packages:\n",
      "pytorch-1.6.0        | 537.7 MB  |                                       |   0% \n",
      "cudatoolkit-10.2.89  | 365.1 MB  |                                       |   0% \u001b[A\n",
      "\n",
      "mkl-2021.4.0         | 142.6 MB  |                                       |   0% \u001b[A\u001b[A\n",
      "\n",
      "\n",
      "numpy-base-1.21.5    | 4.8 MB    |                                       |   0% \u001b[A\u001b[A\u001b[A\n",
      "\n",
      "\n",
      "\n",
      "intel-openmp-2021.4. | 4.2 MB    |                                       |   0% \u001b[A\u001b[A\u001b[A\u001b[A\n",
      "\n",
      "\n",
      "\n",
      "\n",
      "mkl_random-1.2.2     | 287 KB    |                                       |   0% \u001b[A\u001b[A\u001b[A\u001b[A\u001b[A\n",
      "\n",
      "\n",
      "\n",
      "\n",
      "\n",
      "mkl_fft-1.3.1        | 172 KB    |                                       |   0% \u001b[A\u001b[A\u001b[A\u001b[A\u001b[A\u001b[A\n",
      "\n",
      "\n",
      "\n",
      "\n",
      "\n",
      "\n",
      "ninja-base-1.10.2    | 109 KB    |                                       |   0% \u001b[A\u001b[A\u001b[A\u001b[A\u001b[A\u001b[A\u001b[A\n",
      "\n",
      "\n",
      "\n",
      "\n",
      "\n",
      "\n",
      "\n",
      "mkl-service-2.4.0    | 56 KB     |                                       |   0% \u001b[A\u001b[A\u001b[A\u001b[A\u001b[A\u001b[A\u001b[A\u001b[A\n",
      "\n",
      "\n",
      "\n",
      "\n",
      "\n",
      "\n",
      "\n",
      "\n",
      "numpy-1.21.5         | 10 KB     |                                       |   0% \u001b[A\u001b[A\u001b[A\u001b[A\u001b[A\u001b[A\u001b[A\u001b[A\u001b[A\n",
      "\n",
      "\n",
      "\n",
      "\n",
      "\n",
      "\n",
      "\n",
      "\n",
      "\n",
      "ninja-1.10.2         | 8 KB      |                                       |   0% \u001b[A\u001b[A\u001b[A\u001b[A\u001b[A\u001b[A\u001b[A\u001b[A\u001b[A\u001b[A\n",
      "\n",
      "\n",
      "\n",
      "\n",
      "\n",
      "\n",
      "\n",
      "\n",
      "\n",
      "\n",
      "pytorch-1.6.0        | 537.7 MB  |                                       |   0% \u001b[A\u001b[A\u001b[A\u001b[A\u001b[A\u001b[A\u001b[A\u001b[A\u001b[A\u001b[A\u001b[A\n",
      "cudatoolkit-10.2.89  | 365.1 MB  | 1                                     |   0% \u001b[A\n",
      "\n",
      "mkl-2021.4.0         | 142.6 MB  | 5                                     |   1% \u001b[A\u001b[A\n",
      "\n",
      "\n",
      "numpy-base-1.21.5    | 4.8 MB    | #############6                        |  37% \u001b[A\u001b[A\u001b[A\n",
      "\n",
      "\n",
      "\n",
      "pytorch-1.6.0        | 537.7 MB  | 3                                     |   1% \u001b[A\u001b[A\u001b[A\u001b[A\n",
      "cudatoolkit-10.2.89  | 365.1 MB  | 6                                     |   2% \u001b[A\n",
      "\n",
      "mkl-2021.4.0         | 142.6 MB  | #7                                    |   5% \u001b[A\u001b[A\n",
      "\n",
      "\n",
      "\n",
      "\n",
      "pytorch-1.6.0        | 537.7 MB  | 6                                     |   2% \u001b[A\u001b[A\u001b[A\u001b[A\u001b[A\n",
      "cudatoolkit-10.2.89  | 365.1 MB  | #1                                    |   3% \u001b[A\n",
      "\n",
      "mkl-2021.4.0         | 142.6 MB  | ##8                                   |   8% \u001b[A\u001b[A\n",
      "\n",
      "\n",
      "\n",
      "\n",
      "\n",
      "\n",
      "ninja-base-1.10.2    | 109 KB    | #####4                                |  15% \u001b[A\u001b[A\u001b[A\u001b[A\u001b[A\u001b[A\u001b[A\n",
      "\n",
      "\n",
      "\n",
      "\n",
      "\n",
      "mkl_fft-1.3.1        | 172 KB    | ###4                                  |   9% \u001b[A\u001b[A\u001b[A\u001b[A\u001b[A\u001b[A\n",
      "\n",
      "\n",
      "\n",
      "\n",
      "\n",
      "\n",
      "\n",
      "mkl-service-2.4.0    | 56 KB     | ##########5                           |  28% \u001b[A\u001b[A\u001b[A\u001b[A\u001b[A\u001b[A\u001b[A\u001b[A\n",
      "\n",
      "\n",
      "\n",
      "\n",
      "\n",
      "\n",
      "\n",
      "\n",
      "numpy-1.21.5         | 10 KB     | ##################################### | 100% \u001b[A\u001b[A\u001b[A\u001b[A\u001b[A\u001b[A\u001b[A\u001b[A\u001b[A\n",
      "\n",
      "\n",
      "\n",
      "\n",
      "\n",
      "\n",
      "\n",
      "\n",
      "\n",
      "pytorch-1.6.0        | 537.7 MB  | 9                                     |   3% \u001b[A\u001b[A\u001b[A\u001b[A\u001b[A\u001b[A\u001b[A\u001b[A\u001b[A\u001b[A\n",
      "cudatoolkit-10.2.89  | 365.1 MB  | #6                                    |   4% \u001b[A\n",
      "\n",
      "mkl-2021.4.0         | 142.6 MB  | ###8                                  |  11% \u001b[A\u001b[A\n",
      "\n",
      "\n",
      "\n",
      "\n",
      "mkl_random-1.2.2     | 287 KB    | ##################################### | 100% \u001b[A\u001b[A\u001b[A\u001b[A\u001b[A\n",
      "\n",
      "\n",
      "\n",
      "\n",
      "mkl_random-1.2.2     | 287 KB    | ##################################### | 100% \u001b[A\u001b[A\u001b[A\u001b[A\u001b[A\n",
      "\n",
      "\n",
      "\n",
      "\n",
      "\n",
      "\n",
      "\n",
      "\n",
      "\n",
      "\n",
      "blas-1.0             | 6 KB      | ##################################### | 100% \u001b[A\u001b[A\u001b[A\u001b[A\u001b[A\u001b[A\u001b[A\u001b[A\u001b[A\u001b[A\u001b[A\n",
      "\n",
      "\n",
      "\n",
      "\n",
      "\n",
      "\n",
      "ninja-base-1.10.2    | 109 KB    | ##################################### | 100% \u001b[A\u001b[A\u001b[A\u001b[A\u001b[A\u001b[A\u001b[A\n",
      "\n",
      "\n",
      "\n",
      "\n",
      "\n",
      "\n",
      "pytorch-1.6.0        | 537.7 MB  | #2                                    |   3% \u001b[A\u001b[A\u001b[A\u001b[A\u001b[A\u001b[A\u001b[A\n",
      "cudatoolkit-10.2.89  | 365.1 MB  | ##                                    |   6% \u001b[A\n",
      "\n",
      "mkl-2021.4.0         | 142.6 MB  | ####9                                 |  13% \u001b[A\u001b[A\n",
      "\n",
      "\n",
      "\n",
      "\n",
      "\n",
      "mkl_fft-1.3.1        | 172 KB    | ##################################### | 100% \u001b[A\u001b[A\u001b[A\u001b[A\u001b[A\u001b[A\n",
      "\n",
      "\n",
      "\n",
      "\n",
      "\n",
      "pytorch-1.6.0        | 537.7 MB  | #5                                    |   4% \u001b[A\u001b[A\u001b[A\u001b[A\u001b[A\u001b[A\n",
      "cudatoolkit-10.2.89  | 365.1 MB  | ##5                                   |   7% \u001b[A\n",
      "\n",
      "mkl-2021.4.0         | 142.6 MB  | #####9                                |  16% \u001b[A\u001b[A\n",
      "\n",
      "\n",
      "\n",
      "\n",
      "\n",
      "\n",
      "\n",
      "mkl-service-2.4.0    | 56 KB     | ##################################### | 100% \u001b[A\u001b[A\u001b[A\u001b[A\u001b[A\u001b[A\u001b[A\u001b[A\n",
      "\n",
      "\n",
      "\n",
      "\n",
      "\n",
      "\n",
      "\n",
      "mkl-service-2.4.0    | 56 KB     | ##################################### | 100% \u001b[A\u001b[A\u001b[A\u001b[A\u001b[A\u001b[A\u001b[A\u001b[A\n",
      "\n",
      "\n",
      "\n",
      "\n",
      "\n",
      "\n",
      "\n",
      "\n",
      "pytorch-1.6.0        | 537.7 MB  | #8                                    |   5% \u001b[A\u001b[A\u001b[A\u001b[A\u001b[A\u001b[A\u001b[A\u001b[A\u001b[A\n",
      "cudatoolkit-10.2.89  | 365.1 MB  | ##9                                   |   8% \u001b[A\n",
      "\n",
      "mkl-2021.4.0         | 142.6 MB  | #######                               |  19% \u001b[A\u001b[A\n",
      "\n",
      "\n",
      "\n",
      "\n",
      "\n",
      "\n",
      "\n",
      "\n",
      "\n",
      "ninja-1.10.2         | 8 KB      | ##################################### | 100% \u001b[A\u001b[A\u001b[A\u001b[A\u001b[A\u001b[A\u001b[A\u001b[A\u001b[A\u001b[A\n",
      "\n",
      "\n",
      "\n",
      "\n",
      "\n",
      "\n",
      "\n",
      "\n",
      "\n",
      "\n",
      "pytorch-1.6.0        | 537.7 MB  | ##1                                   |   6% \u001b[A\u001b[A\u001b[A\u001b[A\u001b[A\u001b[A\u001b[A\u001b[A\u001b[A\u001b[A\u001b[A\n",
      "cudatoolkit-10.2.89  | 365.1 MB  | ###4                                  |   9% \u001b[A\n",
      "\n",
      "mkl-2021.4.0         | 142.6 MB  | ########1                             |  22% \u001b[A\u001b[A\n",
      "\n",
      "\n",
      "\n",
      "intel-openmp-2021.4. | 4.2 MB    | ##################################### | 100% \u001b[A\u001b[A\u001b[A\u001b[A\n",
      "\n",
      "\n",
      "\n",
      "pytorch-1.6.0        | 537.7 MB  | ##4                                   |   7% \u001b[A\u001b[A\u001b[A\u001b[A\n",
      "cudatoolkit-10.2.89  | 365.1 MB  | ####                                  |  11% \u001b[A\n",
      "\n",
      "pytorch-1.6.0        | 537.7 MB  | ##8                                   |   8% \u001b[A\u001b[A\n",
      "cudatoolkit-10.2.89  | 365.1 MB  | ####7                                 |  13% \u001b[A\n",
      "\n",
      "pytorch-1.6.0        | 537.7 MB  | ###2                                  |   9% \u001b[A\u001b[A\n",
      "cudatoolkit-10.2.89  | 365.1 MB  | #####4                                |  15% \u001b[A\n",
      "\n",
      "pytorch-1.6.0        | 537.7 MB  | ###6                                  |  10% \u001b[A\u001b[A\n",
      "cudatoolkit-10.2.89  | 365.1 MB  | ######                                |  16% \u001b[A\n",
      "\n",
      "pytorch-1.6.0        | 537.7 MB  | ####                                  |  11% \u001b[A\u001b[A\n",
      "cudatoolkit-10.2.89  | 365.1 MB  | ######7                               |  18% \u001b[A\n",
      "\n",
      "mkl-2021.4.0         | 142.6 MB  | ################3                     |  44% \u001b[A\u001b[A\n",
      "cudatoolkit-10.2.89  | 365.1 MB  | #######6                              |  21% \u001b[A\n",
      "\n",
      "pytorch-1.6.0        | 537.7 MB  | ####3                                 |  12% \u001b[A\u001b[A\n",
      "\n",
      "mkl-2021.4.0         | 142.6 MB  | ####################3                 |  55% \u001b[A\u001b[A\n",
      "pytorch-1.6.0        | 537.7 MB  | ####8                                 |  13% \u001b[A\n",
      "\n",
      "mkl-2021.4.0         | 142.6 MB  | ######################                |  60% \u001b[A\u001b[A\n",
      "pytorch-1.6.0        | 537.7 MB  | #####2                                |  14% \u001b[A\n",
      "cudatoolkit-10.2.89  | 365.1 MB  | #########6                            |  26% \u001b[A\n",
      "\n",
      "pytorch-1.6.0        | 537.7 MB  | #####6                                |  15% \u001b[A\u001b[A\n",
      "cudatoolkit-10.2.89  | 365.1 MB  | ##########4                           |  28% \u001b[A\n",
      "\n",
      "pytorch-1.6.0        | 537.7 MB  | ######                                |  16% \u001b[A\u001b[A\n",
      "cudatoolkit-10.2.89  | 365.1 MB  | ###########1                          |  30% \u001b[A\n",
      "\n",
      "pytorch-1.6.0        | 537.7 MB  | ######4                               |  17% \u001b[A\u001b[A\n",
      "cudatoolkit-10.2.89  | 365.1 MB  | ###########8                          |  32% \u001b[A\n",
      "\n",
      "pytorch-1.6.0        | 537.7 MB  | ######8                               |  18% \u001b[A\u001b[A\n",
      "cudatoolkit-10.2.89  | 365.1 MB  | ############5                         |  34% \u001b[A\n",
      "\n",
      "pytorch-1.6.0        | 537.7 MB  | #######2                              |  20% \u001b[A\u001b[A\n",
      "cudatoolkit-10.2.89  | 365.1 MB  | #############3                        |  36% \u001b[A\n",
      "\n",
      "pytorch-1.6.0        | 537.7 MB  | #######6                              |  21% \u001b[A\u001b[A\n",
      "cudatoolkit-10.2.89  | 365.1 MB  | ##############                        |  38% \u001b[A\n",
      "\n",
      "mkl-2021.4.0         | 142.6 MB  | ###################################1  |  95% \u001b[A\u001b[A\n",
      "\n",
      "\n",
      "numpy-base-1.21.5    | 4.8 MB    | ##################################### | 100% \u001b[A\u001b[A\u001b[A\n",
      "\n",
      "\n",
      "pytorch-1.6.0        | 537.7 MB  | ########1                             |  22% \u001b[A\u001b[A\u001b[A\n",
      "pytorch-1.6.0        | 537.7 MB  | ########5                             |  23% \u001b[A\n",
      "pytorch-1.6.0        | 537.7 MB  | #########                             |  24% \u001b[A\n",
      "pytorch-1.6.0        | 537.7 MB  | #########4                            |  25% \u001b[A\n",
      "pytorch-1.6.0        | 537.7 MB  | #########8                            |  27% \u001b[A\n",
      "cudatoolkit-10.2.89  | 365.1 MB  | ##################5                   |  50% \u001b[A\n",
      "pytorch-1.6.0        | 537.7 MB  | ##########3                           |  28% \u001b[A\n",
      "pytorch-1.6.0        | 537.7 MB  | ##########7                           |  29% \u001b[A\n",
      "pytorch-1.6.0        | 537.7 MB  | ###########1                          |  30% \u001b[A\n",
      "pytorch-1.6.0        | 537.7 MB  | ###########5                          |  31% \u001b[A\n",
      "pytorch-1.6.0        | 537.7 MB  | ############                          |  33% \u001b[A\n",
      "pytorch-1.6.0        | 537.7 MB  | ############5                         |  34% \u001b[A\n",
      "pytorch-1.6.0        | 537.7 MB  | ############9                         |  35% \u001b[A\n",
      "pytorch-1.6.0        | 537.7 MB  | #############3                        |  36% \u001b[A\n",
      "pytorch-1.6.0        | 537.7 MB  | #############8                        |  37% \u001b[A\n",
      "pytorch-1.6.0        | 537.7 MB  | ##############6                       |  40% \u001b[A\n",
      "cudatoolkit-10.2.89  | 365.1 MB  | ############################6         |  77% \u001b[A\n",
      "pytorch-1.6.0        | 537.7 MB  | ###############1                      |  41% \u001b[A\n",
      "cudatoolkit-10.2.89  | 365.1 MB  | ##############################6       |  83% \u001b[A\n",
      "pytorch-1.6.0        | 537.7 MB  | ###############5                      |  42% \u001b[A\n",
      "pytorch-1.6.0        | 537.7 MB  | ###############9                      |  43% \u001b[A\n",
      "cudatoolkit-10.2.89  | 365.1 MB  | #################################4    |  90% \u001b[A\n",
      "cudatoolkit-10.2.89  | 365.1 MB  | ##################################3   |  93% \u001b[A\n",
      "pytorch-1.6.0        | 537.7 MB  | ################3                     |  44% \u001b[A\n",
      "pytorch-1.6.0        | 537.7 MB  | ####################8                 |  56% \u001b[A\n",
      "\n",
      "mkl-2021.4.0         | 142.6 MB  | ##################################### | 100% \u001b[A\u001b[A\n",
      "\n",
      "pytorch-1.6.0        | 537.7 MB  | #################################5    |  91% \u001b[A\u001b[A\n",
      "                                                                                \u001b[A\n",
      "                                                                                \u001b[A\n",
      "\n",
      "                                                                                \u001b[A\u001b[A\n",
      "\n",
      "\n",
      "                                                                                \u001b[A\u001b[A\u001b[A\n",
      "\n",
      "\n",
      "\n",
      "                                                                                \u001b[A\u001b[A\u001b[A\u001b[A\n",
      "\n",
      "\n",
      "\n",
      "\n",
      "                                                                                \u001b[A\u001b[A\u001b[A\u001b[A\u001b[A\n",
      "\n",
      "\n",
      "\n",
      "\n",
      "\n",
      "                                                                                \u001b[A\u001b[A\u001b[A\u001b[A\u001b[A\u001b[A\n",
      "\n",
      "\n",
      "\n",
      "\n",
      "\n",
      "\n",
      "                                                                                \u001b[A\u001b[A\u001b[A\u001b[A\u001b[A\u001b[A\u001b[A\n",
      "\n",
      "\n",
      "\n",
      "\n",
      "\n",
      "\n",
      "\n",
      "                                                                                \u001b[A\u001b[A\u001b[A\u001b[A\u001b[A\u001b[A\u001b[A\u001b[A\n",
      "\n",
      "\n",
      "\n",
      "\n",
      "\n",
      "\n",
      "\n",
      "\n",
      "                                                                                \u001b[A\u001b[A\u001b[A\u001b[A\u001b[A\u001b[A\u001b[A\u001b[A\u001b[A\n",
      "\n",
      "\n",
      "\n",
      "\n",
      "\n",
      "\n",
      "\n",
      "\n",
      "\n",
      "                                                                                \u001b[A\u001b[A\u001b[A\u001b[A\u001b[A\u001b[A\u001b[A\u001b[A\u001b[A\u001b[A\n",
      "\n",
      "\n",
      "\n",
      "\n",
      "\n",
      "\n",
      "\n",
      "\n",
      "\n",
      "\n",
      "                                                                                \u001b[A\u001b[A\u001b[A\u001b[A\u001b[A\u001b[A\u001b[A\u001b[A\u001b[A\u001b[A\u001b[A\n",
      "Preparing transaction: done\n",
      "Verifying transaction: done\n",
      "Executing transaction: done\n"
     ]
    }
   ],
   "source": [
    "!conda install -y pytorch==1.6.0 -c pytorch"
   ]
  },
  {
   "cell_type": "markdown",
   "metadata": {},
   "source": [
    "# TensorFlow"
   ]
  },
  {
   "cell_type": "code",
   "execution_count": 7,
   "metadata": {},
   "outputs": [
    {
     "name": "stdout",
     "output_type": "stream",
     "text": [
      "\u001b[31mERROR: pip's dependency resolver does not currently take into account all the packages that are installed. This behaviour is the source of the following dependency conflicts.\n",
      "torch 1.6.0 requires future, which is not installed.\u001b[0m\u001b[31m\n",
      "\u001b[0m"
     ]
    }
   ],
   "source": [
    "!pip install --disable-pip-version-check -q tensorflow==2.3.1"
   ]
  },
  {
   "cell_type": "markdown",
   "metadata": {},
   "source": [
    "### _Ignore any warning or error message ^^ above ^^.  This is OK!_"
   ]
  },
  {
   "cell_type": "markdown",
   "metadata": {},
   "source": [
    "# Hugging Face Transformers (BERT)"
   ]
  },
  {
   "cell_type": "code",
   "execution_count": 8,
   "metadata": {},
   "outputs": [],
   "source": [
    "!pip install --disable-pip-version-check -q transformers==3.5.1"
   ]
  },
  {
   "cell_type": "markdown",
   "metadata": {},
   "source": [
    "### _Ignore any warning or error message ^^ above ^^.  This is OK!_"
   ]
  },
  {
   "cell_type": "markdown",
   "metadata": {},
   "source": [
    "# TorchServe"
   ]
  },
  {
   "cell_type": "code",
   "execution_count": 9,
   "metadata": {},
   "outputs": [],
   "source": [
    "!pip install --disable-pip-version-check -q torchserve==0.3.0\n",
    "!pip install --disable-pip-version-check -q torch-model-archiver==0.3.0"
   ]
  },
  {
   "cell_type": "markdown",
   "metadata": {},
   "source": [
    "### _Ignore any warning or error message ^^ above ^^.  This is OK!_"
   ]
  },
  {
   "cell_type": "markdown",
   "metadata": {},
   "source": [
    "# PyAthena"
   ]
  },
  {
   "cell_type": "code",
   "execution_count": 10,
   "metadata": {},
   "outputs": [],
   "source": [
    "!pip install --disable-pip-version-check -q PyAthena==2.1.0"
   ]
  },
  {
   "cell_type": "markdown",
   "metadata": {},
   "source": [
    "### _Ignore any warning or error message ^^ above ^^.  This is OK!_"
   ]
  },
  {
   "cell_type": "markdown",
   "metadata": {},
   "source": [
    "# Redshift"
   ]
  },
  {
   "cell_type": "code",
   "execution_count": 11,
   "metadata": {},
   "outputs": [],
   "source": [
    "!pip install --disable-pip-version-check -q SQLAlchemy==1.3.22\n",
    "!pip install --disable-pip-version-check -q psycopg2-binary==2.9.1"
   ]
  },
  {
   "cell_type": "markdown",
   "metadata": {},
   "source": [
    "### _Ignore any warning or error message ^^ above ^^.  This is OK!_"
   ]
  },
  {
   "cell_type": "markdown",
   "metadata": {},
   "source": [
    "# AWS Data Wrangler"
   ]
  },
  {
   "cell_type": "code",
   "execution_count": 12,
   "metadata": {},
   "outputs": [
    {
     "name": "stdout",
     "output_type": "stream",
     "text": [
      "\u001b[31mERROR: pip's dependency resolver does not currently take into account all the packages that are installed. This behaviour is the source of the following dependency conflicts.\n",
      "awscli 1.18.216 requires botocore==1.19.56, but you have botocore 1.33.13 which is incompatible.\n",
      "awscli 1.18.216 requires s3transfer<0.4.0,>=0.3.0, but you have s3transfer 0.8.2 which is incompatible.\u001b[0m\u001b[31m\n",
      "\u001b[0m"
     ]
    }
   ],
   "source": [
    "!pip install --disable-pip-version-check -q awswrangler==2.13.0"
   ]
  },
  {
   "cell_type": "markdown",
   "metadata": {},
   "source": [
    "### _Ignore any warning or error message ^^ above ^^.  This is OK!_"
   ]
  },
  {
   "cell_type": "markdown",
   "metadata": {},
   "source": [
    "# StepFunctions"
   ]
  },
  {
   "cell_type": "code",
   "execution_count": 13,
   "metadata": {},
   "outputs": [],
   "source": [
    "!pip install --disable-pip-version-check -q stepfunctions==2.0.0rc1"
   ]
  },
  {
   "cell_type": "markdown",
   "metadata": {},
   "source": [
    "### _Ignore any warning or error message ^^ above ^^.  This is OK!_"
   ]
  },
  {
   "cell_type": "markdown",
   "metadata": {},
   "source": [
    "# Zip"
   ]
  },
  {
   "cell_type": "code",
   "execution_count": 14,
   "metadata": {},
   "outputs": [
    {
     "name": "stdout",
     "output_type": "stream",
     "text": [
      "Channels:\n",
      " - defaults\n",
      " - pytorch\n",
      "Platform: linux-64\n",
      "Collecting package metadata (repodata.json): done\n",
      "Solving environment: done\n",
      "\n",
      "## Package Plan ##\n",
      "\n",
      "  environment location: /home/sagemaker-user/.conda/envs/data_science_on_aws\n",
      "\n",
      "  added / updated specs:\n",
      "    - zip\n",
      "\n",
      "\n",
      "The following packages will be downloaded:\n",
      "\n",
      "    package                    |            build\n",
      "    ---------------------------|-----------------\n",
      "    zip-3.0                    |       h7f8727e_1         111 KB\n",
      "    ------------------------------------------------------------\n",
      "                                           Total:         111 KB\n",
      "\n",
      "The following NEW packages will be INSTALLED:\n",
      "\n",
      "  zip                pkgs/main/linux-64::zip-3.0-h7f8727e_1 \n",
      "\n",
      "\n",
      "\n",
      "Downloading and Extracting Packages:\n",
      "                                                                                \n",
      "Preparing transaction: done\n",
      "Verifying transaction: done\n",
      "Executing transaction: done\n"
     ]
    }
   ],
   "source": [
    "!conda install -y zip"
   ]
  },
  {
   "cell_type": "markdown",
   "metadata": {},
   "source": [
    "# Matplotlib"
   ]
  },
  {
   "cell_type": "code",
   "execution_count": 15,
   "metadata": {},
   "outputs": [],
   "source": [
    "!pip install --disable-pip-version-check -q matplotlib==3.1.3"
   ]
  },
  {
   "cell_type": "markdown",
   "metadata": {},
   "source": [
    "### _Ignore any warning or error message ^^ above ^^.  This is OK!_"
   ]
  },
  {
   "cell_type": "markdown",
   "metadata": {},
   "source": [
    "# Seaborn"
   ]
  },
  {
   "cell_type": "code",
   "execution_count": 16,
   "metadata": {},
   "outputs": [],
   "source": [
    "!pip install --disable-pip-version-check -q seaborn==0.10.0"
   ]
  },
  {
   "cell_type": "markdown",
   "metadata": {},
   "source": [
    "### _Ignore any warning or error message ^^ above ^^.  This is OK!_"
   ]
  },
  {
   "cell_type": "markdown",
   "metadata": {},
   "source": [
    "# AWS CLI and Credentials (Optional)\n",
    "If you are running outside of an AWS account, you should uncomment and run the cells below."
   ]
  },
  {
   "cell_type": "code",
   "execution_count": 17,
   "metadata": {},
   "outputs": [],
   "source": [
    "# !pip install awscli"
   ]
  },
  {
   "cell_type": "code",
   "execution_count": 18,
   "metadata": {},
   "outputs": [],
   "source": [
    "# !mkdir ~/.aws"
   ]
  },
  {
   "cell_type": "code",
   "execution_count": 19,
   "metadata": {},
   "outputs": [],
   "source": [
    "# %%writefile ~/.aws/credentials\n",
    "\n",
    "# [default]\n",
    "# aws_access_key_id = <ACCESS_KEY_ID>\n",
    "# aws_secret_access_key = <SECRET_ACCESS_KEY> "
   ]
  },
  {
   "cell_type": "code",
   "execution_count": 20,
   "metadata": {},
   "outputs": [],
   "source": [
    "# %%writefile ~/.aws/config\n",
    "\n",
    "# [default]\n",
    "# region=<REGION_NAME> # us-east-1"
   ]
  },
  {
   "cell_type": "markdown",
   "metadata": {},
   "source": [
    "# Summarize"
   ]
  },
  {
   "cell_type": "code",
   "execution_count": 21,
   "metadata": {},
   "outputs": [
    {
     "name": "stdout",
     "output_type": "stream",
     "text": [
      "Python 3.7.16\n"
     ]
    }
   ],
   "source": [
    "!python --version"
   ]
  },
  {
   "cell_type": "code",
   "execution_count": 22,
   "metadata": {
    "scrolled": true
   },
   "outputs": [
    {
     "name": "stdout",
     "output_type": "stream",
     "text": [
      "Package                 Version\n",
      "----------------------- -----------\n",
      "absl-py                 2.1.0\n",
      "anyio                   3.5.0\n",
      "argon2-cffi             21.3.0\n",
      "argon2-cffi-bindings    21.2.0\n",
      "asn1crypto              1.5.1\n",
      "astunparse              1.6.3\n",
      "attrs                   22.1.0\n",
      "awscli                  1.18.216\n",
      "awswrangler             2.13.0\n",
      "backcall                0.2.0\n",
      "beautifulsoup4          4.11.1\n",
      "bleach                  4.1.0\n",
      "boto3                   1.33.13\n",
      "botocore                1.33.13\n",
      "cachetools              5.3.3\n",
      "certifi                 2022.12.7\n",
      "cffi                    1.15.1\n",
      "charset-normalizer      3.3.2\n",
      "click                   8.1.7\n",
      "colorama                0.4.3\n",
      "cycler                  0.11.0\n",
      "debugpy                 1.5.1\n",
      "decorator               5.1.1\n",
      "defusedxml              0.7.1\n",
      "docutils                0.15.2\n",
      "entrypoints             0.4\n",
      "enum-compat             0.0.3\n",
      "et-xmlfile              1.1.0\n",
      "fastjsonschema          2.16.2\n",
      "filelock                3.12.2\n",
      "flit_core               3.6.0\n",
      "future                  1.0.0\n",
      "gast                    0.3.3\n",
      "google-auth             2.29.0\n",
      "google-auth-oauthlib    0.4.6\n",
      "google-pasta            0.2.0\n",
      "grpcio                  1.62.2\n",
      "h5py                    2.10.0\n",
      "idna                    3.4\n",
      "importlib-metadata      4.11.3\n",
      "importlib-resources     5.2.0\n",
      "ipykernel               6.15.2\n",
      "ipython                 7.31.1\n",
      "ipython-genutils        0.2.0\n",
      "ipywidgets              7.6.5\n",
      "jedi                    0.18.1\n",
      "Jinja2                  3.1.2\n",
      "jmespath                0.10.0\n",
      "joblib                  1.3.2\n",
      "jsonpath-ng             1.6.1\n",
      "jsonschema              4.17.3\n",
      "jupyter_client          7.4.9\n",
      "jupyter_core            4.11.2\n",
      "jupyter-server          1.23.4\n",
      "jupyterlab-pygments     0.1.2\n",
      "jupyterlab-widgets      1.0.0\n",
      "Keras-Preprocessing     1.1.2\n",
      "kiwisolver              1.4.5\n",
      "lxml                    4.9.1\n",
      "Markdown                3.4.4\n",
      "MarkupSafe              2.1.1\n",
      "matplotlib              3.1.3\n",
      "matplotlib-inline       0.1.6\n",
      "mistune                 0.8.4\n",
      "mkl-fft                 1.3.1\n",
      "mkl-random              1.2.2\n",
      "mkl-service             2.4.0\n",
      "nbclassic               0.5.2\n",
      "nbclient                0.5.13\n",
      "nbconvert               6.5.4\n",
      "nbformat                5.7.0\n",
      "nest-asyncio            1.5.6\n",
      "notebook                6.5.2\n",
      "notebook_shim           0.2.2\n",
      "numpy                   1.18.5\n",
      "oauthlib                3.2.2\n",
      "openpyxl                3.0.10\n",
      "opensearch-py           1.1.0\n",
      "opt-einsum              3.3.0\n",
      "packaging               22.0\n",
      "pandas                  1.3.5\n",
      "pandocfilters           1.5.0\n",
      "parso                   0.8.3\n",
      "pexpect                 4.8.0\n",
      "pg8000                  1.22.1\n",
      "pickleshare             0.7.5\n",
      "Pillow                  9.5.0\n",
      "pip                     24.0\n",
      "pkgutil_resolve_name    1.3.10\n",
      "ply                     3.11\n",
      "progressbar2            3.55.0\n",
      "prometheus-client       0.14.1\n",
      "prompt-toolkit          3.0.36\n",
      "protobuf                3.20.3\n",
      "protobuf3-to-dict       0.1.5\n",
      "psutil                  5.9.0\n",
      "psycopg2-binary         2.9.1\n",
      "ptyprocess              0.7.0\n",
      "pyarrow                 6.0.1\n",
      "pyasn1                  0.5.1\n",
      "pyasn1-modules          0.3.0\n",
      "pyathena                2.1.0\n",
      "pycparser               2.21\n",
      "Pygments                2.11.2\n",
      "pyinstrument            4.6.2\n",
      "PyMySQL                 1.0.3\n",
      "pyparsing               3.1.2\n",
      "pyrsistent              0.18.0\n",
      "python-dateutil         2.8.2\n",
      "python-utils            3.5.2\n",
      "pytz                    2024.1\n",
      "PyYAML                  5.3.1\n",
      "pyzmq                   23.2.0\n",
      "redshift-connector      2.0.918\n",
      "regex                   2024.4.16\n",
      "requests                2.31.0\n",
      "requests-aws4auth       1.2.3\n",
      "requests-oauthlib       2.0.0\n",
      "rsa                     4.5\n",
      "s3transfer              0.8.2\n",
      "sacremoses              0.0.53\n",
      "sagemaker               2.29.0\n",
      "sagemaker-experiments   0.1.26\n",
      "scipy                   1.7.3\n",
      "scramp                  1.4.4\n",
      "seaborn                 0.10.0\n",
      "Send2Trash              1.8.0\n",
      "sentencepiece           0.1.91\n",
      "setuptools              65.6.3\n",
      "six                     1.16.0\n",
      "smdebug                 1.0.1\n",
      "smdebug-rulesconfig     1.0.1\n",
      "sniffio                 1.2.0\n",
      "soupsieve               2.3.2.post1\n",
      "SQLAlchemy              1.3.22\n",
      "stepfunctions           2.0.0rc1\n",
      "tenacity                8.2.3\n",
      "tensorboard             2.11.2\n",
      "tensorboard-data-server 0.6.1\n",
      "tensorboard-plugin-wit  1.8.1\n",
      "tensorflow              2.3.1\n",
      "tensorflow-estimator    2.3.0\n",
      "termcolor               2.3.0\n",
      "terminado               0.17.1\n",
      "tinycss2                1.2.1\n",
      "tokenizers              0.9.3\n",
      "torch                   1.6.0\n",
      "torch-model-archiver    0.3.0\n",
      "torchserve              0.3.0\n",
      "tornado                 6.2\n",
      "tqdm                    4.66.2\n",
      "traitlets               5.7.1\n",
      "transformers            3.5.1\n",
      "typing_extensions       4.4.0\n",
      "urllib3                 1.26.18\n",
      "wcwidth                 0.2.5\n",
      "webencodings            0.5.1\n",
      "websocket-client        0.58.0\n",
      "Werkzeug                2.2.3\n",
      "wheel                   0.38.4\n",
      "widgetsnbextension      3.5.2\n",
      "wrapt                   1.16.0\n",
      "zipp                    3.11.0\n"
     ]
    }
   ],
   "source": [
    "!pip list"
   ]
  },
  {
   "cell_type": "code",
   "execution_count": 23,
   "metadata": {},
   "outputs": [],
   "source": [
    "setup_dependencies_passed = True"
   ]
  },
  {
   "cell_type": "code",
   "execution_count": 24,
   "metadata": {},
   "outputs": [
    {
     "name": "stdout",
     "output_type": "stream",
     "text": [
      "Stored 'setup_dependencies_passed' (bool)\n"
     ]
    }
   ],
   "source": [
    "%store setup_dependencies_passed"
   ]
  },
  {
   "cell_type": "code",
   "execution_count": 25,
   "metadata": {},
   "outputs": [
    {
     "name": "stdout",
     "output_type": "stream",
     "text": [
      "Stored variables and their in-db values:\n",
      "setup_dependencies_passed             -> True\n"
     ]
    }
   ],
   "source": [
    "%store"
   ]
  },
  {
   "cell_type": "markdown",
   "metadata": {},
   "source": [
    "# Release Resources"
   ]
  },
  {
   "cell_type": "code",
   "execution_count": 26,
   "metadata": {},
   "outputs": [
    {
     "data": {
      "text/html": [
       "\n",
       "<p><b>Shutting down your kernel for this notebook to release resources.</b></p>\n",
       "<button class=\"sm-command-button\" data-commandlinker-command=\"kernelmenu:shutdown\" style=\"display:none;\">Shutdown Kernel</button>\n",
       "        \n",
       "<script>\n",
       "try {\n",
       "    els = document.getElementsByClassName(\"sm-command-button\");\n",
       "    els[0].click();\n",
       "}\n",
       "catch(err) {\n",
       "    // NoOp\n",
       "}    \n",
       "</script>\n"
      ],
      "text/plain": [
       "<IPython.core.display.HTML object>"
      ]
     },
     "metadata": {},
     "output_type": "display_data"
    }
   ],
   "source": [
    "%%html\n",
    "\n",
    "<p><b>Shutting down your kernel for this notebook to release resources.</b></p>\n",
    "<button class=\"sm-command-button\" data-commandlinker-command=\"kernelmenu:shutdown\" style=\"display:none;\">Shutdown Kernel</button>\n",
    "        \n",
    "<script>\n",
    "try {\n",
    "    els = document.getElementsByClassName(\"sm-command-button\");\n",
    "    els[0].click();\n",
    "}\n",
    "catch(err) {\n",
    "    // NoOp\n",
    "}    \n",
    "</script>"
   ]
  },
  {
   "cell_type": "code",
   "execution_count": 27,
   "metadata": {},
   "outputs": [
    {
     "data": {
      "application/javascript": "\ntry {\n    Jupyter.notebook.save_checkpoint();\n    Jupyter.notebook.session.delete();\n}\ncatch(err) {\n    // NoOp\n}\n",
      "text/plain": [
       "<IPython.core.display.Javascript object>"
      ]
     },
     "metadata": {},
     "output_type": "display_data"
    }
   ],
   "source": [
    "%%javascript\n",
    "\n",
    "try {\n",
    "    Jupyter.notebook.save_checkpoint();\n",
    "    Jupyter.notebook.session.delete();\n",
    "}\n",
    "catch(err) {\n",
    "    // NoOp\n",
    "}"
   ]
  }
 ],
 "metadata": {
  "instance_type": "ml.t3.medium",
  "kernelspec": {
   "display_name": "Python 3 (ipykernel)",
   "language": "python",
   "name": "python3"
  },
  "language_info": {
   "codemirror_mode": {
    "name": "ipython",
    "version": 3
   },
   "file_extension": ".py",
   "mimetype": "text/x-python",
   "name": "python",
   "nbconvert_exporter": "python",
   "pygments_lexer": "ipython3",
   "version": "3.7.16"
  }
 },
 "nbformat": 4,
 "nbformat_minor": 4
}
