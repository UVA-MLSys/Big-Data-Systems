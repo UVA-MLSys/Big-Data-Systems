{
 "cells": [
  {
   "cell_type": "code",
   "execution_count": 1,
   "id": "2c6ce867-8a6e-4f15-bad3-9b5ad3445514",
   "metadata": {
    "tags": []
   },
   "outputs": [],
   "source": [
    "import pandas as pd\n",
    "from sklearn.model_selection import train_test_split\n",
    "from catboost import CatBoostClassifier\n",
    "from sklearn.svm import SVC\n",
    "from sklearn.neighbors import KNeighborsClassifier\n",
    "from sklearn.ensemble import RandomForestClassifier\n",
    "from sklearn.tree import DecisionTreeClassifier\n",
    "from sklearn.metrics import accuracy_score, classification_report, confusion_matrix, f1_score\n",
    "from sklearn.model_selection import GridSearchCV\n",
    "from sklearn.preprocessing import MinMaxScaler\n",
    "import seaborn as sns\n",
    "import matplotlib.pyplot as plt\n",
    "import matplotlib.ticker as ticker"
   ]
  },
  {
   "cell_type": "code",
   "execution_count": 2,
   "id": "8cea61d3-527b-4f2b-8739-d34e020c09ec",
   "metadata": {
    "tags": []
   },
   "outputs": [
    {
     "data": {
      "text/html": [
       "<div>\n",
       "<style scoped>\n",
       "    .dataframe tbody tr th:only-of-type {\n",
       "        vertical-align: middle;\n",
       "    }\n",
       "\n",
       "    .dataframe tbody tr th {\n",
       "        vertical-align: top;\n",
       "    }\n",
       "\n",
       "    .dataframe thead th {\n",
       "        text-align: right;\n",
       "    }\n",
       "</style>\n",
       "<table border=\"1\" class=\"dataframe\">\n",
       "  <thead>\n",
       "    <tr style=\"text-align: right;\">\n",
       "      <th></th>\n",
       "      <th>Year_Reported</th>\n",
       "      <th>PSC Code</th>\n",
       "      <th>Funding Agency Name</th>\n",
       "      <th>Place of Performance Country</th>\n",
       "      <th>Date Signed</th>\n",
       "      <th>Extent Competed</th>\n",
       "      <th>Type of Contract</th>\n",
       "      <th>Description of Requirement</th>\n",
       "      <th>Inherently Governmental Functions</th>\n",
       "      <th>Vendor Name</th>\n",
       "      <th>Total Base and All Options Value</th>\n",
       "    </tr>\n",
       "  </thead>\n",
       "  <tbody>\n",
       "    <tr>\n",
       "      <th>0</th>\n",
       "      <td>2022</td>\n",
       "      <td>D317</td>\n",
       "      <td>0</td>\n",
       "      <td>0</td>\n",
       "      <td>2022-05-27</td>\n",
       "      <td>0</td>\n",
       "      <td>0</td>\n",
       "      <td>DATABASE</td>\n",
       "      <td>OTHER FUNCTIONS</td>\n",
       "      <td>0</td>\n",
       "      <td>6911482.07</td>\n",
       "    </tr>\n",
       "    <tr>\n",
       "      <th>1</th>\n",
       "      <td>2022</td>\n",
       "      <td>B506</td>\n",
       "      <td>0</td>\n",
       "      <td>0</td>\n",
       "      <td>2022-08-04</td>\n",
       "      <td>1</td>\n",
       "      <td>1</td>\n",
       "      <td>BUSINESS SUPPORT SERVICES</td>\n",
       "      <td>CLOSELY ASSOCIATED</td>\n",
       "      <td>1</td>\n",
       "      <td>10864820.26</td>\n",
       "    </tr>\n",
       "  </tbody>\n",
       "</table>\n",
       "</div>"
      ],
      "text/plain": [
       "   Year_Reported PSC Code  Funding Agency Name  Place of Performance Country  \\\n",
       "0           2022     D317                    0                             0   \n",
       "1           2022     B506                    0                             0   \n",
       "\n",
       "  Date Signed  Extent Competed  Type of Contract Description of Requirement  \\\n",
       "0  2022-05-27                0                 0                   DATABASE   \n",
       "1  2022-08-04                1                 1  BUSINESS SUPPORT SERVICES   \n",
       "\n",
       "  Inherently Governmental Functions  Vendor Name  \\\n",
       "0                   OTHER FUNCTIONS            0   \n",
       "1                CLOSELY ASSOCIATED            1   \n",
       "\n",
       "   Total Base and All Options Value  \n",
       "0                        6911482.07  \n",
       "1                       10864820.26  "
      ]
     },
     "execution_count": 2,
     "metadata": {},
     "output_type": "execute_result"
    }
   ],
   "source": [
    "import pandas as pd\n",
    "\n",
    "df = pd.read_csv(\"output_no_2018.csv\")\n",
    "\n",
    "df.head(2)"
   ]
  },
  {
   "cell_type": "code",
   "execution_count": 3,
   "id": "316c7603-48b4-4079-9a69-a031bb536594",
   "metadata": {
    "tags": []
   },
   "outputs": [],
   "source": [
    "#df['Year_Reported'] = pd.to_datetime(df['Year_Reported'])"
   ]
  },
  {
   "cell_type": "code",
   "execution_count": 4,
   "id": "4cafdf33-63b9-4379-8cce-7b3739ddf561",
   "metadata": {
    "tags": []
   },
   "outputs": [
    {
     "data": {
      "text/plain": [
       "Inherently Governmental Functions\n",
       "OTHER FUNCTIONS                          289664\n",
       "CLOSELY ASSOCIATED                        33414\n",
       "CRITICAL FUNCTIONS                        24808\n",
       "CLOSELY ASSOCIATED,CRITICAL FUNCTIONS     11113\n",
       "Name: count, dtype: int64"
      ]
     },
     "execution_count": 4,
     "metadata": {},
     "output_type": "execute_result"
    }
   ],
   "source": [
    "df['Inherently Governmental Functions'].value_counts()"
   ]
  },
  {
   "cell_type": "code",
   "execution_count": 5,
   "id": "63289183-1eea-4eff-93f7-51dc3e8b0efe",
   "metadata": {
    "tags": []
   },
   "outputs": [
    {
     "data": {
      "text/plain": [
       "Inherently Governmental Functions\n",
       "OTHER FUNCTIONS                          0.806866\n",
       "CLOSELY ASSOCIATED                       0.093075\n",
       "CRITICAL FUNCTIONS                       0.069103\n",
       "CLOSELY ASSOCIATED,CRITICAL FUNCTIONS    0.030956\n",
       "Name: proportion, dtype: float64"
      ]
     },
     "execution_count": 5,
     "metadata": {},
     "output_type": "execute_result"
    }
   ],
   "source": [
    "df['Inherently Governmental Functions'].value_counts(normalize = True)"
   ]
  },
  {
   "cell_type": "code",
   "execution_count": 6,
   "id": "5efa54ab-3758-49a7-90cd-9ed6f496fc77",
   "metadata": {
    "tags": []
   },
   "outputs": [],
   "source": [
    "df['Date Signed'] = pd.to_datetime(df['Date Signed'])"
   ]
  },
  {
   "cell_type": "code",
   "execution_count": 7,
   "id": "64a6551f-cb11-4dd1-a3f6-2d028baa89f9",
   "metadata": {
    "tags": []
   },
   "outputs": [],
   "source": [
    "# These should be treated as categorical \n",
    "columns_to_convert = ['Funding Agency Name', 'Place of Performance Country', 'Extent Competed', 'Type of Contract', 'Vendor Name']"
   ]
  },
  {
   "cell_type": "code",
   "execution_count": 8,
   "id": "7ddf837f-f93c-4271-b330-20e8c7e10be8",
   "metadata": {
    "tags": []
   },
   "outputs": [],
   "source": [
    "df[columns_to_convert] = df[columns_to_convert].astype('object')"
   ]
  },
  {
   "cell_type": "code",
   "execution_count": 9,
   "id": "d5c2ecc9-f164-4797-9c38-8bc560e44b97",
   "metadata": {
    "tags": []
   },
   "outputs": [
    {
     "name": "stdout",
     "output_type": "stream",
     "text": [
      "<class 'pandas.core.frame.DataFrame'>\n",
      "RangeIndex: 358999 entries, 0 to 358998\n",
      "Data columns (total 11 columns):\n",
      " #   Column                             Non-Null Count   Dtype         \n",
      "---  ------                             --------------   -----         \n",
      " 0   Year_Reported                      358999 non-null  int64         \n",
      " 1   PSC Code                           358999 non-null  object        \n",
      " 2   Funding Agency Name                358999 non-null  object        \n",
      " 3   Place of Performance Country       358999 non-null  object        \n",
      " 4   Date Signed                        358999 non-null  datetime64[ns]\n",
      " 5   Extent Competed                    358999 non-null  object        \n",
      " 6   Type of Contract                   358999 non-null  object        \n",
      " 7   Description of Requirement         358964 non-null  object        \n",
      " 8   Inherently Governmental Functions  358999 non-null  object        \n",
      " 9   Vendor Name                        358999 non-null  object        \n",
      " 10  Total Base and All Options Value   358999 non-null  float64       \n",
      "dtypes: datetime64[ns](1), float64(1), int64(1), object(8)\n",
      "memory usage: 30.1+ MB\n"
     ]
    }
   ],
   "source": [
    "df.info()"
   ]
  },
  {
   "cell_type": "code",
   "execution_count": 10,
   "id": "045b5cdd-2ba4-4b87-9aab-b2a692bfe4b8",
   "metadata": {
    "tags": []
   },
   "outputs": [
    {
     "data": {
      "text/plain": [
       "PSC Code                               1416\n",
       "Funding Agency Name                     296\n",
       "Place of Performance Country            186\n",
       "Extent Competed                           9\n",
       "Type of Contract                         13\n",
       "Description of Requirement           229483\n",
       "Inherently Governmental Functions         4\n",
       "Vendor Name                           32862\n",
       "dtype: int64"
      ]
     },
     "execution_count": 10,
     "metadata": {},
     "output_type": "execute_result"
    }
   ],
   "source": [
    "object_columns = df.select_dtypes(include=['object'])\n",
    "\n",
    "unique_counts = object_columns.nunique()\n",
    "unique_counts"
   ]
  },
  {
   "cell_type": "code",
   "execution_count": 11,
   "id": "488a7c3f-5318-4bc1-b49c-f87e52a94441",
   "metadata": {},
   "outputs": [],
   "source": [
    "#I am going to drop \n",
    "#Description of Requirement and Vendor Name due to the number of unique values"
   ]
  },
  {
   "cell_type": "code",
   "execution_count": 12,
   "id": "166095fa-3d23-497d-b25c-0bf79a90aedd",
   "metadata": {
    "tags": []
   },
   "outputs": [],
   "source": [
    "#I am going to seperate the date column into data, month, year so 3 features to give our model more information\n",
    "df['Year_signed'] = df['Date Signed'].dt.year\n",
    "df['Month_signed'] = df['Date Signed'].dt.month\n",
    "df['Day_signed'] = df['Date Signed'].dt.day"
   ]
  },
  {
   "cell_type": "code",
   "execution_count": 13,
   "id": "a5ca7315-aa67-4bd2-94da-ae6a3d9e4a8e",
   "metadata": {},
   "outputs": [],
   "source": [
    "#Now drop date signed column as we do not need it"
   ]
  },
  {
   "cell_type": "code",
   "execution_count": 14,
   "id": "c67c6445-b121-40df-a50d-0ae93fa55a8f",
   "metadata": {
    "tags": []
   },
   "outputs": [
    {
     "data": {
      "text/plain": [
       "Index(['Year_Reported', 'PSC Code', 'Funding Agency Name',\n",
       "       'Place of Performance Country', 'Date Signed', 'Extent Competed',\n",
       "       'Type of Contract', 'Description of Requirement',\n",
       "       'Inherently Governmental Functions', 'Vendor Name',\n",
       "       'Total Base and All Options Value', 'Year_signed', 'Month_signed',\n",
       "       'Day_signed'],\n",
       "      dtype='object')"
      ]
     },
     "execution_count": 14,
     "metadata": {},
     "output_type": "execute_result"
    }
   ],
   "source": [
    "df.columns"
   ]
  },
  {
   "cell_type": "code",
   "execution_count": 15,
   "id": "13608073-cee5-44c0-9460-5fe746a42478",
   "metadata": {
    "tags": []
   },
   "outputs": [],
   "source": [
    "df = df.drop('Date Signed', axis = 1)"
   ]
  },
  {
   "cell_type": "code",
   "execution_count": 16,
   "id": "34a645ae-b632-4fd4-8c73-e784bc1b09d0",
   "metadata": {
    "tags": []
   },
   "outputs": [
    {
     "data": {
      "text/html": [
       "<div>\n",
       "<style scoped>\n",
       "    .dataframe tbody tr th:only-of-type {\n",
       "        vertical-align: middle;\n",
       "    }\n",
       "\n",
       "    .dataframe tbody tr th {\n",
       "        vertical-align: top;\n",
       "    }\n",
       "\n",
       "    .dataframe thead th {\n",
       "        text-align: right;\n",
       "    }\n",
       "</style>\n",
       "<table border=\"1\" class=\"dataframe\">\n",
       "  <thead>\n",
       "    <tr style=\"text-align: right;\">\n",
       "      <th></th>\n",
       "      <th>Year_Reported</th>\n",
       "      <th>PSC Code</th>\n",
       "      <th>Funding Agency Name</th>\n",
       "      <th>Place of Performance Country</th>\n",
       "      <th>Extent Competed</th>\n",
       "      <th>Type of Contract</th>\n",
       "      <th>Description of Requirement</th>\n",
       "      <th>Inherently Governmental Functions</th>\n",
       "      <th>Vendor Name</th>\n",
       "      <th>Total Base and All Options Value</th>\n",
       "      <th>Year_signed</th>\n",
       "      <th>Month_signed</th>\n",
       "      <th>Day_signed</th>\n",
       "    </tr>\n",
       "  </thead>\n",
       "  <tbody>\n",
       "    <tr>\n",
       "      <th>0</th>\n",
       "      <td>2022</td>\n",
       "      <td>D317</td>\n",
       "      <td>0</td>\n",
       "      <td>0</td>\n",
       "      <td>0</td>\n",
       "      <td>0</td>\n",
       "      <td>DATABASE</td>\n",
       "      <td>OTHER FUNCTIONS</td>\n",
       "      <td>0</td>\n",
       "      <td>6911482.07</td>\n",
       "      <td>2022</td>\n",
       "      <td>5</td>\n",
       "      <td>27</td>\n",
       "    </tr>\n",
       "  </tbody>\n",
       "</table>\n",
       "</div>"
      ],
      "text/plain": [
       "   Year_Reported PSC Code Funding Agency Name Place of Performance Country  \\\n",
       "0           2022     D317                   0                            0   \n",
       "\n",
       "  Extent Competed Type of Contract Description of Requirement  \\\n",
       "0               0                0                   DATABASE   \n",
       "\n",
       "  Inherently Governmental Functions Vendor Name  \\\n",
       "0                   OTHER FUNCTIONS           0   \n",
       "\n",
       "   Total Base and All Options Value  Year_signed  Month_signed  Day_signed  \n",
       "0                        6911482.07         2022             5          27  "
      ]
     },
     "execution_count": 16,
     "metadata": {},
     "output_type": "execute_result"
    }
   ],
   "source": [
    "df.head(1) #NORMALIZE Total Base and All Options Values"
   ]
  },
  {
   "cell_type": "code",
   "execution_count": 17,
   "id": "febabab2-6f87-4a75-96df-a978266ac370",
   "metadata": {},
   "outputs": [],
   "source": [
    "# Ensure categorical columns are of appropriate type"
   ]
  },
  {
   "cell_type": "code",
   "execution_count": 18,
   "id": "c5ccebbd-9958-40f5-b7a3-e18eef1b9e50",
   "metadata": {
    "tags": []
   },
   "outputs": [
    {
     "name": "stdout",
     "output_type": "stream",
     "text": [
      "<class 'pandas.core.frame.DataFrame'>\n",
      "RangeIndex: 358999 entries, 0 to 358998\n",
      "Data columns (total 13 columns):\n",
      " #   Column                             Non-Null Count   Dtype  \n",
      "---  ------                             --------------   -----  \n",
      " 0   Year_Reported                      358999 non-null  int64  \n",
      " 1   PSC Code                           358999 non-null  object \n",
      " 2   Funding Agency Name                358999 non-null  object \n",
      " 3   Place of Performance Country       358999 non-null  object \n",
      " 4   Extent Competed                    358999 non-null  object \n",
      " 5   Type of Contract                   358999 non-null  object \n",
      " 6   Description of Requirement         358964 non-null  object \n",
      " 7   Inherently Governmental Functions  358999 non-null  object \n",
      " 8   Vendor Name                        358999 non-null  object \n",
      " 9   Total Base and All Options Value   358999 non-null  float64\n",
      " 10  Year_signed                        358999 non-null  int32  \n",
      " 11  Month_signed                       358999 non-null  int32  \n",
      " 12  Day_signed                         358999 non-null  int32  \n",
      "dtypes: float64(1), int32(3), int64(1), object(8)\n",
      "memory usage: 31.5+ MB\n"
     ]
    }
   ],
   "source": [
    "df.info()"
   ]
  },
  {
   "cell_type": "code",
   "execution_count": 19,
   "id": "a01c208f-97ed-4e03-8668-e252db786018",
   "metadata": {
    "tags": []
   },
   "outputs": [],
   "source": [
    "# Encode cat variables "
   ]
  },
  {
   "cell_type": "code",
   "execution_count": 20,
   "id": "93242e7e-ec13-4a5f-8882-9d2174f3ceb7",
   "metadata": {
    "tags": []
   },
   "outputs": [],
   "source": [
    "categorical_columns = ['PSC Code', 'Funding Agency Name',\n",
    "                       'Place of Performance Country', 'Extent Competed', \n",
    "                       'Type of Contract', 'Inherently Governmental Functions']\n",
    "for col in categorical_columns:\n",
    "    df[col] = df[col].astype('category')\n"
   ]
  },
  {
   "cell_type": "code",
   "execution_count": 21,
   "id": "10e4a2e9-bc85-401b-8173-98156c3cee66",
   "metadata": {
    "tags": []
   },
   "outputs": [],
   "source": [
    "# NORMALIZATION of 'Total Base and All Options Value'\n",
    "scaler = MinMaxScaler()\n",
    "normalized_Options_Value = scaler.fit_transform([[val] for val in df['Total Base and All Options Value']])\n",
    "df['normalized_Options_Value'] = normalized_Options_Value"
   ]
  },
  {
   "cell_type": "code",
   "execution_count": 22,
   "id": "3d750e49-2887-481c-be77-27bc34ea71ee",
   "metadata": {
    "tags": []
   },
   "outputs": [],
   "source": [
    "df = df.drop('Total Base and All Options Value', axis = 1)"
   ]
  },
  {
   "cell_type": "code",
   "execution_count": 23,
   "id": "49f79709-904b-4b5a-b6a9-63ecb3f23bcf",
   "metadata": {
    "tags": []
   },
   "outputs": [
    {
     "data": {
      "text/plain": [
       "Index(['Year_Reported', 'PSC Code', 'Funding Agency Name',\n",
       "       'Place of Performance Country', 'Extent Competed', 'Type of Contract',\n",
       "       'Description of Requirement', 'Inherently Governmental Functions',\n",
       "       'Vendor Name', 'Year_signed', 'Month_signed', 'Day_signed',\n",
       "       'normalized_Options_Value'],\n",
       "      dtype='object')"
      ]
     },
     "execution_count": 23,
     "metadata": {},
     "output_type": "execute_result"
    }
   ],
   "source": [
    "df.columns"
   ]
  },
  {
   "cell_type": "code",
   "execution_count": 24,
   "id": "d559fe87-90c2-49d5-b402-a805e5d77611",
   "metadata": {},
   "outputs": [],
   "source": [
    "# Make the X and y values"
   ]
  },
  {
   "cell_type": "code",
   "execution_count": 25,
   "id": "584e4f44-6bcd-4b77-a574-3bfc6dc2c2f9",
   "metadata": {
    "tags": []
   },
   "outputs": [],
   "source": [
    "X = df.drop(columns=['Inherently Governmental Functions', 'Vendor Name', 'Description of Requirement'])  \n",
    "y = df['Inherently Governmental Functions'] "
   ]
  },
  {
   "cell_type": "code",
   "execution_count": 26,
   "id": "5a60c0b6-35eb-4177-9e16-42133c7c77aa",
   "metadata": {
    "tags": []
   },
   "outputs": [
    {
     "data": {
      "text/html": [
       "<div>\n",
       "<style scoped>\n",
       "    .dataframe tbody tr th:only-of-type {\n",
       "        vertical-align: middle;\n",
       "    }\n",
       "\n",
       "    .dataframe tbody tr th {\n",
       "        vertical-align: top;\n",
       "    }\n",
       "\n",
       "    .dataframe thead th {\n",
       "        text-align: right;\n",
       "    }\n",
       "</style>\n",
       "<table border=\"1\" class=\"dataframe\">\n",
       "  <thead>\n",
       "    <tr style=\"text-align: right;\">\n",
       "      <th></th>\n",
       "      <th>Year_Reported</th>\n",
       "      <th>PSC Code</th>\n",
       "      <th>Funding Agency Name</th>\n",
       "      <th>Place of Performance Country</th>\n",
       "      <th>Extent Competed</th>\n",
       "      <th>Type of Contract</th>\n",
       "      <th>Year_signed</th>\n",
       "      <th>Month_signed</th>\n",
       "      <th>Day_signed</th>\n",
       "      <th>normalized_Options_Value</th>\n",
       "    </tr>\n",
       "  </thead>\n",
       "  <tbody>\n",
       "    <tr>\n",
       "      <th>0</th>\n",
       "      <td>2022</td>\n",
       "      <td>D317</td>\n",
       "      <td>0</td>\n",
       "      <td>0</td>\n",
       "      <td>0</td>\n",
       "      <td>0</td>\n",
       "      <td>2022</td>\n",
       "      <td>5</td>\n",
       "      <td>27</td>\n",
       "      <td>0.000165</td>\n",
       "    </tr>\n",
       "    <tr>\n",
       "      <th>1</th>\n",
       "      <td>2022</td>\n",
       "      <td>B506</td>\n",
       "      <td>0</td>\n",
       "      <td>0</td>\n",
       "      <td>1</td>\n",
       "      <td>1</td>\n",
       "      <td>2022</td>\n",
       "      <td>8</td>\n",
       "      <td>4</td>\n",
       "      <td>0.000226</td>\n",
       "    </tr>\n",
       "  </tbody>\n",
       "</table>\n",
       "</div>"
      ],
      "text/plain": [
       "   Year_Reported PSC Code Funding Agency Name Place of Performance Country  \\\n",
       "0           2022     D317                   0                            0   \n",
       "1           2022     B506                   0                            0   \n",
       "\n",
       "  Extent Competed Type of Contract  Year_signed  Month_signed  Day_signed  \\\n",
       "0               0                0         2022             5          27   \n",
       "1               1                1         2022             8           4   \n",
       "\n",
       "   normalized_Options_Value  \n",
       "0                  0.000165  \n",
       "1                  0.000226  "
      ]
     },
     "execution_count": 26,
     "metadata": {},
     "output_type": "execute_result"
    }
   ],
   "source": [
    "X.head(2)"
   ]
  },
  {
   "cell_type": "code",
   "execution_count": 27,
   "id": "baa8635e-5bbe-41a4-a12f-5fd7c6de2a30",
   "metadata": {
    "tags": []
   },
   "outputs": [
    {
     "data": {
      "text/plain": [
       "Index(['Year_Reported', 'PSC Code', 'Funding Agency Name',\n",
       "       'Place of Performance Country', 'Extent Competed', 'Type of Contract',\n",
       "       'Year_signed', 'Month_signed', 'Day_signed',\n",
       "       'normalized_Options_Value'],\n",
       "      dtype='object')"
      ]
     },
     "execution_count": 27,
     "metadata": {},
     "output_type": "execute_result"
    }
   ],
   "source": [
    "X.columns"
   ]
  },
  {
   "cell_type": "code",
   "execution_count": 28,
   "id": "7963d154-e993-478d-8f83-8c8e4d02ae9e",
   "metadata": {},
   "outputs": [],
   "source": [
    "# Split data"
   ]
  },
  {
   "cell_type": "code",
   "execution_count": 29,
   "id": "d62063ec-7d32-4622-9065-34672d296f71",
   "metadata": {
    "tags": []
   },
   "outputs": [],
   "source": [
    "X_train, X_test, y_train, y_test = train_test_split(X, y, test_size=0.2, random_state=42)"
   ]
  },
  {
   "cell_type": "markdown",
   "id": "44c60476-96db-4c0a-bbed-d1329e530e6e",
   "metadata": {},
   "source": [
    "# Catboost Model"
   ]
  },
  {
   "cell_type": "markdown",
   "id": "e35caebd-f0b7-483c-ad8c-9d227fe8da0d",
   "metadata": {
    "tags": []
   },
   "source": [
    "Adding weight significantly hurt the performnce of the model. The accuracy was about 0.6\n",
    "\n",
    "I tried these weights\n",
    "\n",
    "total_instances = sum([1.239, 10.750, 14.464, 32.305])\n",
    "\n",
    "class_weights_mapping = {\n",
    "\n",
    "    'CLOSELY ASSOCIATED': total_instances / 1.239,\n",
    "    \n",
    "    'CLOSELY ASSOCIATED,CRITICAL FUNCTIONS': total_instances / 10.750,\n",
    "    \n",
    "    'CRITICAL FUNCTIONS': total_instances / 14.464,\n",
    "    \n",
    "    'OTHER FUNCTIONS': total_instances / 32.305\n",
    "}\n",
    "\n",
    "I also tried these weights\n",
    "\n",
    "class_weights_mapping = {\n",
    "\n",
    "    'CLOSELY ASSOCIATED': 1 / 0.093075,\n",
    "    \n",
    "    'CLOSELY ASSOCIATED,CRITICAL FUNCTIONS': 1 / 0.030956,\n",
    "    \n",
    "    'CRITICAL FUNCTIONS': 1 / 0.069103,\n",
    "    \n",
    "    'OTHER FUNCTIONS': 1 / 0.806866\n",
    "}"
   ]
  },
  {
   "cell_type": "code",
   "execution_count": 30,
   "id": "d07290a4-0cf9-425b-a2e9-abc823bf8962",
   "metadata": {
    "tags": []
   },
   "outputs": [],
   "source": [
    "cat_features = ['PSC Code', 'Funding Agency Name',\n",
    "                       'Place of Performance Country', 'Extent Competed', \n",
    "                       'Type of Contract']"
   ]
  },
  {
   "cell_type": "code",
   "execution_count": 31,
   "id": "f116ab9b-9ebc-445b-8aca-02fe060231f6",
   "metadata": {
    "tags": []
   },
   "outputs": [],
   "source": [
    "############## This is the code to train our mode but only needed to be run once. ##############\n",
    "\n",
    "# param_grid = {\n",
    "#     'iterations': [100, 200],  \n",
    "#     'learning_rate': [0.1, 0.01], \n",
    "#     'depth': [6, 8],\n",
    "# }\n",
    "\n",
    "# base_model = CatBoostClassifier(cat_features=cat_features)\n",
    "\n",
    "# grid_search = GridSearchCV(estimator=base_model, param_grid=param_grid, cv=3, scoring='accuracy')\n",
    "\n",
    "# grid_search.fit(X_train, y_train)"
   ]
  },
  {
   "cell_type": "code",
   "execution_count": 32,
   "id": "1cf46aac-68fc-4205-8c78-f14dc4f8876b",
   "metadata": {
    "tags": []
   },
   "outputs": [],
   "source": [
    "# best_params = grid_search.best_params_\n",
    "# best_score = grid_search.best_score_"
   ]
  },
  {
   "cell_type": "code",
   "execution_count": 33,
   "id": "3efbdb65-2e91-46bd-adf7-c38fe145578e",
   "metadata": {
    "tags": []
   },
   "outputs": [],
   "source": [
    "best_params = {'depth': 8, 'iterations': 200, 'learning_rate': 0.1}"
   ]
  },
  {
   "cell_type": "code",
   "execution_count": 34,
   "id": "989cb2f4-a5b7-4abb-ba2f-97711a06cf79",
   "metadata": {
    "tags": []
   },
   "outputs": [
    {
     "name": "stdout",
     "output_type": "stream",
     "text": [
      "0:\tlearn: 1.2277308\ttotal: 204ms\tremaining: 40.7s\n",
      "1:\tlearn: 1.1172298\ttotal: 240ms\tremaining: 23.8s\n",
      "2:\tlearn: 1.0329177\ttotal: 362ms\tremaining: 23.8s\n",
      "3:\tlearn: 0.9587521\ttotal: 603ms\tremaining: 29.5s\n",
      "4:\tlearn: 0.8988381\ttotal: 782ms\tremaining: 30.5s\n",
      "5:\tlearn: 0.8500322\ttotal: 989ms\tremaining: 32s\n",
      "6:\tlearn: 0.8103693\ttotal: 1.17s\tremaining: 32.3s\n",
      "7:\tlearn: 0.7773173\ttotal: 1.35s\tremaining: 32.4s\n",
      "8:\tlearn: 0.7501215\ttotal: 1.54s\tremaining: 32.8s\n",
      "9:\tlearn: 0.7270795\ttotal: 1.75s\tremaining: 33.4s\n",
      "10:\tlearn: 0.7048396\ttotal: 1.91s\tremaining: 32.9s\n",
      "11:\tlearn: 0.6858275\ttotal: 2.08s\tremaining: 32.7s\n",
      "12:\tlearn: 0.6694330\ttotal: 2.26s\tremaining: 32.5s\n",
      "13:\tlearn: 0.6552871\ttotal: 2.45s\tremaining: 32.5s\n",
      "14:\tlearn: 0.6430453\ttotal: 2.61s\tremaining: 32.2s\n",
      "15:\tlearn: 0.6323850\ttotal: 2.77s\tremaining: 31.9s\n",
      "16:\tlearn: 0.6233445\ttotal: 2.95s\tremaining: 31.7s\n",
      "17:\tlearn: 0.6155631\ttotal: 3.11s\tremaining: 31.5s\n",
      "18:\tlearn: 0.6081352\ttotal: 3.29s\tremaining: 31.4s\n",
      "19:\tlearn: 0.5927204\ttotal: 3.48s\tremaining: 31.3s\n",
      "20:\tlearn: 0.5809491\ttotal: 3.68s\tremaining: 31.4s\n",
      "21:\tlearn: 0.5710501\ttotal: 3.85s\tremaining: 31.2s\n",
      "22:\tlearn: 0.5627213\ttotal: 4.03s\tremaining: 31s\n",
      "23:\tlearn: 0.5550608\ttotal: 4.23s\tremaining: 31s\n",
      "24:\tlearn: 0.5488426\ttotal: 4.4s\tremaining: 30.8s\n",
      "25:\tlearn: 0.5437984\ttotal: 4.57s\tremaining: 30.6s\n",
      "26:\tlearn: 0.5389151\ttotal: 4.75s\tremaining: 30.4s\n",
      "27:\tlearn: 0.5347036\ttotal: 4.92s\tremaining: 30.2s\n",
      "28:\tlearn: 0.5308639\ttotal: 5.13s\tremaining: 30.2s\n",
      "29:\tlearn: 0.5251954\ttotal: 5.35s\tremaining: 30.3s\n",
      "30:\tlearn: 0.5193471\ttotal: 5.58s\tremaining: 30.4s\n",
      "31:\tlearn: 0.5142279\ttotal: 5.77s\tremaining: 30.3s\n",
      "32:\tlearn: 0.5101452\ttotal: 5.96s\tremaining: 30.2s\n",
      "33:\tlearn: 0.5072227\ttotal: 6.18s\tremaining: 30.2s\n",
      "34:\tlearn: 0.5040656\ttotal: 6.36s\tremaining: 30s\n",
      "35:\tlearn: 0.5019212\ttotal: 6.61s\tremaining: 30.1s\n",
      "36:\tlearn: 0.4994360\ttotal: 6.83s\tremaining: 30.1s\n",
      "37:\tlearn: 0.4981848\ttotal: 7.23s\tremaining: 30.8s\n",
      "38:\tlearn: 0.4958991\ttotal: 7.48s\tremaining: 30.9s\n",
      "39:\tlearn: 0.4943735\ttotal: 7.8s\tremaining: 31.2s\n",
      "40:\tlearn: 0.4926183\ttotal: 8.08s\tremaining: 31.3s\n",
      "41:\tlearn: 0.4916005\ttotal: 8.4s\tremaining: 31.6s\n",
      "42:\tlearn: 0.4905812\ttotal: 8.75s\tremaining: 31.9s\n",
      "43:\tlearn: 0.4899105\ttotal: 9.06s\tremaining: 32.1s\n",
      "44:\tlearn: 0.4882127\ttotal: 9.31s\tremaining: 32.1s\n",
      "45:\tlearn: 0.4872663\ttotal: 9.66s\tremaining: 32.3s\n",
      "46:\tlearn: 0.4866386\ttotal: 9.99s\tremaining: 32.5s\n",
      "47:\tlearn: 0.4858529\ttotal: 10.3s\tremaining: 32.6s\n",
      "48:\tlearn: 0.4845921\ttotal: 10.5s\tremaining: 32.4s\n",
      "49:\tlearn: 0.4841040\ttotal: 10.8s\tremaining: 32.3s\n",
      "50:\tlearn: 0.4820255\ttotal: 11s\tremaining: 32.1s\n",
      "51:\tlearn: 0.4803027\ttotal: 11.2s\tremaining: 31.8s\n",
      "52:\tlearn: 0.4790982\ttotal: 11.5s\tremaining: 31.8s\n",
      "53:\tlearn: 0.4778458\ttotal: 11.7s\tremaining: 31.8s\n",
      "54:\tlearn: 0.4757360\ttotal: 12s\tremaining: 31.5s\n",
      "55:\tlearn: 0.4742119\ttotal: 12.2s\tremaining: 31.3s\n",
      "56:\tlearn: 0.4736556\ttotal: 12.5s\tremaining: 31.4s\n",
      "57:\tlearn: 0.4732963\ttotal: 12.8s\tremaining: 31.3s\n",
      "58:\tlearn: 0.4717934\ttotal: 13s\tremaining: 31s\n",
      "59:\tlearn: 0.4708566\ttotal: 13.2s\tremaining: 30.8s\n",
      "60:\tlearn: 0.4700503\ttotal: 13.4s\tremaining: 30.5s\n",
      "61:\tlearn: 0.4692278\ttotal: 13.6s\tremaining: 30.2s\n",
      "62:\tlearn: 0.4686953\ttotal: 13.9s\tremaining: 30.1s\n",
      "63:\tlearn: 0.4683329\ttotal: 14.1s\tremaining: 30s\n",
      "64:\tlearn: 0.4680100\ttotal: 14.5s\tremaining: 30.2s\n",
      "65:\tlearn: 0.4672804\ttotal: 14.8s\tremaining: 30s\n",
      "66:\tlearn: 0.4666810\ttotal: 15s\tremaining: 29.8s\n",
      "67:\tlearn: 0.4664406\ttotal: 15.3s\tremaining: 29.7s\n",
      "68:\tlearn: 0.4660631\ttotal: 15.5s\tremaining: 29.5s\n",
      "69:\tlearn: 0.4653158\ttotal: 15.7s\tremaining: 29.2s\n",
      "70:\tlearn: 0.4651088\ttotal: 16.1s\tremaining: 29.2s\n",
      "71:\tlearn: 0.4648406\ttotal: 16.4s\tremaining: 29.1s\n",
      "72:\tlearn: 0.4639810\ttotal: 16.6s\tremaining: 28.9s\n",
      "73:\tlearn: 0.4633987\ttotal: 16.9s\tremaining: 28.7s\n",
      "74:\tlearn: 0.4628943\ttotal: 17s\tremaining: 28.4s\n",
      "75:\tlearn: 0.4626133\ttotal: 17.3s\tremaining: 28.2s\n",
      "76:\tlearn: 0.4620863\ttotal: 17.5s\tremaining: 28s\n",
      "77:\tlearn: 0.4617177\ttotal: 17.8s\tremaining: 27.8s\n",
      "78:\tlearn: 0.4614678\ttotal: 18.1s\tremaining: 27.7s\n",
      "79:\tlearn: 0.4612564\ttotal: 18.3s\tremaining: 27.4s\n",
      "80:\tlearn: 0.4609393\ttotal: 18.6s\tremaining: 27.3s\n",
      "81:\tlearn: 0.4606723\ttotal: 18.8s\tremaining: 27.1s\n",
      "82:\tlearn: 0.4604325\ttotal: 19.1s\tremaining: 26.9s\n",
      "83:\tlearn: 0.4598322\ttotal: 19.3s\tremaining: 26.6s\n",
      "84:\tlearn: 0.4596075\ttotal: 19.6s\tremaining: 26.5s\n",
      "85:\tlearn: 0.4593608\ttotal: 19.9s\tremaining: 26.3s\n",
      "86:\tlearn: 0.4590528\ttotal: 20s\tremaining: 26s\n",
      "87:\tlearn: 0.4584952\ttotal: 20.2s\tremaining: 25.8s\n",
      "88:\tlearn: 0.4579816\ttotal: 20.4s\tremaining: 25.5s\n",
      "89:\tlearn: 0.4577874\ttotal: 20.8s\tremaining: 25.4s\n",
      "90:\tlearn: 0.4576628\ttotal: 21.1s\tremaining: 25.3s\n",
      "91:\tlearn: 0.4572325\ttotal: 21.4s\tremaining: 25.1s\n",
      "92:\tlearn: 0.4569893\ttotal: 21.7s\tremaining: 25s\n",
      "93:\tlearn: 0.4566144\ttotal: 22s\tremaining: 24.8s\n",
      "94:\tlearn: 0.4563495\ttotal: 22.3s\tremaining: 24.6s\n",
      "95:\tlearn: 0.4561365\ttotal: 22.6s\tremaining: 24.5s\n",
      "96:\tlearn: 0.4560045\ttotal: 23s\tremaining: 24.4s\n",
      "97:\tlearn: 0.4558473\ttotal: 23.3s\tremaining: 24.2s\n",
      "98:\tlearn: 0.4555652\ttotal: 23.5s\tremaining: 24s\n",
      "99:\tlearn: 0.4553856\ttotal: 23.8s\tremaining: 23.8s\n",
      "100:\tlearn: 0.4551612\ttotal: 24.1s\tremaining: 23.6s\n",
      "101:\tlearn: 0.4550782\ttotal: 24.4s\tremaining: 23.5s\n",
      "102:\tlearn: 0.4547837\ttotal: 24.6s\tremaining: 23.2s\n",
      "103:\tlearn: 0.4545480\ttotal: 24.9s\tremaining: 23s\n",
      "104:\tlearn: 0.4544464\ttotal: 25.2s\tremaining: 22.8s\n",
      "105:\tlearn: 0.4542263\ttotal: 25.5s\tremaining: 22.6s\n",
      "106:\tlearn: 0.4541508\ttotal: 25.8s\tremaining: 22.4s\n",
      "107:\tlearn: 0.4539274\ttotal: 26.2s\tremaining: 22.3s\n",
      "108:\tlearn: 0.4538153\ttotal: 26.4s\tremaining: 22.1s\n",
      "109:\tlearn: 0.4534986\ttotal: 26.7s\tremaining: 21.8s\n",
      "110:\tlearn: 0.4532257\ttotal: 26.9s\tremaining: 21.6s\n",
      "111:\tlearn: 0.4531066\ttotal: 27.2s\tremaining: 21.4s\n",
      "112:\tlearn: 0.4529574\ttotal: 27.5s\tremaining: 21.2s\n",
      "113:\tlearn: 0.4527188\ttotal: 27.8s\tremaining: 21s\n",
      "114:\tlearn: 0.4524299\ttotal: 28.1s\tremaining: 20.7s\n",
      "115:\tlearn: 0.4521363\ttotal: 28.3s\tremaining: 20.5s\n",
      "116:\tlearn: 0.4519927\ttotal: 28.6s\tremaining: 20.3s\n",
      "117:\tlearn: 0.4518581\ttotal: 28.9s\tremaining: 20.1s\n",
      "118:\tlearn: 0.4517830\ttotal: 29.3s\tremaining: 19.9s\n",
      "119:\tlearn: 0.4516285\ttotal: 29.5s\tremaining: 19.7s\n",
      "120:\tlearn: 0.4514979\ttotal: 29.8s\tremaining: 19.4s\n",
      "121:\tlearn: 0.4513727\ttotal: 30.1s\tremaining: 19.2s\n",
      "122:\tlearn: 0.4513005\ttotal: 30.4s\tremaining: 19s\n",
      "123:\tlearn: 0.4511315\ttotal: 30.6s\tremaining: 18.8s\n",
      "124:\tlearn: 0.4511225\ttotal: 30.9s\tremaining: 18.6s\n",
      "125:\tlearn: 0.4510333\ttotal: 31.2s\tremaining: 18.3s\n",
      "126:\tlearn: 0.4508613\ttotal: 31.5s\tremaining: 18.1s\n",
      "127:\tlearn: 0.4507487\ttotal: 31.8s\tremaining: 17.9s\n",
      "128:\tlearn: 0.4506423\ttotal: 32.1s\tremaining: 17.7s\n",
      "129:\tlearn: 0.4505075\ttotal: 32.5s\tremaining: 17.5s\n",
      "130:\tlearn: 0.4504624\ttotal: 32.8s\tremaining: 17.3s\n",
      "131:\tlearn: 0.4501484\ttotal: 33.1s\tremaining: 17.1s\n",
      "132:\tlearn: 0.4500081\ttotal: 33.5s\tremaining: 16.9s\n",
      "133:\tlearn: 0.4499751\ttotal: 33.7s\tremaining: 16.6s\n",
      "134:\tlearn: 0.4498296\ttotal: 34s\tremaining: 16.4s\n",
      "135:\tlearn: 0.4496814\ttotal: 34.3s\tremaining: 16.2s\n",
      "136:\tlearn: 0.4495106\ttotal: 34.6s\tremaining: 15.9s\n",
      "137:\tlearn: 0.4493075\ttotal: 34.9s\tremaining: 15.7s\n",
      "138:\tlearn: 0.4491584\ttotal: 35.2s\tremaining: 15.5s\n",
      "139:\tlearn: 0.4490067\ttotal: 35.5s\tremaining: 15.2s\n",
      "140:\tlearn: 0.4489010\ttotal: 35.7s\tremaining: 15s\n",
      "141:\tlearn: 0.4487573\ttotal: 36s\tremaining: 14.7s\n",
      "142:\tlearn: 0.4486533\ttotal: 36.3s\tremaining: 14.5s\n",
      "143:\tlearn: 0.4483385\ttotal: 36.6s\tremaining: 14.2s\n",
      "144:\tlearn: 0.4481897\ttotal: 36.8s\tremaining: 14s\n",
      "145:\tlearn: 0.4479288\ttotal: 37.1s\tremaining: 13.7s\n",
      "146:\tlearn: 0.4478391\ttotal: 37.4s\tremaining: 13.5s\n",
      "147:\tlearn: 0.4477482\ttotal: 37.7s\tremaining: 13.2s\n",
      "148:\tlearn: 0.4475650\ttotal: 37.9s\tremaining: 13s\n",
      "149:\tlearn: 0.4474746\ttotal: 38.3s\tremaining: 12.8s\n",
      "150:\tlearn: 0.4473933\ttotal: 38.6s\tremaining: 12.5s\n",
      "151:\tlearn: 0.4473434\ttotal: 39s\tremaining: 12.3s\n",
      "152:\tlearn: 0.4471635\ttotal: 39.3s\tremaining: 12.1s\n",
      "153:\tlearn: 0.4470764\ttotal: 39.6s\tremaining: 11.8s\n",
      "154:\tlearn: 0.4469024\ttotal: 39.9s\tremaining: 11.6s\n",
      "155:\tlearn: 0.4468271\ttotal: 40.3s\tremaining: 11.4s\n",
      "156:\tlearn: 0.4466388\ttotal: 40.6s\tremaining: 11.1s\n",
      "157:\tlearn: 0.4464829\ttotal: 41s\tremaining: 10.9s\n",
      "158:\tlearn: 0.4462574\ttotal: 41.2s\tremaining: 10.6s\n",
      "159:\tlearn: 0.4460299\ttotal: 41.5s\tremaining: 10.4s\n",
      "160:\tlearn: 0.4458261\ttotal: 41.8s\tremaining: 10.1s\n",
      "161:\tlearn: 0.4457452\ttotal: 42.1s\tremaining: 9.89s\n",
      "162:\tlearn: 0.4455838\ttotal: 42.4s\tremaining: 9.63s\n",
      "163:\tlearn: 0.4453662\ttotal: 42.7s\tremaining: 9.37s\n",
      "164:\tlearn: 0.4451906\ttotal: 43s\tremaining: 9.12s\n",
      "165:\tlearn: 0.4451262\ttotal: 43.3s\tremaining: 8.87s\n",
      "166:\tlearn: 0.4449085\ttotal: 43.5s\tremaining: 8.6s\n",
      "167:\tlearn: 0.4447798\ttotal: 43.8s\tremaining: 8.34s\n",
      "168:\tlearn: 0.4446639\ttotal: 44.1s\tremaining: 8.09s\n",
      "169:\tlearn: 0.4445586\ttotal: 44.5s\tremaining: 7.84s\n",
      "170:\tlearn: 0.4444831\ttotal: 44.9s\tremaining: 7.61s\n",
      "171:\tlearn: 0.4443898\ttotal: 45.2s\tremaining: 7.36s\n",
      "172:\tlearn: 0.4442634\ttotal: 45.5s\tremaining: 7.11s\n",
      "173:\tlearn: 0.4439679\ttotal: 45.8s\tremaining: 6.84s\n",
      "174:\tlearn: 0.4438558\ttotal: 46.1s\tremaining: 6.58s\n",
      "175:\tlearn: 0.4437621\ttotal: 46.3s\tremaining: 6.32s\n",
      "176:\tlearn: 0.4437043\ttotal: 46.7s\tremaining: 6.07s\n",
      "177:\tlearn: 0.4435361\ttotal: 47s\tremaining: 5.81s\n",
      "178:\tlearn: 0.4434544\ttotal: 47.4s\tremaining: 5.56s\n",
      "179:\tlearn: 0.4433197\ttotal: 47.6s\tremaining: 5.29s\n",
      "180:\tlearn: 0.4432316\ttotal: 47.9s\tremaining: 5.03s\n",
      "181:\tlearn: 0.4430977\ttotal: 48.2s\tremaining: 4.77s\n",
      "182:\tlearn: 0.4429255\ttotal: 48.5s\tremaining: 4.5s\n",
      "183:\tlearn: 0.4427779\ttotal: 48.8s\tremaining: 4.25s\n",
      "184:\tlearn: 0.4427196\ttotal: 49.1s\tremaining: 3.98s\n",
      "185:\tlearn: 0.4426230\ttotal: 49.4s\tremaining: 3.72s\n",
      "186:\tlearn: 0.4425357\ttotal: 49.7s\tremaining: 3.46s\n",
      "187:\tlearn: 0.4424640\ttotal: 50.1s\tremaining: 3.2s\n",
      "188:\tlearn: 0.4423664\ttotal: 50.4s\tremaining: 2.93s\n",
      "189:\tlearn: 0.4422578\ttotal: 50.7s\tremaining: 2.67s\n",
      "190:\tlearn: 0.4421236\ttotal: 51s\tremaining: 2.4s\n",
      "191:\tlearn: 0.4420537\ttotal: 51.4s\tremaining: 2.14s\n",
      "192:\tlearn: 0.4419527\ttotal: 51.6s\tremaining: 1.87s\n",
      "193:\tlearn: 0.4418685\ttotal: 51.9s\tremaining: 1.61s\n",
      "194:\tlearn: 0.4417260\ttotal: 52.3s\tremaining: 1.34s\n",
      "195:\tlearn: 0.4415160\ttotal: 52.5s\tremaining: 1.07s\n",
      "196:\tlearn: 0.4414106\ttotal: 52.7s\tremaining: 803ms\n",
      "197:\tlearn: 0.4413606\ttotal: 53.1s\tremaining: 537ms\n",
      "198:\tlearn: 0.4412432\ttotal: 53.4s\tremaining: 268ms\n",
      "199:\tlearn: 0.4411432\ttotal: 53.7s\tremaining: 0us\n"
     ]
    },
    {
     "data": {
      "text/plain": [
       "<catboost.core.CatBoostClassifier at 0x16a15a650>"
      ]
     },
     "execution_count": 34,
     "metadata": {},
     "output_type": "execute_result"
    }
   ],
   "source": [
    "best_model = CatBoostClassifier(**best_params)\n",
    "best_model.fit(X_train, y_train,  cat_features=cat_features)"
   ]
  },
  {
   "cell_type": "code",
   "execution_count": 35,
   "id": "3efa68e8-8c15-4e5c-a193-e2fb4da88668",
   "metadata": {
    "tags": []
   },
   "outputs": [
    {
     "name": "stdout",
     "output_type": "stream",
     "text": [
      "Accuracy: 0.8632729805013928\n"
     ]
    }
   ],
   "source": [
    "accuracy = best_model.score(X_test, y_test)\n",
    "print(\"Accuracy:\", accuracy)"
   ]
  },
  {
   "cell_type": "code",
   "execution_count": 36,
   "id": "12337892-5bef-4607-8ca4-02ca521a54e4",
   "metadata": {
    "tags": []
   },
   "outputs": [],
   "source": [
    "predictions = best_model.predict(X_test)"
   ]
  },
  {
   "cell_type": "code",
   "execution_count": 37,
   "id": "487f3f72-6e6a-4694-8c6c-71c49f01f02e",
   "metadata": {
    "tags": []
   },
   "outputs": [],
   "source": [
    "f1_scores = f1_score(y_test, predictions, average=None)"
   ]
  },
  {
   "cell_type": "code",
   "execution_count": 38,
   "id": "0f6dc15a-e361-4007-ac71-dac4f46da764",
   "metadata": {
    "tags": []
   },
   "outputs": [],
   "source": [
    "encoded_classes = best_model.classes_"
   ]
  },
  {
   "cell_type": "code",
   "execution_count": 39,
   "id": "adfcc6de-5f29-419b-9d2d-d859129a9282",
   "metadata": {
    "tags": []
   },
   "outputs": [
    {
     "name": "stdout",
     "output_type": "stream",
     "text": [
      "F1 score for class CLOSELY ASSOCIATED: 0.5179730646255208\n",
      "F1 score for class CLOSELY ASSOCIATED,CRITICAL FUNCTIONS: 0.5067319461444308\n",
      "F1 score for class CRITICAL FUNCTIONS: 0.4815160816762311\n",
      "F1 score for class OTHER FUNCTIONS: 0.9252191514716205\n"
     ]
    }
   ],
   "source": [
    "for i, f1 in zip(encoded_classes, f1_scores):\n",
    "    print(f\"F1 score for class {i}: {f1}\")"
   ]
  },
  {
   "cell_type": "code",
   "execution_count": 40,
   "id": "acb8ae1b-7a8a-4d3e-987a-87f797e5b233",
   "metadata": {
    "tags": []
   },
   "outputs": [
    {
     "name": "stdout",
     "output_type": "stream",
     "text": [
      "Weighted average F1 score: 0.8435205259968444\n"
     ]
    }
   ],
   "source": [
    "weighted_f1_score = f1_score(y_test, predictions, average='weighted')\n",
    "print(\"Weighted average F1 score:\", weighted_f1_score)"
   ]
  },
  {
   "cell_type": "code",
   "execution_count": 41,
   "id": "23902185-7031-43c0-88ea-e5c8aa748d6b",
   "metadata": {
    "tags": []
   },
   "outputs": [
    {
     "name": "stdout",
     "output_type": "stream",
     "text": [
      "Classification Report:\n",
      "                                       precision    recall  f1-score   support\n",
      "\n",
      "                   CLOSELY ASSOCIATED       0.74      0.40      0.52      6726\n",
      "CLOSELY ASSOCIATED,CRITICAL FUNCTIONS       0.76      0.38      0.51      2180\n",
      "                   CRITICAL FUNCTIONS       0.72      0.36      0.48      4991\n",
      "                      OTHER FUNCTIONS       0.88      0.98      0.93     57903\n",
      "\n",
      "                             accuracy                           0.86     71800\n",
      "                            macro avg       0.78      0.53      0.61     71800\n",
      "                         weighted avg       0.85      0.86      0.84     71800\n",
      "\n"
     ]
    }
   ],
   "source": [
    "print(\"Classification Report:\")\n",
    "print(classification_report(y_test, predictions))"
   ]
  },
  {
   "cell_type": "markdown",
   "id": "712f9bf5-e363-4cd2-96a5-e997514a6804",
   "metadata": {},
   "source": [
    "# KNN Model"
   ]
  },
  {
   "cell_type": "code",
   "execution_count": 42,
   "id": "ea75a035-c4c3-4c13-a4bc-c73d25223ab8",
   "metadata": {
    "tags": []
   },
   "outputs": [],
   "source": [
    "# Split and encode data\n",
    "\n",
    "####### DOWN SAMPLED ########\n",
    "\n",
    "sampled_df = df.sample(n=5000, random_state=42)\n",
    "\n",
    "############################\n",
    "\n",
    "\n",
    "\n",
    "X = sampled_df.drop(columns=['Inherently Governmental Functions', 'Vendor Name', 'Description of Requirement'])  \n",
    "y = sampled_df['Inherently Governmental Functions'] \n",
    "\n",
    "X_encoded = pd.get_dummies(X)\n",
    "\n",
    "X_train, X_test, y_train, y_test = train_test_split(X_encoded, y, test_size=0.2, random_state=42)"
   ]
  },
  {
   "cell_type": "code",
   "execution_count": 43,
   "id": "366e457c-007b-4387-8fe5-a871cf7503cf",
   "metadata": {
    "tags": []
   },
   "outputs": [],
   "source": [
    "model = KNeighborsClassifier(n_neighbors=5)"
   ]
  },
  {
   "cell_type": "code",
   "execution_count": 44,
   "id": "98322817-b2fc-41cc-8325-2d6588e94b84",
   "metadata": {
    "tags": []
   },
   "outputs": [
    {
     "data": {
      "text/html": [
       "<style>#sk-container-id-1 {color: black;background-color: white;}#sk-container-id-1 pre{padding: 0;}#sk-container-id-1 div.sk-toggleable {background-color: white;}#sk-container-id-1 label.sk-toggleable__label {cursor: pointer;display: block;width: 100%;margin-bottom: 0;padding: 0.3em;box-sizing: border-box;text-align: center;}#sk-container-id-1 label.sk-toggleable__label-arrow:before {content: \"▸\";float: left;margin-right: 0.25em;color: #696969;}#sk-container-id-1 label.sk-toggleable__label-arrow:hover:before {color: black;}#sk-container-id-1 div.sk-estimator:hover label.sk-toggleable__label-arrow:before {color: black;}#sk-container-id-1 div.sk-toggleable__content {max-height: 0;max-width: 0;overflow: hidden;text-align: left;background-color: #f0f8ff;}#sk-container-id-1 div.sk-toggleable__content pre {margin: 0.2em;color: black;border-radius: 0.25em;background-color: #f0f8ff;}#sk-container-id-1 input.sk-toggleable__control:checked~div.sk-toggleable__content {max-height: 200px;max-width: 100%;overflow: auto;}#sk-container-id-1 input.sk-toggleable__control:checked~label.sk-toggleable__label-arrow:before {content: \"▾\";}#sk-container-id-1 div.sk-estimator input.sk-toggleable__control:checked~label.sk-toggleable__label {background-color: #d4ebff;}#sk-container-id-1 div.sk-label input.sk-toggleable__control:checked~label.sk-toggleable__label {background-color: #d4ebff;}#sk-container-id-1 input.sk-hidden--visually {border: 0;clip: rect(1px 1px 1px 1px);clip: rect(1px, 1px, 1px, 1px);height: 1px;margin: -1px;overflow: hidden;padding: 0;position: absolute;width: 1px;}#sk-container-id-1 div.sk-estimator {font-family: monospace;background-color: #f0f8ff;border: 1px dotted black;border-radius: 0.25em;box-sizing: border-box;margin-bottom: 0.5em;}#sk-container-id-1 div.sk-estimator:hover {background-color: #d4ebff;}#sk-container-id-1 div.sk-parallel-item::after {content: \"\";width: 100%;border-bottom: 1px solid gray;flex-grow: 1;}#sk-container-id-1 div.sk-label:hover label.sk-toggleable__label {background-color: #d4ebff;}#sk-container-id-1 div.sk-serial::before {content: \"\";position: absolute;border-left: 1px solid gray;box-sizing: border-box;top: 0;bottom: 0;left: 50%;z-index: 0;}#sk-container-id-1 div.sk-serial {display: flex;flex-direction: column;align-items: center;background-color: white;padding-right: 0.2em;padding-left: 0.2em;position: relative;}#sk-container-id-1 div.sk-item {position: relative;z-index: 1;}#sk-container-id-1 div.sk-parallel {display: flex;align-items: stretch;justify-content: center;background-color: white;position: relative;}#sk-container-id-1 div.sk-item::before, #sk-container-id-1 div.sk-parallel-item::before {content: \"\";position: absolute;border-left: 1px solid gray;box-sizing: border-box;top: 0;bottom: 0;left: 50%;z-index: -1;}#sk-container-id-1 div.sk-parallel-item {display: flex;flex-direction: column;z-index: 1;position: relative;background-color: white;}#sk-container-id-1 div.sk-parallel-item:first-child::after {align-self: flex-end;width: 50%;}#sk-container-id-1 div.sk-parallel-item:last-child::after {align-self: flex-start;width: 50%;}#sk-container-id-1 div.sk-parallel-item:only-child::after {width: 0;}#sk-container-id-1 div.sk-dashed-wrapped {border: 1px dashed gray;margin: 0 0.4em 0.5em 0.4em;box-sizing: border-box;padding-bottom: 0.4em;background-color: white;}#sk-container-id-1 div.sk-label label {font-family: monospace;font-weight: bold;display: inline-block;line-height: 1.2em;}#sk-container-id-1 div.sk-label-container {text-align: center;}#sk-container-id-1 div.sk-container {/* jupyter's `normalize.less` sets `[hidden] { display: none; }` but bootstrap.min.css set `[hidden] { display: none !important; }` so we also need the `!important` here to be able to override the default hidden behavior on the sphinx rendered scikit-learn.org. See: https://github.com/scikit-learn/scikit-learn/issues/21755 */display: inline-block !important;position: relative;}#sk-container-id-1 div.sk-text-repr-fallback {display: none;}</style><div id=\"sk-container-id-1\" class=\"sk-top-container\"><div class=\"sk-text-repr-fallback\"><pre>KNeighborsClassifier()</pre><b>In a Jupyter environment, please rerun this cell to show the HTML representation or trust the notebook. <br />On GitHub, the HTML representation is unable to render, please try loading this page with nbviewer.org.</b></div><div class=\"sk-container\" hidden><div class=\"sk-item\"><div class=\"sk-estimator sk-toggleable\"><input class=\"sk-toggleable__control sk-hidden--visually\" id=\"sk-estimator-id-1\" type=\"checkbox\" checked><label for=\"sk-estimator-id-1\" class=\"sk-toggleable__label sk-toggleable__label-arrow\">KNeighborsClassifier</label><div class=\"sk-toggleable__content\"><pre>KNeighborsClassifier()</pre></div></div></div></div></div>"
      ],
      "text/plain": [
       "KNeighborsClassifier()"
      ]
     },
     "execution_count": 44,
     "metadata": {},
     "output_type": "execute_result"
    }
   ],
   "source": [
    "model.fit(X_train, y_train)"
   ]
  },
  {
   "cell_type": "code",
   "execution_count": 45,
   "id": "8061f3a1-329c-4d09-97b5-8873173cb469",
   "metadata": {
    "tags": []
   },
   "outputs": [
    {
     "name": "stderr",
     "output_type": "stream",
     "text": [
      "/Users/christalesher/anaconda3/lib/python3.11/site-packages/sklearn/base.py:439: UserWarning: X does not have valid feature names, but KNeighborsClassifier was fitted with feature names\n",
      "  warnings.warn(\n"
     ]
    }
   ],
   "source": [
    "predictions = model.predict(X_test.values) #bug for KNN in current scikit-learn but this is a good work around"
   ]
  },
  {
   "cell_type": "code",
   "execution_count": 46,
   "id": "dc85321a-1ef9-4121-9a42-02eaab40411c",
   "metadata": {},
   "outputs": [
    {
     "name": "stdout",
     "output_type": "stream",
     "text": [
      "Accuracy: 0.755\n"
     ]
    }
   ],
   "source": [
    "accuracy = accuracy_score(y_test, predictions)\n",
    "print(\"Accuracy:\", accuracy)"
   ]
  },
  {
   "cell_type": "code",
   "execution_count": 47,
   "id": "1ffbf1b8-d5df-47d4-905a-26769010deaf",
   "metadata": {},
   "outputs": [],
   "source": [
    "f1_scores = f1_score(y_test, predictions, average=None)"
   ]
  },
  {
   "cell_type": "code",
   "execution_count": 48,
   "id": "3a23d5d5-cfdb-49ea-8bed-925725338c36",
   "metadata": {},
   "outputs": [
    {
     "name": "stdout",
     "output_type": "stream",
     "text": [
      "F1 score for class CLOSELY ASSOCIATED: 0.0909090909090909\n",
      "F1 score for class CLOSELY ASSOCIATED,CRITICAL FUNCTIONS: 0.04878048780487806\n",
      "F1 score for class CRITICAL FUNCTIONS: 0.04255319148936171\n",
      "F1 score for class OTHER FUNCTIONS: 0.860934795152914\n"
     ]
    }
   ],
   "source": [
    "for i, f1 in zip(model.classes_, f1_scores):\n",
    "    print(f\"F1 score for class {i}: {f1}\")"
   ]
  },
  {
   "cell_type": "code",
   "execution_count": 49,
   "id": "90ddb5aa-61ce-40c3-94eb-683c35f27253",
   "metadata": {},
   "outputs": [
    {
     "name": "stdout",
     "output_type": "stream",
     "text": [
      "Weighted average F1 score: 0.6885273807513562\n"
     ]
    }
   ],
   "source": [
    "weighted_f1_score = f1_score(y_test, predictions, average='weighted')\n",
    "print(\"Weighted average F1 score:\", weighted_f1_score)"
   ]
  },
  {
   "cell_type": "code",
   "execution_count": 50,
   "id": "fa3eb0b7-11fa-4782-82cf-7b823bcda7f9",
   "metadata": {
    "tags": []
   },
   "outputs": [
    {
     "name": "stdout",
     "output_type": "stream",
     "text": [
      "Classification Report:\n",
      "                                       precision    recall  f1-score   support\n",
      "\n",
      "                   CLOSELY ASSOCIATED       0.20      0.06      0.09       102\n",
      "CLOSELY ASSOCIATED,CRITICAL FUNCTIONS       1.00      0.03      0.05        40\n",
      "                   CRITICAL FUNCTIONS       0.11      0.03      0.04        75\n",
      "                      OTHER FUNCTIONS       0.79      0.95      0.86       783\n",
      "\n",
      "                             accuracy                           0.76      1000\n",
      "                            macro avg       0.52      0.27      0.26      1000\n",
      "                         weighted avg       0.68      0.76      0.69      1000\n",
      "\n"
     ]
    }
   ],
   "source": [
    "print(\"Classification Report:\")\n",
    "print(classification_report(y_test, predictions))"
   ]
  },
  {
   "cell_type": "markdown",
   "id": "fe0bd8f2-ed6c-43b1-87c8-783a47a444d6",
   "metadata": {},
   "source": [
    "## Grid Search (KNN)"
   ]
  },
  {
   "cell_type": "code",
   "execution_count": 51,
   "id": "7c6310de-f340-4323-b189-3f80a73bc5f1",
   "metadata": {
    "tags": []
   },
   "outputs": [],
   "source": [
    "param_grid = {'n_neighbors': [3, 5, 7]}"
   ]
  },
  {
   "cell_type": "code",
   "execution_count": 52,
   "id": "0665b6fa-9241-4f2d-b0cb-94a1df6a2aff",
   "metadata": {
    "tags": []
   },
   "outputs": [],
   "source": [
    "knn_model = KNeighborsClassifier()"
   ]
  },
  {
   "cell_type": "code",
   "execution_count": 53,
   "id": "269385e4-afc3-4280-8515-2933d750e3bd",
   "metadata": {
    "tags": []
   },
   "outputs": [],
   "source": [
    "grid_search = GridSearchCV(knn_model, param_grid, cv=5, scoring='accuracy')"
   ]
  },
  {
   "cell_type": "code",
   "execution_count": 54,
   "id": "8976e592-23d5-41e9-bbaa-1736458c9760",
   "metadata": {
    "tags": []
   },
   "outputs": [
    {
     "data": {
      "text/html": [
       "<style>#sk-container-id-2 {color: black;background-color: white;}#sk-container-id-2 pre{padding: 0;}#sk-container-id-2 div.sk-toggleable {background-color: white;}#sk-container-id-2 label.sk-toggleable__label {cursor: pointer;display: block;width: 100%;margin-bottom: 0;padding: 0.3em;box-sizing: border-box;text-align: center;}#sk-container-id-2 label.sk-toggleable__label-arrow:before {content: \"▸\";float: left;margin-right: 0.25em;color: #696969;}#sk-container-id-2 label.sk-toggleable__label-arrow:hover:before {color: black;}#sk-container-id-2 div.sk-estimator:hover label.sk-toggleable__label-arrow:before {color: black;}#sk-container-id-2 div.sk-toggleable__content {max-height: 0;max-width: 0;overflow: hidden;text-align: left;background-color: #f0f8ff;}#sk-container-id-2 div.sk-toggleable__content pre {margin: 0.2em;color: black;border-radius: 0.25em;background-color: #f0f8ff;}#sk-container-id-2 input.sk-toggleable__control:checked~div.sk-toggleable__content {max-height: 200px;max-width: 100%;overflow: auto;}#sk-container-id-2 input.sk-toggleable__control:checked~label.sk-toggleable__label-arrow:before {content: \"▾\";}#sk-container-id-2 div.sk-estimator input.sk-toggleable__control:checked~label.sk-toggleable__label {background-color: #d4ebff;}#sk-container-id-2 div.sk-label input.sk-toggleable__control:checked~label.sk-toggleable__label {background-color: #d4ebff;}#sk-container-id-2 input.sk-hidden--visually {border: 0;clip: rect(1px 1px 1px 1px);clip: rect(1px, 1px, 1px, 1px);height: 1px;margin: -1px;overflow: hidden;padding: 0;position: absolute;width: 1px;}#sk-container-id-2 div.sk-estimator {font-family: monospace;background-color: #f0f8ff;border: 1px dotted black;border-radius: 0.25em;box-sizing: border-box;margin-bottom: 0.5em;}#sk-container-id-2 div.sk-estimator:hover {background-color: #d4ebff;}#sk-container-id-2 div.sk-parallel-item::after {content: \"\";width: 100%;border-bottom: 1px solid gray;flex-grow: 1;}#sk-container-id-2 div.sk-label:hover label.sk-toggleable__label {background-color: #d4ebff;}#sk-container-id-2 div.sk-serial::before {content: \"\";position: absolute;border-left: 1px solid gray;box-sizing: border-box;top: 0;bottom: 0;left: 50%;z-index: 0;}#sk-container-id-2 div.sk-serial {display: flex;flex-direction: column;align-items: center;background-color: white;padding-right: 0.2em;padding-left: 0.2em;position: relative;}#sk-container-id-2 div.sk-item {position: relative;z-index: 1;}#sk-container-id-2 div.sk-parallel {display: flex;align-items: stretch;justify-content: center;background-color: white;position: relative;}#sk-container-id-2 div.sk-item::before, #sk-container-id-2 div.sk-parallel-item::before {content: \"\";position: absolute;border-left: 1px solid gray;box-sizing: border-box;top: 0;bottom: 0;left: 50%;z-index: -1;}#sk-container-id-2 div.sk-parallel-item {display: flex;flex-direction: column;z-index: 1;position: relative;background-color: white;}#sk-container-id-2 div.sk-parallel-item:first-child::after {align-self: flex-end;width: 50%;}#sk-container-id-2 div.sk-parallel-item:last-child::after {align-self: flex-start;width: 50%;}#sk-container-id-2 div.sk-parallel-item:only-child::after {width: 0;}#sk-container-id-2 div.sk-dashed-wrapped {border: 1px dashed gray;margin: 0 0.4em 0.5em 0.4em;box-sizing: border-box;padding-bottom: 0.4em;background-color: white;}#sk-container-id-2 div.sk-label label {font-family: monospace;font-weight: bold;display: inline-block;line-height: 1.2em;}#sk-container-id-2 div.sk-label-container {text-align: center;}#sk-container-id-2 div.sk-container {/* jupyter's `normalize.less` sets `[hidden] { display: none; }` but bootstrap.min.css set `[hidden] { display: none !important; }` so we also need the `!important` here to be able to override the default hidden behavior on the sphinx rendered scikit-learn.org. See: https://github.com/scikit-learn/scikit-learn/issues/21755 */display: inline-block !important;position: relative;}#sk-container-id-2 div.sk-text-repr-fallback {display: none;}</style><div id=\"sk-container-id-2\" class=\"sk-top-container\"><div class=\"sk-text-repr-fallback\"><pre>GridSearchCV(cv=5, estimator=KNeighborsClassifier(),\n",
       "             param_grid={&#x27;n_neighbors&#x27;: [3, 5, 7]}, scoring=&#x27;accuracy&#x27;)</pre><b>In a Jupyter environment, please rerun this cell to show the HTML representation or trust the notebook. <br />On GitHub, the HTML representation is unable to render, please try loading this page with nbviewer.org.</b></div><div class=\"sk-container\" hidden><div class=\"sk-item sk-dashed-wrapped\"><div class=\"sk-label-container\"><div class=\"sk-label sk-toggleable\"><input class=\"sk-toggleable__control sk-hidden--visually\" id=\"sk-estimator-id-2\" type=\"checkbox\" ><label for=\"sk-estimator-id-2\" class=\"sk-toggleable__label sk-toggleable__label-arrow\">GridSearchCV</label><div class=\"sk-toggleable__content\"><pre>GridSearchCV(cv=5, estimator=KNeighborsClassifier(),\n",
       "             param_grid={&#x27;n_neighbors&#x27;: [3, 5, 7]}, scoring=&#x27;accuracy&#x27;)</pre></div></div></div><div class=\"sk-parallel\"><div class=\"sk-parallel-item\"><div class=\"sk-item\"><div class=\"sk-label-container\"><div class=\"sk-label sk-toggleable\"><input class=\"sk-toggleable__control sk-hidden--visually\" id=\"sk-estimator-id-3\" type=\"checkbox\" ><label for=\"sk-estimator-id-3\" class=\"sk-toggleable__label sk-toggleable__label-arrow\">estimator: KNeighborsClassifier</label><div class=\"sk-toggleable__content\"><pre>KNeighborsClassifier()</pre></div></div></div><div class=\"sk-serial\"><div class=\"sk-item\"><div class=\"sk-estimator sk-toggleable\"><input class=\"sk-toggleable__control sk-hidden--visually\" id=\"sk-estimator-id-4\" type=\"checkbox\" ><label for=\"sk-estimator-id-4\" class=\"sk-toggleable__label sk-toggleable__label-arrow\">KNeighborsClassifier</label><div class=\"sk-toggleable__content\"><pre>KNeighborsClassifier()</pre></div></div></div></div></div></div></div></div></div></div>"
      ],
      "text/plain": [
       "GridSearchCV(cv=5, estimator=KNeighborsClassifier(),\n",
       "             param_grid={'n_neighbors': [3, 5, 7]}, scoring='accuracy')"
      ]
     },
     "execution_count": 54,
     "metadata": {},
     "output_type": "execute_result"
    }
   ],
   "source": [
    "grid_search.fit(X_train, y_train)"
   ]
  },
  {
   "cell_type": "code",
   "execution_count": 55,
   "id": "22d49816-4065-437a-8af8-433f065813b3",
   "metadata": {
    "tags": []
   },
   "outputs": [
    {
     "name": "stdout",
     "output_type": "stream",
     "text": [
      "Best Parameters: {'n_neighbors': 7}\n"
     ]
    }
   ],
   "source": [
    "best_params = grid_search.best_params_\n",
    "print(\"Best Parameters:\", best_params)"
   ]
  },
  {
   "cell_type": "code",
   "execution_count": 56,
   "id": "10cb6cf3-7744-4a7a-b80c-ba6b905a6e4c",
   "metadata": {
    "tags": []
   },
   "outputs": [],
   "source": [
    "best_estimator = grid_search.best_estimator_\n",
    "predictions = best_estimator.predict(X_test)"
   ]
  },
  {
   "cell_type": "code",
   "execution_count": 57,
   "id": "3fc6a820-f65b-48b9-abb2-7fc33084db4d",
   "metadata": {
    "tags": []
   },
   "outputs": [
    {
     "name": "stdout",
     "output_type": "stream",
     "text": [
      "Accuracy: 0.777\n"
     ]
    }
   ],
   "source": [
    "accuracy = accuracy_score(y_test, predictions)\n",
    "print(\"Accuracy:\", accuracy)"
   ]
  },
  {
   "cell_type": "code",
   "execution_count": 58,
   "id": "8c0a7618-af2f-4ef9-87ae-86946f73631c",
   "metadata": {
    "tags": []
   },
   "outputs": [
    {
     "name": "stdout",
     "output_type": "stream",
     "text": [
      "F1 score for class CLOSELY ASSOCIATED: 0.03636363636363636\n",
      "F1 score for class CLOSELY ASSOCIATED,CRITICAL FUNCTIONS: 0.04878048780487806\n",
      "F1 score for class CRITICAL FUNCTIONS: 0.02469135802469136\n",
      "F1 score for class OTHER FUNCTIONS: 0.8744343891402715\n"
     ]
    }
   ],
   "source": [
    "f1_scores = f1_score(y_test, predictions, average=None)\n",
    "for i, f1 in zip(model.classes_, f1_scores):\n",
    "    print(f\"F1 score for class {i}: {f1}\")"
   ]
  },
  {
   "cell_type": "code",
   "execution_count": 59,
   "id": "0a3a0d33-1b33-4b79-bc11-7693976bf45b",
   "metadata": {
    "tags": []
   },
   "outputs": [
    {
     "name": "stdout",
     "output_type": "stream",
     "text": [
      "Weighted average F1 score: 0.6921942889699705\n"
     ]
    }
   ],
   "source": [
    "weighted_f1_score = f1_score(y_test, predictions, average='weighted')\n",
    "print(\"Weighted average F1 score:\", weighted_f1_score)"
   ]
  },
  {
   "cell_type": "code",
   "execution_count": 60,
   "id": "637e95ed-7b22-4518-8b49-cb3953acd938",
   "metadata": {
    "tags": []
   },
   "outputs": [
    {
     "name": "stdout",
     "output_type": "stream",
     "text": [
      "Classification Report:\n",
      "                                       precision    recall  f1-score   support\n",
      "\n",
      "                   CLOSELY ASSOCIATED       0.25      0.02      0.04       102\n",
      "CLOSELY ASSOCIATED,CRITICAL FUNCTIONS       1.00      0.03      0.05        40\n",
      "                   CRITICAL FUNCTIONS       0.17      0.01      0.02        75\n",
      "                      OTHER FUNCTIONS       0.78      0.99      0.87       783\n",
      "\n",
      "                             accuracy                           0.78      1000\n",
      "                            macro avg       0.55      0.26      0.25      1000\n",
      "                         weighted avg       0.69      0.78      0.69      1000\n",
      "\n"
     ]
    }
   ],
   "source": [
    "print(\"Classification Report:\")\n",
    "print(classification_report(y_test, predictions))"
   ]
  },
  {
   "cell_type": "markdown",
   "id": "089f7786-66c9-4e8d-8730-f8d6ace4ff17",
   "metadata": {},
   "source": [
    "# Random Forest"
   ]
  },
  {
   "cell_type": "code",
   "execution_count": 61,
   "id": "abd68643-d80d-430d-9f6f-64bfe1703a8f",
   "metadata": {
    "tags": []
   },
   "outputs": [],
   "source": [
    "model = RandomForestClassifier(n_estimators=100, random_state=42)"
   ]
  },
  {
   "cell_type": "code",
   "execution_count": 62,
   "id": "bc9a473f-64e2-4c73-9da5-c2797a814dbe",
   "metadata": {
    "tags": []
   },
   "outputs": [
    {
     "data": {
      "text/html": [
       "<style>#sk-container-id-3 {color: black;background-color: white;}#sk-container-id-3 pre{padding: 0;}#sk-container-id-3 div.sk-toggleable {background-color: white;}#sk-container-id-3 label.sk-toggleable__label {cursor: pointer;display: block;width: 100%;margin-bottom: 0;padding: 0.3em;box-sizing: border-box;text-align: center;}#sk-container-id-3 label.sk-toggleable__label-arrow:before {content: \"▸\";float: left;margin-right: 0.25em;color: #696969;}#sk-container-id-3 label.sk-toggleable__label-arrow:hover:before {color: black;}#sk-container-id-3 div.sk-estimator:hover label.sk-toggleable__label-arrow:before {color: black;}#sk-container-id-3 div.sk-toggleable__content {max-height: 0;max-width: 0;overflow: hidden;text-align: left;background-color: #f0f8ff;}#sk-container-id-3 div.sk-toggleable__content pre {margin: 0.2em;color: black;border-radius: 0.25em;background-color: #f0f8ff;}#sk-container-id-3 input.sk-toggleable__control:checked~div.sk-toggleable__content {max-height: 200px;max-width: 100%;overflow: auto;}#sk-container-id-3 input.sk-toggleable__control:checked~label.sk-toggleable__label-arrow:before {content: \"▾\";}#sk-container-id-3 div.sk-estimator input.sk-toggleable__control:checked~label.sk-toggleable__label {background-color: #d4ebff;}#sk-container-id-3 div.sk-label input.sk-toggleable__control:checked~label.sk-toggleable__label {background-color: #d4ebff;}#sk-container-id-3 input.sk-hidden--visually {border: 0;clip: rect(1px 1px 1px 1px);clip: rect(1px, 1px, 1px, 1px);height: 1px;margin: -1px;overflow: hidden;padding: 0;position: absolute;width: 1px;}#sk-container-id-3 div.sk-estimator {font-family: monospace;background-color: #f0f8ff;border: 1px dotted black;border-radius: 0.25em;box-sizing: border-box;margin-bottom: 0.5em;}#sk-container-id-3 div.sk-estimator:hover {background-color: #d4ebff;}#sk-container-id-3 div.sk-parallel-item::after {content: \"\";width: 100%;border-bottom: 1px solid gray;flex-grow: 1;}#sk-container-id-3 div.sk-label:hover label.sk-toggleable__label {background-color: #d4ebff;}#sk-container-id-3 div.sk-serial::before {content: \"\";position: absolute;border-left: 1px solid gray;box-sizing: border-box;top: 0;bottom: 0;left: 50%;z-index: 0;}#sk-container-id-3 div.sk-serial {display: flex;flex-direction: column;align-items: center;background-color: white;padding-right: 0.2em;padding-left: 0.2em;position: relative;}#sk-container-id-3 div.sk-item {position: relative;z-index: 1;}#sk-container-id-3 div.sk-parallel {display: flex;align-items: stretch;justify-content: center;background-color: white;position: relative;}#sk-container-id-3 div.sk-item::before, #sk-container-id-3 div.sk-parallel-item::before {content: \"\";position: absolute;border-left: 1px solid gray;box-sizing: border-box;top: 0;bottom: 0;left: 50%;z-index: -1;}#sk-container-id-3 div.sk-parallel-item {display: flex;flex-direction: column;z-index: 1;position: relative;background-color: white;}#sk-container-id-3 div.sk-parallel-item:first-child::after {align-self: flex-end;width: 50%;}#sk-container-id-3 div.sk-parallel-item:last-child::after {align-self: flex-start;width: 50%;}#sk-container-id-3 div.sk-parallel-item:only-child::after {width: 0;}#sk-container-id-3 div.sk-dashed-wrapped {border: 1px dashed gray;margin: 0 0.4em 0.5em 0.4em;box-sizing: border-box;padding-bottom: 0.4em;background-color: white;}#sk-container-id-3 div.sk-label label {font-family: monospace;font-weight: bold;display: inline-block;line-height: 1.2em;}#sk-container-id-3 div.sk-label-container {text-align: center;}#sk-container-id-3 div.sk-container {/* jupyter's `normalize.less` sets `[hidden] { display: none; }` but bootstrap.min.css set `[hidden] { display: none !important; }` so we also need the `!important` here to be able to override the default hidden behavior on the sphinx rendered scikit-learn.org. See: https://github.com/scikit-learn/scikit-learn/issues/21755 */display: inline-block !important;position: relative;}#sk-container-id-3 div.sk-text-repr-fallback {display: none;}</style><div id=\"sk-container-id-3\" class=\"sk-top-container\"><div class=\"sk-text-repr-fallback\"><pre>RandomForestClassifier(random_state=42)</pre><b>In a Jupyter environment, please rerun this cell to show the HTML representation or trust the notebook. <br />On GitHub, the HTML representation is unable to render, please try loading this page with nbviewer.org.</b></div><div class=\"sk-container\" hidden><div class=\"sk-item\"><div class=\"sk-estimator sk-toggleable\"><input class=\"sk-toggleable__control sk-hidden--visually\" id=\"sk-estimator-id-5\" type=\"checkbox\" checked><label for=\"sk-estimator-id-5\" class=\"sk-toggleable__label sk-toggleable__label-arrow\">RandomForestClassifier</label><div class=\"sk-toggleable__content\"><pre>RandomForestClassifier(random_state=42)</pre></div></div></div></div></div>"
      ],
      "text/plain": [
       "RandomForestClassifier(random_state=42)"
      ]
     },
     "execution_count": 62,
     "metadata": {},
     "output_type": "execute_result"
    }
   ],
   "source": [
    "model.fit(X_train, y_train)"
   ]
  },
  {
   "cell_type": "code",
   "execution_count": 63,
   "id": "a17cbd1e-a85a-4d72-87d0-c8f068016a43",
   "metadata": {
    "tags": []
   },
   "outputs": [],
   "source": [
    "predictions = model.predict(X_test)"
   ]
  },
  {
   "cell_type": "code",
   "execution_count": 64,
   "id": "2ead7bf1-695c-445a-aecc-c4c4611b43c9",
   "metadata": {
    "tags": []
   },
   "outputs": [
    {
     "name": "stdout",
     "output_type": "stream",
     "text": [
      "Accuracy: 0.798\n"
     ]
    }
   ],
   "source": [
    "accuracy = accuracy_score(y_test, predictions)\n",
    "print(\"Accuracy:\", accuracy)"
   ]
  },
  {
   "cell_type": "code",
   "execution_count": 65,
   "id": "25f2b189-dd62-484e-8260-732665c860e8",
   "metadata": {
    "tags": []
   },
   "outputs": [
    {
     "name": "stdout",
     "output_type": "stream",
     "text": [
      "F1 score for class CLOSELY ASSOCIATED: 0.22764227642276424\n",
      "F1 score for class CLOSELY ASSOCIATED,CRITICAL FUNCTIONS: 0.2\n",
      "F1 score for class CRITICAL FUNCTIONS: 0.14117647058823532\n",
      "F1 score for class OTHER FUNCTIONS: 0.8874856486796786\n"
     ]
    }
   ],
   "source": [
    "f1_scores = f1_score(y_test, predictions, average=None)\n",
    "for i, f1 in zip(model.classes_, f1_scores):\n",
    "    print(f\"F1 score for class {i}: {f1}\")"
   ]
  },
  {
   "cell_type": "code",
   "execution_count": 66,
   "id": "c861003f-1e98-4ef6-8d90-6d4dad7f6fda",
   "metadata": {
    "tags": []
   },
   "outputs": [
    {
     "name": "stdout",
     "output_type": "stream",
     "text": [
      "Weighted average F1 score: 0.736709010405428\n"
     ]
    }
   ],
   "source": [
    "weighted_f1_score = f1_score(y_test, predictions, average='weighted')\n",
    "print(\"Weighted average F1 score:\", weighted_f1_score)"
   ]
  },
  {
   "cell_type": "code",
   "execution_count": 67,
   "id": "933aab52-7196-436b-8760-5b9fea6c941a",
   "metadata": {
    "tags": []
   },
   "outputs": [
    {
     "name": "stdout",
     "output_type": "stream",
     "text": [
      "Classification Report:\n",
      "                                       precision    recall  f1-score   support\n",
      "\n",
      "                   CLOSELY ASSOCIATED       0.67      0.14      0.23       102\n",
      "CLOSELY ASSOCIATED,CRITICAL FUNCTIONS       0.50      0.12      0.20        40\n",
      "                   CRITICAL FUNCTIONS       0.60      0.08      0.14        75\n",
      "                      OTHER FUNCTIONS       0.81      0.99      0.89       783\n",
      "\n",
      "                             accuracy                           0.80      1000\n",
      "                            macro avg       0.64      0.33      0.36      1000\n",
      "                         weighted avg       0.76      0.80      0.74      1000\n",
      "\n"
     ]
    }
   ],
   "source": [
    "print(\"Classification Report:\")\n",
    "print(classification_report(y_test, predictions))"
   ]
  },
  {
   "cell_type": "markdown",
   "id": "e1e84955-1275-4e1b-82e2-57dd2624e262",
   "metadata": {},
   "source": [
    "# Decision Tree"
   ]
  },
  {
   "cell_type": "code",
   "execution_count": 68,
   "id": "2309fd7e-cfcb-4a7f-b39a-01da9753509e",
   "metadata": {
    "tags": []
   },
   "outputs": [],
   "source": [
    "model = DecisionTreeClassifier(max_depth=None, random_state=42) "
   ]
  },
  {
   "cell_type": "code",
   "execution_count": 69,
   "id": "449b964e-5fea-4dc6-a46c-e30ce879177c",
   "metadata": {
    "tags": []
   },
   "outputs": [
    {
     "data": {
      "text/html": [
       "<style>#sk-container-id-4 {color: black;background-color: white;}#sk-container-id-4 pre{padding: 0;}#sk-container-id-4 div.sk-toggleable {background-color: white;}#sk-container-id-4 label.sk-toggleable__label {cursor: pointer;display: block;width: 100%;margin-bottom: 0;padding: 0.3em;box-sizing: border-box;text-align: center;}#sk-container-id-4 label.sk-toggleable__label-arrow:before {content: \"▸\";float: left;margin-right: 0.25em;color: #696969;}#sk-container-id-4 label.sk-toggleable__label-arrow:hover:before {color: black;}#sk-container-id-4 div.sk-estimator:hover label.sk-toggleable__label-arrow:before {color: black;}#sk-container-id-4 div.sk-toggleable__content {max-height: 0;max-width: 0;overflow: hidden;text-align: left;background-color: #f0f8ff;}#sk-container-id-4 div.sk-toggleable__content pre {margin: 0.2em;color: black;border-radius: 0.25em;background-color: #f0f8ff;}#sk-container-id-4 input.sk-toggleable__control:checked~div.sk-toggleable__content {max-height: 200px;max-width: 100%;overflow: auto;}#sk-container-id-4 input.sk-toggleable__control:checked~label.sk-toggleable__label-arrow:before {content: \"▾\";}#sk-container-id-4 div.sk-estimator input.sk-toggleable__control:checked~label.sk-toggleable__label {background-color: #d4ebff;}#sk-container-id-4 div.sk-label input.sk-toggleable__control:checked~label.sk-toggleable__label {background-color: #d4ebff;}#sk-container-id-4 input.sk-hidden--visually {border: 0;clip: rect(1px 1px 1px 1px);clip: rect(1px, 1px, 1px, 1px);height: 1px;margin: -1px;overflow: hidden;padding: 0;position: absolute;width: 1px;}#sk-container-id-4 div.sk-estimator {font-family: monospace;background-color: #f0f8ff;border: 1px dotted black;border-radius: 0.25em;box-sizing: border-box;margin-bottom: 0.5em;}#sk-container-id-4 div.sk-estimator:hover {background-color: #d4ebff;}#sk-container-id-4 div.sk-parallel-item::after {content: \"\";width: 100%;border-bottom: 1px solid gray;flex-grow: 1;}#sk-container-id-4 div.sk-label:hover label.sk-toggleable__label {background-color: #d4ebff;}#sk-container-id-4 div.sk-serial::before {content: \"\";position: absolute;border-left: 1px solid gray;box-sizing: border-box;top: 0;bottom: 0;left: 50%;z-index: 0;}#sk-container-id-4 div.sk-serial {display: flex;flex-direction: column;align-items: center;background-color: white;padding-right: 0.2em;padding-left: 0.2em;position: relative;}#sk-container-id-4 div.sk-item {position: relative;z-index: 1;}#sk-container-id-4 div.sk-parallel {display: flex;align-items: stretch;justify-content: center;background-color: white;position: relative;}#sk-container-id-4 div.sk-item::before, #sk-container-id-4 div.sk-parallel-item::before {content: \"\";position: absolute;border-left: 1px solid gray;box-sizing: border-box;top: 0;bottom: 0;left: 50%;z-index: -1;}#sk-container-id-4 div.sk-parallel-item {display: flex;flex-direction: column;z-index: 1;position: relative;background-color: white;}#sk-container-id-4 div.sk-parallel-item:first-child::after {align-self: flex-end;width: 50%;}#sk-container-id-4 div.sk-parallel-item:last-child::after {align-self: flex-start;width: 50%;}#sk-container-id-4 div.sk-parallel-item:only-child::after {width: 0;}#sk-container-id-4 div.sk-dashed-wrapped {border: 1px dashed gray;margin: 0 0.4em 0.5em 0.4em;box-sizing: border-box;padding-bottom: 0.4em;background-color: white;}#sk-container-id-4 div.sk-label label {font-family: monospace;font-weight: bold;display: inline-block;line-height: 1.2em;}#sk-container-id-4 div.sk-label-container {text-align: center;}#sk-container-id-4 div.sk-container {/* jupyter's `normalize.less` sets `[hidden] { display: none; }` but bootstrap.min.css set `[hidden] { display: none !important; }` so we also need the `!important` here to be able to override the default hidden behavior on the sphinx rendered scikit-learn.org. See: https://github.com/scikit-learn/scikit-learn/issues/21755 */display: inline-block !important;position: relative;}#sk-container-id-4 div.sk-text-repr-fallback {display: none;}</style><div id=\"sk-container-id-4\" class=\"sk-top-container\"><div class=\"sk-text-repr-fallback\"><pre>DecisionTreeClassifier(random_state=42)</pre><b>In a Jupyter environment, please rerun this cell to show the HTML representation or trust the notebook. <br />On GitHub, the HTML representation is unable to render, please try loading this page with nbviewer.org.</b></div><div class=\"sk-container\" hidden><div class=\"sk-item\"><div class=\"sk-estimator sk-toggleable\"><input class=\"sk-toggleable__control sk-hidden--visually\" id=\"sk-estimator-id-6\" type=\"checkbox\" checked><label for=\"sk-estimator-id-6\" class=\"sk-toggleable__label sk-toggleable__label-arrow\">DecisionTreeClassifier</label><div class=\"sk-toggleable__content\"><pre>DecisionTreeClassifier(random_state=42)</pre></div></div></div></div></div>"
      ],
      "text/plain": [
       "DecisionTreeClassifier(random_state=42)"
      ]
     },
     "execution_count": 69,
     "metadata": {},
     "output_type": "execute_result"
    }
   ],
   "source": [
    "model.fit(X_train, y_train)"
   ]
  },
  {
   "cell_type": "code",
   "execution_count": 70,
   "id": "3c3b38f0-c29f-49d4-bfa0-29a5aec41f38",
   "metadata": {
    "tags": []
   },
   "outputs": [],
   "source": [
    "predictions = model.predict(X_test)"
   ]
  },
  {
   "cell_type": "code",
   "execution_count": 71,
   "id": "1c665402-deff-48e5-a68a-5e9ec221b0b1",
   "metadata": {
    "tags": []
   },
   "outputs": [
    {
     "name": "stdout",
     "output_type": "stream",
     "text": [
      "Accuracy: 0.736\n"
     ]
    }
   ],
   "source": [
    "accuracy = accuracy_score(y_test, predictions)\n",
    "print(\"Accuracy:\", accuracy)"
   ]
  },
  {
   "cell_type": "code",
   "execution_count": 72,
   "id": "e67774f0-0ffe-48f0-85c8-cd317a6629d1",
   "metadata": {
    "tags": []
   },
   "outputs": [
    {
     "name": "stdout",
     "output_type": "stream",
     "text": [
      "F1 score for class CLOSELY ASSOCIATED: 0.23913043478260873\n",
      "F1 score for class CLOSELY ASSOCIATED,CRITICAL FUNCTIONS: 0.25\n",
      "F1 score for class CRITICAL FUNCTIONS: 0.28571428571428575\n",
      "F1 score for class OTHER FUNCTIONS: 0.8486720197652872\n"
     ]
    }
   ],
   "source": [
    "f1_scores = f1_score(y_test, predictions, average=None)\n",
    "for i, f1 in zip(model.classes_, f1_scores):\n",
    "    print(f\"F1 score for class {i}: {f1}\")"
   ]
  },
  {
   "cell_type": "code",
   "execution_count": 73,
   "id": "22b91d83-084a-46f8-b82f-cd13262bb688",
   "metadata": {
    "tags": []
   },
   "outputs": [
    {
     "name": "stdout",
     "output_type": "stream",
     "text": [
      "Weighted average F1 score: 0.7203300672526174\n"
     ]
    }
   ],
   "source": [
    "weighted_f1_score = f1_score(y_test, predictions, average='weighted')\n",
    "print(\"Weighted average F1 score:\", weighted_f1_score)"
   ]
  },
  {
   "cell_type": "code",
   "execution_count": 74,
   "id": "6fba4922-605e-4c57-9765-2c438cd16dc8",
   "metadata": {
    "tags": []
   },
   "outputs": [
    {
     "name": "stdout",
     "output_type": "stream",
     "text": [
      "Classification Report:\n",
      "                                       precision    recall  f1-score   support\n",
      "\n",
      "                   CLOSELY ASSOCIATED       0.27      0.22      0.24       102\n",
      "CLOSELY ASSOCIATED,CRITICAL FUNCTIONS       0.33      0.20      0.25        40\n",
      "                   CRITICAL FUNCTIONS       0.33      0.25      0.29        75\n",
      "                      OTHER FUNCTIONS       0.82      0.88      0.85       783\n",
      "\n",
      "                             accuracy                           0.74      1000\n",
      "                            macro avg       0.44      0.39      0.41      1000\n",
      "                         weighted avg       0.71      0.74      0.72      1000\n",
      "\n"
     ]
    }
   ],
   "source": [
    "print(\"Classification Report:\")\n",
    "print(classification_report(y_test, predictions))"
   ]
  },
  {
   "cell_type": "markdown",
   "id": "944fe0bd-861c-43de-b5bd-1af8341b9ade",
   "metadata": {},
   "source": [
    "# SVM"
   ]
  },
  {
   "cell_type": "code",
   "execution_count": 75,
   "id": "52969eb0-bbad-42b3-b606-9552beb74d86",
   "metadata": {
    "tags": []
   },
   "outputs": [],
   "source": [
    "model = SVC(kernel='rbf', C=1.0, gamma='scale') "
   ]
  },
  {
   "cell_type": "code",
   "execution_count": 76,
   "id": "aaa890fb-502e-411b-8fd9-f632170d650c",
   "metadata": {
    "tags": []
   },
   "outputs": [
    {
     "data": {
      "text/html": [
       "<style>#sk-container-id-5 {color: black;background-color: white;}#sk-container-id-5 pre{padding: 0;}#sk-container-id-5 div.sk-toggleable {background-color: white;}#sk-container-id-5 label.sk-toggleable__label {cursor: pointer;display: block;width: 100%;margin-bottom: 0;padding: 0.3em;box-sizing: border-box;text-align: center;}#sk-container-id-5 label.sk-toggleable__label-arrow:before {content: \"▸\";float: left;margin-right: 0.25em;color: #696969;}#sk-container-id-5 label.sk-toggleable__label-arrow:hover:before {color: black;}#sk-container-id-5 div.sk-estimator:hover label.sk-toggleable__label-arrow:before {color: black;}#sk-container-id-5 div.sk-toggleable__content {max-height: 0;max-width: 0;overflow: hidden;text-align: left;background-color: #f0f8ff;}#sk-container-id-5 div.sk-toggleable__content pre {margin: 0.2em;color: black;border-radius: 0.25em;background-color: #f0f8ff;}#sk-container-id-5 input.sk-toggleable__control:checked~div.sk-toggleable__content {max-height: 200px;max-width: 100%;overflow: auto;}#sk-container-id-5 input.sk-toggleable__control:checked~label.sk-toggleable__label-arrow:before {content: \"▾\";}#sk-container-id-5 div.sk-estimator input.sk-toggleable__control:checked~label.sk-toggleable__label {background-color: #d4ebff;}#sk-container-id-5 div.sk-label input.sk-toggleable__control:checked~label.sk-toggleable__label {background-color: #d4ebff;}#sk-container-id-5 input.sk-hidden--visually {border: 0;clip: rect(1px 1px 1px 1px);clip: rect(1px, 1px, 1px, 1px);height: 1px;margin: -1px;overflow: hidden;padding: 0;position: absolute;width: 1px;}#sk-container-id-5 div.sk-estimator {font-family: monospace;background-color: #f0f8ff;border: 1px dotted black;border-radius: 0.25em;box-sizing: border-box;margin-bottom: 0.5em;}#sk-container-id-5 div.sk-estimator:hover {background-color: #d4ebff;}#sk-container-id-5 div.sk-parallel-item::after {content: \"\";width: 100%;border-bottom: 1px solid gray;flex-grow: 1;}#sk-container-id-5 div.sk-label:hover label.sk-toggleable__label {background-color: #d4ebff;}#sk-container-id-5 div.sk-serial::before {content: \"\";position: absolute;border-left: 1px solid gray;box-sizing: border-box;top: 0;bottom: 0;left: 50%;z-index: 0;}#sk-container-id-5 div.sk-serial {display: flex;flex-direction: column;align-items: center;background-color: white;padding-right: 0.2em;padding-left: 0.2em;position: relative;}#sk-container-id-5 div.sk-item {position: relative;z-index: 1;}#sk-container-id-5 div.sk-parallel {display: flex;align-items: stretch;justify-content: center;background-color: white;position: relative;}#sk-container-id-5 div.sk-item::before, #sk-container-id-5 div.sk-parallel-item::before {content: \"\";position: absolute;border-left: 1px solid gray;box-sizing: border-box;top: 0;bottom: 0;left: 50%;z-index: -1;}#sk-container-id-5 div.sk-parallel-item {display: flex;flex-direction: column;z-index: 1;position: relative;background-color: white;}#sk-container-id-5 div.sk-parallel-item:first-child::after {align-self: flex-end;width: 50%;}#sk-container-id-5 div.sk-parallel-item:last-child::after {align-self: flex-start;width: 50%;}#sk-container-id-5 div.sk-parallel-item:only-child::after {width: 0;}#sk-container-id-5 div.sk-dashed-wrapped {border: 1px dashed gray;margin: 0 0.4em 0.5em 0.4em;box-sizing: border-box;padding-bottom: 0.4em;background-color: white;}#sk-container-id-5 div.sk-label label {font-family: monospace;font-weight: bold;display: inline-block;line-height: 1.2em;}#sk-container-id-5 div.sk-label-container {text-align: center;}#sk-container-id-5 div.sk-container {/* jupyter's `normalize.less` sets `[hidden] { display: none; }` but bootstrap.min.css set `[hidden] { display: none !important; }` so we also need the `!important` here to be able to override the default hidden behavior on the sphinx rendered scikit-learn.org. See: https://github.com/scikit-learn/scikit-learn/issues/21755 */display: inline-block !important;position: relative;}#sk-container-id-5 div.sk-text-repr-fallback {display: none;}</style><div id=\"sk-container-id-5\" class=\"sk-top-container\"><div class=\"sk-text-repr-fallback\"><pre>SVC()</pre><b>In a Jupyter environment, please rerun this cell to show the HTML representation or trust the notebook. <br />On GitHub, the HTML representation is unable to render, please try loading this page with nbviewer.org.</b></div><div class=\"sk-container\" hidden><div class=\"sk-item\"><div class=\"sk-estimator sk-toggleable\"><input class=\"sk-toggleable__control sk-hidden--visually\" id=\"sk-estimator-id-7\" type=\"checkbox\" checked><label for=\"sk-estimator-id-7\" class=\"sk-toggleable__label sk-toggleable__label-arrow\">SVC</label><div class=\"sk-toggleable__content\"><pre>SVC()</pre></div></div></div></div></div>"
      ],
      "text/plain": [
       "SVC()"
      ]
     },
     "execution_count": 76,
     "metadata": {},
     "output_type": "execute_result"
    }
   ],
   "source": [
    "model.fit(X_train, y_train)"
   ]
  },
  {
   "cell_type": "code",
   "execution_count": 77,
   "id": "1c44145e-df1d-4230-a275-c097d2934a29",
   "metadata": {
    "tags": []
   },
   "outputs": [],
   "source": [
    "predictions = model.predict(X_test)"
   ]
  },
  {
   "cell_type": "code",
   "execution_count": 78,
   "id": "54a166f0-9d6b-4f06-b6e4-47367b247002",
   "metadata": {
    "tags": []
   },
   "outputs": [
    {
     "name": "stdout",
     "output_type": "stream",
     "text": [
      "Accuracy: 0.783\n"
     ]
    }
   ],
   "source": [
    "accuracy = accuracy_score(y_test, predictions)\n",
    "print(\"Accuracy:\", accuracy)"
   ]
  },
  {
   "cell_type": "code",
   "execution_count": 79,
   "id": "2068aa0d-6aac-474a-b110-629e1514f583",
   "metadata": {
    "tags": []
   },
   "outputs": [
    {
     "name": "stdout",
     "output_type": "stream",
     "text": [
      "F1 score for class CLOSELY ASSOCIATED: 0.0\n",
      "F1 score for class CLOSELY ASSOCIATED,CRITICAL FUNCTIONS: 0.0\n",
      "F1 score for class CRITICAL FUNCTIONS: 0.0\n",
      "F1 score for class OTHER FUNCTIONS: 0.8782950084127875\n"
     ]
    }
   ],
   "source": [
    "f1_scores = f1_score(y_test, predictions, average=None)\n",
    "for i, f1 in zip(model.classes_, f1_scores):\n",
    "    print(f\"F1 score for class {i}: {f1}\")"
   ]
  },
  {
   "cell_type": "code",
   "execution_count": 80,
   "id": "7ada7275-db39-4ecd-93ec-0aaa10e6f8ea",
   "metadata": {
    "tags": []
   },
   "outputs": [
    {
     "name": "stdout",
     "output_type": "stream",
     "text": [
      "Weighted average F1 score: 0.6877049915872125\n"
     ]
    }
   ],
   "source": [
    "weighted_f1_score = f1_score(y_test, predictions, average='weighted')\n",
    "print(\"Weighted average F1 score:\", weighted_f1_score)"
   ]
  },
  {
   "cell_type": "code",
   "execution_count": 81,
   "id": "4389a7bb-dd72-4960-ae9c-b54f0a7a5e86",
   "metadata": {
    "tags": []
   },
   "outputs": [
    {
     "name": "stdout",
     "output_type": "stream",
     "text": [
      "Classification Report:\n",
      "                                       precision    recall  f1-score   support\n",
      "\n",
      "                   CLOSELY ASSOCIATED       0.00      0.00      0.00       102\n",
      "CLOSELY ASSOCIATED,CRITICAL FUNCTIONS       0.00      0.00      0.00        40\n",
      "                   CRITICAL FUNCTIONS       0.00      0.00      0.00        75\n",
      "                      OTHER FUNCTIONS       0.78      1.00      0.88       783\n",
      "\n",
      "                             accuracy                           0.78      1000\n",
      "                            macro avg       0.20      0.25      0.22      1000\n",
      "                         weighted avg       0.61      0.78      0.69      1000\n",
      "\n"
     ]
    },
    {
     "name": "stderr",
     "output_type": "stream",
     "text": [
      "/Users/christalesher/anaconda3/lib/python3.11/site-packages/sklearn/metrics/_classification.py:1344: UndefinedMetricWarning: Precision and F-score are ill-defined and being set to 0.0 in labels with no predicted samples. Use `zero_division` parameter to control this behavior.\n",
      "  _warn_prf(average, modifier, msg_start, len(result))\n",
      "/Users/christalesher/anaconda3/lib/python3.11/site-packages/sklearn/metrics/_classification.py:1344: UndefinedMetricWarning: Precision and F-score are ill-defined and being set to 0.0 in labels with no predicted samples. Use `zero_division` parameter to control this behavior.\n",
      "  _warn_prf(average, modifier, msg_start, len(result))\n",
      "/Users/christalesher/anaconda3/lib/python3.11/site-packages/sklearn/metrics/_classification.py:1344: UndefinedMetricWarning: Precision and F-score are ill-defined and being set to 0.0 in labels with no predicted samples. Use `zero_division` parameter to control this behavior.\n",
      "  _warn_prf(average, modifier, msg_start, len(result))\n"
     ]
    }
   ],
   "source": [
    "print(\"Classification Report:\")\n",
    "print(classification_report(y_test, predictions))"
   ]
  },
  {
   "cell_type": "code",
   "execution_count": null,
   "id": "741d43d3-3266-4690-891c-320711958d42",
   "metadata": {},
   "outputs": [],
   "source": []
  },
  {
   "cell_type": "markdown",
   "id": "16c96765-a387-46e8-8460-91db48075e90",
   "metadata": {},
   "source": [
    "# Visualizations"
   ]
  },
  {
   "cell_type": "code",
   "execution_count": 82,
   "id": "7fc8575c-8d06-41eb-937c-f1d091da1408",
   "metadata": {
    "tags": []
   },
   "outputs": [],
   "source": [
    "weighted_f1_dict = {'SVM': 0.6877049915872125, \n",
    "                    'Decision Tree': 0.7203300672526174, \n",
    "                    'Random Forest': 0.736709010405428,\n",
    "                    'KNN': 0.6921942889699705,\n",
    "                    'CatBoost': 0.8435205259968444}\n",
    "\n",
    "models = list(weighted_f1_dict.keys())\n",
    "weighted_f1_scores = list(weighted_f1_dict.values())"
   ]
  },
  {
   "cell_type": "code",
   "execution_count": 83,
   "id": "3946b92f-d793-4e5b-ba61-6f0bb44ccb2a",
   "metadata": {
    "tags": []
   },
   "outputs": [
    {
     "data": {
      "image/png": "[encoded data removed]",
      "text/plain": [
       "<Figure size 1000x600 with 1 Axes>"
      ]
     },
     "metadata": {},
     "output_type": "display_data"
    }
   ],
   "source": [
    "sns.set_style(\"darkgrid\")\n",
    "\n",
    "plt.figure(figsize=(10, 6))\n",
    "ax = sns.barplot(x=models, y=weighted_f1_scores, palette='pastel')\n",
    "plt.xlabel('Models')\n",
    "plt.ylabel('Weighted F1 Score')\n",
    "plt.title('Weighted F1 Scores of Different Models')\n",
    "plt.xticks(rotation=45)\n",
    "plt.ylim(0, 1)  \n",
    "\n",
    "for i, score in enumerate(weighted_f1_scores):\n",
    "    ax.text(i, score, f'{score:.2f}', ha='center', va='bottom')\n",
    "    \n",
    "plt.show()"
   ]
  },
  {
   "cell_type": "code",
   "execution_count": 84,
   "id": "bd64fb1c-a0f4-43dd-a647-498cefac957d",
   "metadata": {
    "tags": []
   },
   "outputs": [
    {
     "data": {
      "image/png": "[encoded data removed]",
      "text/plain": [
       "<Figure size 1000x600 with 1 Axes>"
      ]
     },
     "metadata": {},
     "output_type": "display_data"
    }
   ],
   "source": [
    "normalized_value_counts_dict = df['Inherently Governmental Functions'].value_counts(normalize = True).to_dict()\n",
    "normalized_value_counts_dict\n",
    "\n",
    "Y = list(normalized_value_counts_dict.keys())\n",
    "X = list(normalized_value_counts_dict.values())\n",
    "plt.figure(figsize=(10, 6))\n",
    "ax = sns.barplot(x=X, y=Y, palette='pastel')\n",
    "\n",
    "for i, val in enumerate(X):\n",
    "    ax.text(val, i, f'{val:.2f}', va='center', ha='left')\n",
    "\n",
    "plt.xlabel('Normalized Count')\n",
    "plt.ylabel('Inherently Governmental Functions')\n",
    "plt.title('Inherently Governmental Functions Normalized')\n",
    "\n",
    "plt.show()"
   ]
  },
  {
   "cell_type": "code",
   "execution_count": 85,
   "id": "9369b2a7-37f4-48fb-b681-0c9c170c2606",
   "metadata": {
    "tags": []
   },
   "outputs": [
    {
     "data": {
      "image/png": "[encoded data removed]",
      "text/plain": [
       "<Figure size 1400x600 with 1 Axes>"
      ]
     },
     "metadata": {},
     "output_type": "display_data"
    }
   ],
   "source": [
    "value_counts_dict = df['Inherently Governmental Functions'].value_counts().to_dict()\n",
    "\n",
    "\n",
    "Y = list(value_counts_dict.keys())\n",
    "X = list(value_counts_dict.values())\n",
    "plt.figure(figsize=(14, 6))\n",
    "ax = sns.barplot(x=X, y=Y, palette='pastel')\n",
    "\n",
    "\n",
    "for i, val in enumerate(X):\n",
    "    ax.text(val, i, f'{val:,.0f}', va='center', ha='left')\n",
    "\n",
    "\n",
    "plt.xlabel('Count')\n",
    "plt.ylabel('Inherently Governmental Functions')\n",
    "plt.title('Inherently Governmental Functions Counts')\n",
    "\n",
    "plt.show()\n"
   ]
  },
  {
   "cell_type": "code",
   "execution_count": 86,
   "id": "192134f5-316d-4f64-bc5f-873f386d7a37",
   "metadata": {},
   "outputs": [
    {
     "data": {
      "image/png": "[encoded data removed]",
      "text/plain": [
       "<Figure size 1400x600 with 1 Axes>"
      ]
     },
     "metadata": {},
     "output_type": "display_data"
    }
   ],
   "source": [
    "plt.figure(figsize=(14, 6))\n",
    "ax = sns.lineplot(data=df, x='Year_Reported', y='normalized_Options_Value', hue='Inherently Governmental Functions')\n",
    "plt.xlabel('Year Reported')\n",
    "plt.ylabel('Normalized Total Base and All Options Value')\n",
    "plt.title('Options Value vs. Year by Inherently Governmental Functions')\n",
    "ax.xaxis.set_major_locator(ticker.MaxNLocator(integer=True))\n",
    "plt.show()"
   ]
  },
  {
   "cell_type": "code",
   "execution_count": null,
   "id": "becd7556-8e8a-4728-bf80-e727d34b22a6",
   "metadata": {},
   "outputs": [],
   "source": []
  },
  {
   "cell_type": "code",
   "execution_count": null,
   "id": "c24be8de-322d-463f-ab29-a0e2ae1d5f8d",
   "metadata": {},
   "outputs": [],
   "source": []
  },
  {
   "cell_type": "code",
   "execution_count": null,
   "id": "dc018358-9365-4755-85c4-274f08fa1560",
   "metadata": {},
   "outputs": [],
   "source": []
  },
  {
   "cell_type": "code",
   "execution_count": null,
   "id": "ae76b94c-cf4b-4de1-bd53-c84b4a70b33e",
   "metadata": {},
   "outputs": [],
   "source": []
  },
  {
   "cell_type": "code",
   "execution_count": null,
   "id": "311d1d91-cfb4-496c-99d8-0bb10f5469a5",
   "metadata": {},
   "outputs": [],
   "source": []
  },
  {
   "cell_type": "code",
   "execution_count": null,
   "id": "4ea6178a-1142-48b3-96d8-6a62759e588e",
   "metadata": {},
   "outputs": [],
   "source": []
  },
  {
   "cell_type": "code",
   "execution_count": null,
   "id": "e0cb962a-e17a-42ce-bcd5-0cd43d8f8b4e",
   "metadata": {},
   "outputs": [],
   "source": []
  }
 ],
 "metadata": {
  "kernelspec": {
   "display_name": "Python 3 (ipykernel)",
   "language": "python",
   "name": "python3"
  },
  "language_info": {
   "codemirror_mode": {
    "name": "ipython",
    "version": 3
   },
   "file_extension": ".py",
   "mimetype": "text/x-python",
   "name": "python",
   "nbconvert_exporter": "python",
   "pygments_lexer": "ipython3",
   "version": "3.11.8"
  }
 },
 "nbformat": 4,
 "nbformat_minor": 5
}
