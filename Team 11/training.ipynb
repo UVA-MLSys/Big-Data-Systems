{
 "cells": [
  {
   "cell_type": "code",
   "execution_count": 1,
   "metadata": {},
   "outputs": [
    {
     "name": "stdout",
     "output_type": "stream",
     "text": [
      "sagemaker.config INFO - Not applying SDK defaults from location: /etc/xdg/sagemaker/config.yaml\n",
      "sagemaker.config INFO - Not applying SDK defaults from location: /home/sagemaker-user/.config/sagemaker/config.yaml\n"
     ]
    }
   ],
   "source": [
    "from S3DogDataset import *\n",
    "import pandas as pd\n",
    "from torch.utils.data import DataLoader, RandomSampler\n",
    "from torchvision import models\n",
    "from tqdm import tqdm\n",
    "import time"
   ]
  },
  {
   "cell_type": "code",
   "execution_count": 2,
   "metadata": {},
   "outputs": [
    {
     "name": "stdout",
     "output_type": "stream",
     "text": [
      "sagemaker.config INFO - Not applying SDK defaults from location: /etc/xdg/sagemaker/config.yaml\n",
      "sagemaker.config INFO - Not applying SDK defaults from location: /home/sagemaker-user/.config/sagemaker/config.yaml\n",
      "sagemaker.config INFO - Not applying SDK defaults from location: /etc/xdg/sagemaker/config.yaml\n",
      "sagemaker.config INFO - Not applying SDK defaults from location: /home/sagemaker-user/.config/sagemaker/config.yaml\n"
     ]
    }
   ],
   "source": [
    "train_dataset = S3DogDataset(file_ref_csv='Labels/train_labels.csv', bucket_name = \"sagemaker-team11-stanford-dogs\")\n",
    "test_dataset = S3DogDataset(file_ref_csv='Labels/test_labels.csv', bucket_name = \"sagemaker-team11-stanford-dogs\")\n",
    "\n",
    "train_loader = DataLoader(train_dataset, batch_size=32, shuffle=True, pin_memory=True, num_workers= 24)\n",
    "test_loader = DataLoader(test_dataset, batch_size=32, shuffle=True, pin_memory=True, num_workers= 24)\n",
    "\n",
    "train_sampler = RandomSampler(train_dataset, replacement=True, num_samples=2400)\n",
    "test_sampler = RandomSampler(test_dataset, replacement=True, num_samples=1200)\n",
    "\n",
    "train_sample_loader = DataLoader(train_dataset, batch_size=32, sampler=train_sampler, pin_memory=True, num_workers= 24)\n",
    "test_sample_loader = DataLoader(test_dataset, batch_size=32, sampler=test_sampler, pin_memory=True, num_workers= 24)"
   ]
  },
  {
   "cell_type": "code",
   "execution_count": 4,
   "metadata": {},
   "outputs": [],
   "source": [
    "num_classes = 120\n",
    "\n",
    "# load mobilenet_v3_large\n",
    "mobilenet_v3_large = models.mobilenet_v3_large(weights=\"IMAGENET1K_V2\")\n",
    "\n",
    "for param in mobilenet_v3_large.parameters():\n",
    "    param.requires_grad = False\n",
    "\n",
    "num_features = mobilenet_v3_large.classifier[3].in_features\n",
    "mobilenet_v3_large.classifier[3] = torch.nn.Linear(num_features, num_classes)\n",
    "\n",
    "# load mobilenet_v3_small\n",
    "mobilenet_v3_small = models.mobilenet_v3_small(weights=\"IMAGENET1K_V1\")\n",
    "            \n",
    "for param in mobilenet_v3_small.parameters():\n",
    "    param.requires_grad = False\n",
    "\n",
    "num_features = mobilenet_v3_small.classifier[3].in_features\n",
    "mobilenet_v3_small.classifier[3] = torch.nn.Linear(num_features, num_classes)\n",
    "\n",
    "# load mnasnet0_5\n",
    "mnasnet0_5 = models.mnasnet0_5(weights=\"IMAGENET1K_V1\")\n",
    "            \n",
    "for param in mnasnet0_5.parameters():\n",
    "    param.requires_grad = False\n",
    "\n",
    "num_features = mnasnet0_5.classifier[1].in_features\n",
    "mnasnet0_5.classifier[1] = torch.nn.Linear(num_features, num_classes)\n",
    "\n",
    "# load shufflenet_v2_x0_5\n",
    "shufflenet_v2_x0_5 = models.shufflenet_v2_x0_5(weights=\"IMAGENET1K_V1\")\n",
    "            \n",
    "for param in shufflenet_v2_x0_5.parameters():\n",
    "    param.requires_grad = False\n",
    "\n",
    "num_features = shufflenet_v2_x0_5.fc.in_features\n",
    "shufflenet_v2_x0_5.fc = torch.nn.Linear(num_features, num_classes)\n",
    "\n",
    "# load shufflenet_v2_x1_0\n",
    "shufflenet_v2_x1_0 = models.shufflenet_v2_x1_0(weights=\"IMAGENET1K_V1\")\n",
    "            \n",
    "for param in shufflenet_v2_x1_0.parameters():\n",
    "    param.requires_grad = False\n",
    "\n",
    "num_features = shufflenet_v2_x1_0.fc.in_features \n",
    "shufflenet_v2_x1_0.fc = torch.nn.Linear(num_features, num_classes)\n",
    "\n",
    "# specify model lists and names\n",
    "# model_list = [mobilenet_v3_small, mobilenet_v3_large, mnasnet0_5, shufflenet_v2_x0_5,shufflenet_v2_x1_0]\n",
    "# model_name_list = ['mobilenet_v3_small.pth','mobilenet_v3_large.pth','mnasnet0_5.pth','shufflenet_v2_x0_5.pth','shufflenet_v2_x1_0.pth']"
   ]
  },
  {
   "cell_type": "code",
   "execution_count": 4,
   "metadata": {},
   "outputs": [],
   "source": [
    "# load microsoft's tiny_vit\n",
    "import timm\n",
    "\n",
    "#from tiny_vit import tiny_vit_5m_224, tiny_vit_11m_224, tiny_vit_21m_224\n",
    "from tiny_vit import tiny_vit_5m_224\n",
    "\n",
    "num_classes = 120\n",
    "\n",
    "tiny_vit_5m = tiny_vit_5m_224(pretrained=True)\n",
    "tiny_vit_5m.head = torch.nn.Linear(tiny_vit_5m.head.in_features, num_classes)\n",
    "\n",
    "# model_list = [tiny_vit_5m]\n",
    "# model_name_list = ['tiny_vit_5m.pth']"
   ]
  },
  {
   "cell_type": "code",
   "execution_count": 11,
   "metadata": {},
   "outputs": [],
   "source": [
    "model_list = [mobilenet_v3_small, mobilenet_v3_large, mnasnet0_5, shufflenet_v2_x0_5,shufflenet_v2_x1_0, tiny_vit_5m]\n",
    "model_name_list = ['mobilenet_v3_small.pth','mobilenet_v3_large.pth','mnasnet0_5.pth','shufflenet_v2_x0_5.pth','shufflenet_v2_x1_0.pth', 'tiny_vit_5m.pth']"
   ]
  },
  {
   "cell_type": "code",
   "execution_count": 12,
   "metadata": {},
   "outputs": [
    {
     "name": "stderr",
     "output_type": "stream",
     "text": [
      "Train Loop: 100%|██████████| 75/75 [01:07<00:00,  1.12it/s]\n",
      "Validation Loop: 100%|██████████| 38/38 [00:21<00:00,  1.75it/s]\n"
     ]
    },
    {
     "name": "stdout",
     "output_type": "stream",
     "text": [
      "Model: tiny_vit_11m.pth, Epoch: 1, Accuracy: 7.833333333333333, Train Loss: 4.565139293670654, Val Loss: 4.499314308166504, Epoch Time: 88.86070919036865\n",
      "Model: tiny_vit_11m.pth saved.\n"
     ]
    },
    {
     "name": "stderr",
     "output_type": "stream",
     "text": [
      "Train Loop: 100%|██████████| 75/75 [01:10<00:00,  1.06it/s]\n",
      "Validation Loop: 100%|██████████| 38/38 [00:21<00:00,  1.80it/s]\n"
     ]
    },
    {
     "name": "stdout",
     "output_type": "stream",
     "text": [
      "Model: tiny_vit_11m.pth, Epoch: 2, Accuracy: 26.5, Train Loss: 4.214290142059326, Val Loss: 4.242842197418213, Epoch Time: 91.90541315078735\n",
      "Model: tiny_vit_11m.pth saved.\n"
     ]
    },
    {
     "name": "stderr",
     "output_type": "stream",
     "text": [
      "Train Loop: 100%|██████████| 75/75 [01:17<00:00,  1.04s/it]\n",
      "Validation Loop: 100%|██████████| 38/38 [00:40<00:00,  1.06s/it]\n"
     ]
    },
    {
     "name": "stdout",
     "output_type": "stream",
     "text": [
      "Model: tiny_vit_11m.pth, Epoch: 3, Accuracy: 40.916666666666664, Train Loss: 3.777937650680542, Val Loss: 3.822889566421509, Epoch Time: 118.15184760093689\n",
      "Model: tiny_vit_11m.pth saved.\n"
     ]
    },
    {
     "name": "stderr",
     "output_type": "stream",
     "text": [
      "Train Loop: 100%|██████████| 75/75 [01:41<00:00,  1.35s/it]\n",
      "Validation Loop: 100%|██████████| 38/38 [00:21<00:00,  1.80it/s]\n"
     ]
    },
    {
     "name": "stdout",
     "output_type": "stream",
     "text": [
      "Model: tiny_vit_11m.pth, Epoch: 4, Accuracy: 51.333333333333336, Train Loss: 3.134807586669922, Val Loss: 3.4525444507598877, Epoch Time: 122.30336022377014\n",
      "Model: tiny_vit_11m.pth saved.\n"
     ]
    },
    {
     "name": "stderr",
     "output_type": "stream",
     "text": [
      "Train Loop: 100%|██████████| 75/75 [01:10<00:00,  1.07it/s]\n",
      "Validation Loop: 100%|██████████| 38/38 [00:21<00:00,  1.79it/s]\n"
     ]
    },
    {
     "name": "stdout",
     "output_type": "stream",
     "text": [
      "Model: tiny_vit_11m.pth, Epoch: 5, Accuracy: 53.333333333333336, Train Loss: 2.819568634033203, Val Loss: 2.9116382598876953, Epoch Time: 91.4999623298645\n",
      "Model: tiny_vit_11m.pth saved.\n"
     ]
    },
    {
     "name": "stderr",
     "output_type": "stream",
     "text": [
      "Train Loop: 100%|██████████| 75/75 [01:10<00:00,  1.06it/s]\n",
      "Validation Loop: 100%|██████████| 38/38 [00:21<00:00,  1.76it/s]\n"
     ]
    },
    {
     "name": "stdout",
     "output_type": "stream",
     "text": [
      "Model: tiny_vit_11m.pth, Epoch: 6, Accuracy: 57.25, Train Loss: 2.64733624458313, Val Loss: 2.9162814617156982, Epoch Time: 92.35660076141357\n",
      "Model: tiny_vit_11m.pth saved.\n"
     ]
    },
    {
     "name": "stderr",
     "output_type": "stream",
     "text": [
      "Train Loop: 100%|██████████| 75/75 [01:10<00:00,  1.06it/s]\n",
      "Validation Loop: 100%|██████████| 38/38 [00:21<00:00,  1.78it/s]\n"
     ]
    },
    {
     "name": "stdout",
     "output_type": "stream",
     "text": [
      "Model: tiny_vit_11m.pth, Epoch: 7, Accuracy: 62.666666666666664, Train Loss: 2.3335437774658203, Val Loss: 2.4576821327209473, Epoch Time: 91.89711618423462\n",
      "Model: tiny_vit_11m.pth saved.\n"
     ]
    },
    {
     "name": "stderr",
     "output_type": "stream",
     "text": [
      "Train Loop: 100%|██████████| 75/75 [01:11<00:00,  1.05it/s]\n",
      "Validation Loop: 100%|██████████| 38/38 [00:21<00:00,  1.78it/s]\n"
     ]
    },
    {
     "name": "stdout",
     "output_type": "stream",
     "text": [
      "Model: tiny_vit_11m.pth, Epoch: 8, Accuracy: 65.58333333333333, Train Loss: 2.020944595336914, Val Loss: 1.9957785606384277, Epoch Time: 92.5297441482544\n",
      "Model: tiny_vit_11m.pth saved.\n"
     ]
    },
    {
     "name": "stderr",
     "output_type": "stream",
     "text": [
      "Train Loop: 100%|██████████| 75/75 [01:11<00:00,  1.05it/s]\n",
      "Validation Loop: 100%|██████████| 38/38 [00:21<00:00,  1.76it/s]\n"
     ]
    },
    {
     "name": "stdout",
     "output_type": "stream",
     "text": [
      "Model: tiny_vit_11m.pth, Epoch: 9, Accuracy: 66.41666666666667, Train Loss: 1.690589189529419, Val Loss: 1.6681398153305054, Epoch Time: 92.86127591133118\n",
      "Model: tiny_vit_11m.pth saved.\n"
     ]
    },
    {
     "name": "stderr",
     "output_type": "stream",
     "text": [
      "Train Loop: 100%|██████████| 75/75 [01:12<00:00,  1.04it/s]\n",
      "Validation Loop: 100%|██████████| 38/38 [00:21<00:00,  1.78it/s]\n"
     ]
    },
    {
     "name": "stdout",
     "output_type": "stream",
     "text": [
      "Model: tiny_vit_11m.pth, Epoch: 10, Accuracy: 68.58333333333333, Train Loss: 1.5708513259887695, Val Loss: 1.658889651298523, Epoch Time: 93.36122155189514\n",
      "Model: tiny_vit_11m.pth saved.\n"
     ]
    },
    {
     "name": "stderr",
     "output_type": "stream",
     "text": [
      "Train Loop: 100%|██████████| 75/75 [01:10<00:00,  1.06it/s]\n",
      "Validation Loop: 100%|██████████| 38/38 [00:21<00:00,  1.75it/s]\n"
     ]
    },
    {
     "name": "stdout",
     "output_type": "stream",
     "text": [
      "Model: tiny_vit_11m.pth, Epoch: 11, Accuracy: 71.25, Train Loss: 1.16399085521698, Val Loss: 1.2897123098373413, Epoch Time: 92.27547216415405\n",
      "Model: tiny_vit_11m.pth saved.\n"
     ]
    },
    {
     "name": "stderr",
     "output_type": "stream",
     "text": [
      "Train Loop: 100%|██████████| 75/75 [01:13<00:00,  1.02it/s]\n",
      "Validation Loop: 100%|██████████| 38/38 [00:21<00:00,  1.77it/s]\n"
     ]
    },
    {
     "name": "stdout",
     "output_type": "stream",
     "text": [
      "Model: tiny_vit_11m.pth, Epoch: 12, Accuracy: 72.75, Train Loss: 1.1997442245483398, Val Loss: 1.8053267002105713, Epoch Time: 94.66142654418945\n",
      "Model: tiny_vit_11m.pth saved.\n"
     ]
    },
    {
     "name": "stderr",
     "output_type": "stream",
     "text": [
      "Train Loop: 100%|██████████| 75/75 [01:11<00:00,  1.06it/s]\n",
      "Validation Loop: 100%|██████████| 38/38 [00:21<00:00,  1.76it/s]\n"
     ]
    },
    {
     "name": "stdout",
     "output_type": "stream",
     "text": [
      "Model: tiny_vit_11m.pth, Epoch: 13, Accuracy: 73.91666666666667, Train Loss: 1.3562397956848145, Val Loss: 1.2974367141723633, Epoch Time: 92.62605381011963\n",
      "Model: tiny_vit_11m.pth saved.\n"
     ]
    },
    {
     "name": "stderr",
     "output_type": "stream",
     "text": [
      "Train Loop: 100%|██████████| 75/75 [01:53<00:00,  1.51s/it]\n",
      "Validation Loop: 100%|██████████| 38/38 [00:37<00:00,  1.02it/s]\n"
     ]
    },
    {
     "name": "stdout",
     "output_type": "stream",
     "text": [
      "Model: tiny_vit_11m.pth, Epoch: 14, Accuracy: 76.91666666666667, Train Loss: 1.08718740940094, Val Loss: 1.4466636180877686, Epoch Time: 150.3979790210724\n",
      "Model: tiny_vit_11m.pth saved.\n"
     ]
    },
    {
     "name": "stderr",
     "output_type": "stream",
     "text": [
      "Train Loop: 100%|██████████| 75/75 [02:23<00:00,  1.92s/it]\n",
      "Validation Loop: 100%|██████████| 38/38 [00:33<00:00,  1.13it/s]\n"
     ]
    },
    {
     "name": "stdout",
     "output_type": "stream",
     "text": [
      "Model: tiny_vit_11m.pth, Epoch: 15, Accuracy: 77.75, Train Loss: 0.739300012588501, Val Loss: 0.9985054731369019, Epoch Time: 177.26407098770142\n",
      "Model: tiny_vit_11m.pth saved.\n"
     ]
    },
    {
     "name": "stderr",
     "output_type": "stream",
     "text": [
      "Train Loop: 100%|██████████| 75/75 [01:14<00:00,  1.01it/s]\n",
      "Validation Loop: 100%|██████████| 38/38 [00:21<00:00,  1.76it/s]\n"
     ]
    },
    {
     "name": "stdout",
     "output_type": "stream",
     "text": [
      "Model: tiny_vit_11m.pth, Epoch: 16, Accuracy: 78.41666666666667, Train Loss: 0.7722446918487549, Val Loss: 1.101525068283081, Epoch Time: 95.78633666038513\n",
      "Model: tiny_vit_11m.pth saved.\n"
     ]
    },
    {
     "name": "stderr",
     "output_type": "stream",
     "text": [
      "Train Loop: 100%|██████████| 75/75 [01:10<00:00,  1.06it/s]\n",
      "Validation Loop: 100%|██████████| 38/38 [00:21<00:00,  1.77it/s]\n"
     ]
    },
    {
     "name": "stdout",
     "output_type": "stream",
     "text": [
      "Model: tiny_vit_11m.pth, Epoch: 17, Accuracy: 78.16666666666667, Train Loss: 0.7841068506240845, Val Loss: 0.9575213193893433, Epoch Time: 92.10616278648376\n",
      "Model: tiny_vit_11m.pth saved.\n"
     ]
    },
    {
     "name": "stderr",
     "output_type": "stream",
     "text": [
      "Train Loop: 100%|██████████| 75/75 [01:11<00:00,  1.05it/s]\n",
      "Validation Loop: 100%|██████████| 38/38 [00:21<00:00,  1.76it/s]\n"
     ]
    },
    {
     "name": "stdout",
     "output_type": "stream",
     "text": [
      "Model: tiny_vit_11m.pth, Epoch: 18, Accuracy: 80.5, Train Loss: 0.6752805113792419, Val Loss: 1.0871468782424927, Epoch Time: 93.16885209083557\n",
      "Model: tiny_vit_11m.pth saved.\n"
     ]
    },
    {
     "name": "stderr",
     "output_type": "stream",
     "text": [
      "Train Loop: 100%|██████████| 75/75 [01:12<00:00,  1.04it/s]\n",
      "Validation Loop: 100%|██████████| 38/38 [00:22<00:00,  1.72it/s]\n"
     ]
    },
    {
     "name": "stdout",
     "output_type": "stream",
     "text": [
      "Model: tiny_vit_11m.pth, Epoch: 19, Accuracy: 80.41666666666667, Train Loss: 0.6130240559577942, Val Loss: 0.6298118233680725, Epoch Time: 94.42170000076294\n",
      "Model: tiny_vit_11m.pth saved.\n"
     ]
    },
    {
     "name": "stderr",
     "output_type": "stream",
     "text": [
      "Train Loop: 100%|██████████| 75/75 [01:11<00:00,  1.05it/s]\n",
      "Validation Loop: 100%|██████████| 38/38 [00:21<00:00,  1.76it/s]\n"
     ]
    },
    {
     "name": "stdout",
     "output_type": "stream",
     "text": [
      "Model: tiny_vit_11m.pth, Epoch: 20, Accuracy: 77.58333333333333, Train Loss: 0.5081201791763306, Val Loss: 0.9343157410621643, Epoch Time: 93.03055548667908\n",
      "Model: tiny_vit_11m.pth saved.\n"
     ]
    },
    {
     "name": "stderr",
     "output_type": "stream",
     "text": [
      "Train Loop: 100%|██████████| 75/75 [01:12<00:00,  1.04it/s]\n",
      "Validation Loop: 100%|██████████| 38/38 [00:21<00:00,  1.79it/s]\n"
     ]
    },
    {
     "name": "stdout",
     "output_type": "stream",
     "text": [
      "Model: tiny_vit_11m.pth, Epoch: 21, Accuracy: 82.5, Train Loss: 0.47947803139686584, Val Loss: 0.6749073266983032, Epoch Time: 93.7054660320282\n",
      "Model: tiny_vit_11m.pth saved.\n"
     ]
    },
    {
     "name": "stderr",
     "output_type": "stream",
     "text": [
      "Train Loop: 100%|██████████| 75/75 [01:11<00:00,  1.05it/s]\n",
      "Validation Loop: 100%|██████████| 38/38 [00:21<00:00,  1.78it/s]\n"
     ]
    },
    {
     "name": "stdout",
     "output_type": "stream",
     "text": [
      "Model: tiny_vit_11m.pth, Epoch: 22, Accuracy: 79.25, Train Loss: 0.5437842011451721, Val Loss: 0.7604255676269531, Epoch Time: 92.84370398521423\n",
      "Model: tiny_vit_11m.pth saved.\n"
     ]
    },
    {
     "name": "stderr",
     "output_type": "stream",
     "text": [
      "Train Loop: 100%|██████████| 75/75 [01:11<00:00,  1.06it/s]\n",
      "Validation Loop: 100%|██████████| 38/38 [00:21<00:00,  1.78it/s]\n"
     ]
    },
    {
     "name": "stdout",
     "output_type": "stream",
     "text": [
      "Model: tiny_vit_11m.pth, Epoch: 23, Accuracy: 80.66666666666667, Train Loss: 0.33025696873664856, Val Loss: 0.7283186316490173, Epoch Time: 92.36092400550842\n",
      "Model: tiny_vit_11m.pth saved.\n"
     ]
    },
    {
     "name": "stderr",
     "output_type": "stream",
     "text": [
      "Train Loop: 100%|██████████| 75/75 [01:12<00:00,  1.04it/s]\n",
      "Validation Loop: 100%|██████████| 38/38 [00:21<00:00,  1.77it/s]\n"
     ]
    },
    {
     "name": "stdout",
     "output_type": "stream",
     "text": [
      "Model: tiny_vit_11m.pth, Epoch: 24, Accuracy: 77.5, Train Loss: 0.34313133358955383, Val Loss: 0.5472590923309326, Epoch Time: 93.91198921203613\n",
      "Model: tiny_vit_11m.pth saved.\n"
     ]
    },
    {
     "name": "stderr",
     "output_type": "stream",
     "text": [
      "Train Loop: 100%|██████████| 75/75 [01:10<00:00,  1.07it/s]\n",
      "Validation Loop: 100%|██████████| 38/38 [00:21<00:00,  1.75it/s]\n"
     ]
    },
    {
     "name": "stdout",
     "output_type": "stream",
     "text": [
      "Model: tiny_vit_11m.pth, Epoch: 25, Accuracy: 82.16666666666667, Train Loss: 0.27320006489753723, Val Loss: 0.7298004627227783, Epoch Time: 92.1000702381134\n",
      "Model: tiny_vit_11m.pth saved.\n"
     ]
    },
    {
     "name": "stderr",
     "output_type": "stream",
     "text": [
      "Train Loop: 100%|██████████| 75/75 [01:14<00:00,  1.01it/s]\n",
      "Validation Loop: 100%|██████████| 38/38 [00:21<00:00,  1.77it/s]\n"
     ]
    },
    {
     "name": "stdout",
     "output_type": "stream",
     "text": [
      "Model: tiny_vit_21m_224.pth, Epoch: 1, Accuracy: 10.0, Train Loss: 4.4458794593811035, Val Loss: 4.6916608810424805, Epoch Time: 95.83522009849548\n",
      "Model: tiny_vit_21m_224.pth saved.\n"
     ]
    },
    {
     "name": "stderr",
     "output_type": "stream",
     "text": [
      "Train Loop: 100%|██████████| 75/75 [01:13<00:00,  1.03it/s]\n",
      "Validation Loop: 100%|██████████| 38/38 [00:21<00:00,  1.76it/s]\n"
     ]
    },
    {
     "name": "stdout",
     "output_type": "stream",
     "text": [
      "Model: tiny_vit_21m_224.pth, Epoch: 2, Accuracy: 31.416666666666668, Train Loss: 4.123190402984619, Val Loss: 4.2264251708984375, Epoch Time: 94.5755774974823\n",
      "Model: tiny_vit_21m_224.pth saved.\n"
     ]
    },
    {
     "name": "stderr",
     "output_type": "stream",
     "text": [
      "Train Loop: 100%|██████████| 75/75 [01:15<00:00,  1.01s/it]\n",
      "Validation Loop: 100%|██████████| 38/38 [00:21<00:00,  1.77it/s]\n"
     ]
    },
    {
     "name": "stdout",
     "output_type": "stream",
     "text": [
      "Model: tiny_vit_21m_224.pth, Epoch: 3, Accuracy: 39.083333333333336, Train Loss: 3.5343713760375977, Val Loss: 3.640545129776001, Epoch Time: 96.97147822380066\n",
      "Model: tiny_vit_21m_224.pth saved.\n"
     ]
    },
    {
     "name": "stderr",
     "output_type": "stream",
     "text": [
      "Train Loop: 100%|██████████| 75/75 [01:13<00:00,  1.02it/s]\n",
      "Validation Loop: 100%|██████████| 38/38 [00:21<00:00,  1.77it/s]\n"
     ]
    },
    {
     "name": "stdout",
     "output_type": "stream",
     "text": [
      "Model: tiny_vit_21m_224.pth, Epoch: 4, Accuracy: 47.0, Train Loss: 3.165919303894043, Val Loss: 3.163090944290161, Epoch Time: 94.98359394073486\n",
      "Model: tiny_vit_21m_224.pth saved.\n"
     ]
    },
    {
     "name": "stderr",
     "output_type": "stream",
     "text": [
      "Train Loop: 100%|██████████| 75/75 [01:14<00:00,  1.01it/s]\n",
      "Validation Loop: 100%|██████████| 38/38 [00:21<00:00,  1.77it/s]\n"
     ]
    },
    {
     "name": "stdout",
     "output_type": "stream",
     "text": [
      "Model: tiny_vit_21m_224.pth, Epoch: 5, Accuracy: 54.25, Train Loss: 2.738288640975952, Val Loss: 3.163104772567749, Epoch Time: 95.49677300453186\n",
      "Model: tiny_vit_21m_224.pth saved.\n"
     ]
    },
    {
     "name": "stderr",
     "output_type": "stream",
     "text": [
      "Train Loop:  20%|██        | 15/75 [00:27<00:56,  1.07it/s]"
     ]
    }
   ],
   "source": [
    "train_loader = train_sample_loader\n",
    "test_loader = test_sample_loader\n",
    "\n",
    "for idx, (model, model_name) in enumerate(zip(model_list, model_name_list)):\n",
    "\n",
    "    num_epochs = 10\n",
    "    optimizer = torch.optim.Adam(model.parameters(), lr=0.0001)\n",
    "    criterion = torch.nn.CrossEntropyLoss()\n",
    "\n",
    "    if torch.cuda.is_available():\n",
    "        device = torch.device('cuda') \n",
    "    else:\n",
    "        device = torch.device('cpu')\n",
    "\n",
    "    for param in model.parameters():\n",
    "        param.requires_grad = True\n",
    "\n",
    "    model = model.to(device)\n",
    "\n",
    "    results_df = pd.DataFrame(columns=['Model', 'Epoch', 'Accuracy', 'Train Loss', 'Val Loss', 'Epoch Time'])\n",
    "\n",
    "    for epoch in range(num_epochs):\n",
    "        epoch_start = time.time()\n",
    "        \n",
    "        model.train()\n",
    "        for batch_idx, (images, labels) in enumerate(tqdm(train_loader, desc='Train Loop')):\n",
    "            images = images.to(device)\n",
    "            labels = labels.to(device)\n",
    "            optimizer.zero_grad(set_to_none=True)\n",
    "            outputs = model(images)\n",
    "            train_loss = criterion(outputs, labels)\n",
    "            train_loss.backward()\n",
    "            optimizer.step()\n",
    "                        \n",
    "        model.eval()\n",
    "        with torch.no_grad():\n",
    "            correct = 0\n",
    "            total = 0\n",
    "            for batch_idx, (images, labels) in enumerate(tqdm(test_loader, desc='Validation Loop')):\n",
    "                images = images.to(device)\n",
    "                labels = labels.to(device)\n",
    "                outputs = model(images)\n",
    "                _, predicted = torch.max(outputs.data, 1)\n",
    "                total += labels.size(0)\n",
    "                correct += (predicted == labels).sum().item()\n",
    "                val_loss = criterion(outputs, labels)\n",
    "\n",
    "        print(f'Model: {model_name}, Epoch: {epoch+1}, Accuracy: {100 * correct / total}, Train Loss: {train_loss.item()}, Val Loss: {val_loss.item()}, Epoch Time: {time.time()-epoch_start}')\n",
    "        \n",
    "        if not os.path.exists('Results'):\n",
    "            os.makedirs('Results')\n",
    "\n",
    "        results_df.loc[len(results_df)] = [model_name, (epoch+1), (100 * correct / total), train_loss.item(), val_loss.item(), (time.time()-epoch_start)]\n",
    "        results_df.to_csv(f'Results/{model_name}.csv', index=False)\n",
    "            \n",
    "        if not os.path.exists('Models'):\n",
    "            os.makedirs('Models')\n",
    "                \n",
    "        torch.save(model.state_dict(), f'Models/{model_name}')\n",
    "        print(f'Model: {model_name} saved.')\n",
    "     "
   ]
  },
  {
   "cell_type": "markdown",
   "metadata": {},
   "source": [
    "- Trained on ml.c5.9xlarge\n",
    "- Bottleneck in training time is the num_of_workers available to support data loading.\n",
    "- Batchsize = 32\n",
    "- Optimizer = Adam \n",
    "- lr = .0001\n",
    "- Trained with a random sampler to increase observability of metrics \n",
    "- Tuned 5 of the smallest pretrained models available via Pytorch\n",
    "- 10 epochs, should maybe increase, because the first model appears like it had more to go, based on train and val loss\n",
    "- Benchmarking 'light-weight' pretrained models on the stanford dogs dataset using AWS and PyTorch"
   ]
  },
  {
   "cell_type": "markdown",
   "metadata": {},
   "source": [
    "- continued exploring with tiny vit, https://arxiv.org/abs/2207.10666 "
   ]
  },
  {
   "cell_type": "markdown",
   "metadata": {},
   "source": []
  },
  {
   "cell_type": "code",
   "execution_count": null,
   "metadata": {},
   "outputs": [],
   "source": []
  }
 ],
 "metadata": {
  "kernelspec": {
   "display_name": "base",
   "language": "python",
   "name": "python3"
  },
  "language_info": {
   "codemirror_mode": {
    "name": "ipython",
    "version": 3
   },
   "file_extension": ".py",
   "mimetype": "text/x-python",
   "name": "python",
   "nbconvert_exporter": "python",
   "pygments_lexer": "ipython3",
   "version": "3.10.13"
  }
 },
 "nbformat": 4,
 "nbformat_minor": 2
}
