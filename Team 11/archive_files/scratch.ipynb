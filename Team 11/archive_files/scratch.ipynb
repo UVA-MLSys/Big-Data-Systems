{
 "cells": [
  {
   "cell_type": "code",
   "execution_count": 1,
   "metadata": {},
   "outputs": [
    {
     "name": "stdout",
     "output_type": "stream",
     "text": [
      "sagemaker.config INFO - Not applying SDK defaults from location: /etc/xdg/sagemaker/config.yaml\n",
      "sagemaker.config INFO - Not applying SDK defaults from location: /home/sagemaker-user/.config/sagemaker/config.yaml\n"
     ]
    }
   ],
   "source": [
    "from S3DogDataset import *\n",
    "import pandas as pd\n",
    "from torch.utils.data import DataLoader, RandomSampler\n",
    "from torchvision import models\n",
    "from tqdm import tqdm\n",
    "import time"
   ]
  },
  {
   "cell_type": "code",
   "execution_count": 2,
   "metadata": {},
   "outputs": [
    {
     "name": "stdout",
     "output_type": "stream",
     "text": [
      "sagemaker.config INFO - Not applying SDK defaults from location: /etc/xdg/sagemaker/config.yaml\n",
      "sagemaker.config INFO - Not applying SDK defaults from location: /home/sagemaker-user/.config/sagemaker/config.yaml\n",
      "sagemaker.config INFO - Not applying SDK defaults from location: /etc/xdg/sagemaker/config.yaml\n",
      "sagemaker.config INFO - Not applying SDK defaults from location: /home/sagemaker-user/.config/sagemaker/config.yaml\n"
     ]
    },
    {
     "name": "stderr",
     "output_type": "stream",
     "text": [
      "/opt/conda/lib/python3.10/site-packages/torch/utils/data/dataloader.py:561: UserWarning: This DataLoader will create 24 worker processes in total. Our suggested max number of worker in current system is 2, which is smaller than what this DataLoader is going to create. Please be aware that excessive worker creation might get DataLoader running slow or even freeze, lower the worker number to avoid potential slowness/freeze if necessary.\n",
      "  warnings.warn(_create_warning_msg(\n"
     ]
    }
   ],
   "source": [
    "train_dataset = S3DogDataset(file_ref_csv='Labels/train_labels.csv', bucket_name = \"sagemaker-team11-stanford-dogs\")\n",
    "test_dataset = S3DogDataset(file_ref_csv='Labels/test_labels.csv', bucket_name = \"sagemaker-team11-stanford-dogs\")\n",
    "\n",
    "train_loader = DataLoader(train_dataset, batch_size=32, shuffle=True, pin_memory=True, num_workers= 24)\n",
    "test_loader = DataLoader(test_dataset, batch_size=32, shuffle=True, pin_memory=True, num_workers= 24)\n",
    "\n",
    "train_sampler = RandomSampler(train_dataset, replacement=True, num_samples=2400)\n",
    "test_sampler = RandomSampler(test_dataset, replacement=True, num_samples=1200)\n",
    "\n",
    "train_sample_loader = DataLoader(train_dataset, batch_size=32, sampler=train_sampler, pin_memory=True, num_workers= 24)\n",
    "test_sample_loader = DataLoader(test_dataset, batch_size=32, sampler=test_sampler, pin_memory=True, num_workers= 24)"
   ]
  },
  {
   "cell_type": "code",
   "execution_count": 4,
   "metadata": {},
   "outputs": [],
   "source": [
    "num_classes = 120\n",
    "\n",
    "# load mobilenet_v3_large\n",
    "mobilenet_v3_large = models.mobilenet_v3_large(weights=\"IMAGENET1K_V2\")\n",
    "\n",
    "for param in mobilenet_v3_large.parameters():\n",
    "    param.requires_grad = False\n",
    "\n",
    "num_features = mobilenet_v3_large.classifier[3].in_features\n",
    "mobilenet_v3_large.classifier[3] = torch.nn.Linear(num_features, num_classes)\n",
    "\n",
    "# load mobilenet_v3_small\n",
    "mobilenet_v3_small = models.mobilenet_v3_small(weights=\"IMAGENET1K_V1\")\n",
    "            \n",
    "for param in mobilenet_v3_small.parameters():\n",
    "    param.requires_grad = False\n",
    "\n",
    "num_features = mobilenet_v3_small.classifier[3].in_features\n",
    "mobilenet_v3_small.classifier[3] = torch.nn.Linear(num_features, num_classes)\n",
    "\n",
    "# load mnasnet0_5\n",
    "mnasnet0_5 = models.mnasnet0_5(weights=\"IMAGENET1K_V1\")\n",
    "            \n",
    "for param in mnasnet0_5.parameters():\n",
    "    param.requires_grad = False\n",
    "\n",
    "num_features = mnasnet0_5.classifier[1].in_features\n",
    "mnasnet0_5.classifier[1] = torch.nn.Linear(num_features, num_classes)\n",
    "\n",
    "# load shufflenet_v2_x0_5\n",
    "shufflenet_v2_x0_5 = models.shufflenet_v2_x0_5(weights=\"IMAGENET1K_V1\")\n",
    "            \n",
    "for param in shufflenet_v2_x0_5.parameters():\n",
    "    param.requires_grad = False\n",
    "\n",
    "num_features = shufflenet_v2_x0_5.fc.in_features\n",
    "shufflenet_v2_x0_5.fc = torch.nn.Linear(num_features, num_classes)\n",
    "\n",
    "# load shufflenet_v2_x1_0\n",
    "shufflenet_v2_x1_0 = models.shufflenet_v2_x1_0(weights=\"IMAGENET1K_V1\")\n",
    "            \n",
    "for param in shufflenet_v2_x1_0.parameters():\n",
    "    param.requires_grad = False\n",
    "\n",
    "num_features = shufflenet_v2_x1_0.fc.in_features\n",
    "shufflenet_v2_x1_0.fc = torch.nn.Linear(num_features, num_classes)\n",
    "\n",
    "# specify model lists and names\n",
    "model_list = [mobilenet_v3_small, mobilenet_v3_large, mnasnet0_5, shufflenet_v2_x0_5,shufflenet_v2_x1_0]\n",
    "model_name_list = ['mobilenet_v3_small.pth','mobilenet_v3_large.pth','mnasnet0_5.pth','shufflenet_v2_x0_5.pth','shufflenet_v2_x1_0.pth']"
   ]
  },
  {
   "cell_type": "code",
   "execution_count": 5,
   "metadata": {},
   "outputs": [
    {
     "name": "stderr",
     "output_type": "stream",
     "text": [
      "Train Loop: 100%|██████████| 75/75 [00:24<00:00,  3.04it/s]\n",
      "Validation Loop: 100%|██████████| 38/38 [00:12<00:00,  2.96it/s]\n"
     ]
    },
    {
     "name": "stdout",
     "output_type": "stream",
     "text": [
      "Model: mobilenet_v3_small.pth, Epoch: 1, Accuracy: 10.5, Train Loss: 4.351467609405518, Val Loss: 4.039711952209473, Epoch Time: 37.49098587036133\n",
      "Model: mobilenet_v3_small.pth saved.\n"
     ]
    },
    {
     "name": "stderr",
     "output_type": "stream",
     "text": [
      "Train Loop: 100%|██████████| 75/75 [00:24<00:00,  3.03it/s]\n",
      "Validation Loop: 100%|██████████| 38/38 [00:13<00:00,  2.88it/s]\n"
     ]
    },
    {
     "name": "stdout",
     "output_type": "stream",
     "text": [
      "Model: mobilenet_v3_small.pth, Epoch: 2, Accuracy: 24.583333333333332, Train Loss: 3.6303701400756836, Val Loss: 3.441739797592163, Epoch Time: 37.943886518478394\n",
      "Model: mobilenet_v3_small.pth saved.\n"
     ]
    },
    {
     "name": "stderr",
     "output_type": "stream",
     "text": [
      "Train Loop: 100%|██████████| 75/75 [00:24<00:00,  3.03it/s]\n",
      "Validation Loop: 100%|██████████| 38/38 [00:12<00:00,  2.93it/s]\n"
     ]
    },
    {
     "name": "stdout",
     "output_type": "stream",
     "text": [
      "Model: mobilenet_v3_small.pth, Epoch: 3, Accuracy: 36.0, Train Loss: 2.9886837005615234, Val Loss: 2.794569253921509, Epoch Time: 37.71859097480774\n",
      "Model: mobilenet_v3_small.pth saved.\n"
     ]
    },
    {
     "name": "stderr",
     "output_type": "stream",
     "text": [
      "Train Loop: 100%|██████████| 75/75 [00:25<00:00,  2.94it/s]\n",
      "Validation Loop: 100%|██████████| 38/38 [00:12<00:00,  2.94it/s]\n"
     ]
    },
    {
     "name": "stdout",
     "output_type": "stream",
     "text": [
      "Model: mobilenet_v3_small.pth, Epoch: 4, Accuracy: 46.583333333333336, Train Loss: 2.8053488731384277, Val Loss: 1.666499137878418, Epoch Time: 38.403749227523804\n",
      "Model: mobilenet_v3_small.pth saved.\n"
     ]
    },
    {
     "name": "stderr",
     "output_type": "stream",
     "text": [
      "Train Loop: 100%|██████████| 75/75 [00:25<00:00,  2.91it/s]\n",
      "Validation Loop: 100%|██████████| 38/38 [00:13<00:00,  2.91it/s]\n"
     ]
    },
    {
     "name": "stdout",
     "output_type": "stream",
     "text": [
      "Model: mobilenet_v3_small.pth, Epoch: 5, Accuracy: 53.166666666666664, Train Loss: 1.5927249193191528, Val Loss: 2.1876208782196045, Epoch Time: 38.81079936027527\n",
      "Model: mobilenet_v3_small.pth saved.\n"
     ]
    },
    {
     "name": "stderr",
     "output_type": "stream",
     "text": [
      "Train Loop: 100%|██████████| 75/75 [00:25<00:00,  2.97it/s]\n",
      "Validation Loop: 100%|██████████| 38/38 [00:12<00:00,  2.93it/s]\n"
     ]
    },
    {
     "name": "stdout",
     "output_type": "stream",
     "text": [
      "Model: mobilenet_v3_small.pth, Epoch: 6, Accuracy: 57.166666666666664, Train Loss: 1.6131013631820679, Val Loss: 1.6440519094467163, Epoch Time: 38.197813510894775\n",
      "Model: mobilenet_v3_small.pth saved.\n"
     ]
    },
    {
     "name": "stderr",
     "output_type": "stream",
     "text": [
      "Train Loop: 100%|██████████| 75/75 [00:24<00:00,  3.00it/s]\n",
      "Validation Loop: 100%|██████████| 38/38 [00:13<00:00,  2.85it/s]\n"
     ]
    },
    {
     "name": "stdout",
     "output_type": "stream",
     "text": [
      "Model: mobilenet_v3_small.pth, Epoch: 7, Accuracy: 61.833333333333336, Train Loss: 1.5936154127120972, Val Loss: 1.3323681354522705, Epoch Time: 38.34829640388489\n",
      "Model: mobilenet_v3_small.pth saved.\n"
     ]
    },
    {
     "name": "stderr",
     "output_type": "stream",
     "text": [
      "Train Loop: 100%|██████████| 75/75 [00:25<00:00,  2.98it/s]\n",
      "Validation Loop: 100%|██████████| 38/38 [00:13<00:00,  2.89it/s]\n"
     ]
    },
    {
     "name": "stdout",
     "output_type": "stream",
     "text": [
      "Model: mobilenet_v3_small.pth, Epoch: 8, Accuracy: 61.833333333333336, Train Loss: 1.0406806468963623, Val Loss: 1.288152813911438, Epoch Time: 38.31326770782471\n",
      "Model: mobilenet_v3_small.pth saved.\n"
     ]
    },
    {
     "name": "stderr",
     "output_type": "stream",
     "text": [
      "Train Loop: 100%|██████████| 75/75 [00:25<00:00,  2.98it/s]\n",
      "Validation Loop: 100%|██████████| 38/38 [00:12<00:00,  2.93it/s]\n"
     ]
    },
    {
     "name": "stdout",
     "output_type": "stream",
     "text": [
      "Model: mobilenet_v3_small.pth, Epoch: 9, Accuracy: 63.666666666666664, Train Loss: 0.9833104014396667, Val Loss: 1.3422826528549194, Epoch Time: 38.17842960357666\n",
      "Model: mobilenet_v3_small.pth saved.\n"
     ]
    },
    {
     "name": "stderr",
     "output_type": "stream",
     "text": [
      "Train Loop: 100%|██████████| 75/75 [00:24<00:00,  3.03it/s]\n",
      "Validation Loop: 100%|██████████| 38/38 [00:13<00:00,  2.87it/s]\n"
     ]
    },
    {
     "name": "stdout",
     "output_type": "stream",
     "text": [
      "Model: mobilenet_v3_small.pth, Epoch: 10, Accuracy: 66.33333333333333, Train Loss: 1.030577540397644, Val Loss: 0.6723998785018921, Epoch Time: 38.04767346382141\n",
      "Model: mobilenet_v3_small.pth saved.\n"
     ]
    },
    {
     "name": "stderr",
     "output_type": "stream",
     "text": [
      "Train Loop: 100%|██████████| 75/75 [00:45<00:00,  1.65it/s]\n",
      "Validation Loop: 100%|██████████| 38/38 [00:15<00:00,  2.39it/s]\n"
     ]
    },
    {
     "name": "stdout",
     "output_type": "stream",
     "text": [
      "Model: mobilenet_v3_large.pth, Epoch: 1, Accuracy: 26.166666666666668, Train Loss: 4.063207149505615, Val Loss: 4.047255992889404, Epoch Time: 61.44422888755798\n",
      "Model: mobilenet_v3_large.pth saved.\n"
     ]
    },
    {
     "name": "stderr",
     "output_type": "stream",
     "text": [
      "Train Loop: 100%|██████████| 75/75 [00:48<00:00,  1.55it/s]\n",
      "Validation Loop: 100%|██████████| 38/38 [00:15<00:00,  2.45it/s]\n"
     ]
    },
    {
     "name": "stdout",
     "output_type": "stream",
     "text": [
      "Model: mobilenet_v3_large.pth, Epoch: 2, Accuracy: 47.75, Train Loss: 2.286562919616699, Val Loss: 2.553424596786499, Epoch Time: 63.861005783081055\n",
      "Model: mobilenet_v3_large.pth saved.\n"
     ]
    },
    {
     "name": "stderr",
     "output_type": "stream",
     "text": [
      "Train Loop: 100%|██████████| 75/75 [00:48<00:00,  1.53it/s]\n",
      "Validation Loop: 100%|██████████| 38/38 [00:15<00:00,  2.53it/s]\n"
     ]
    },
    {
     "name": "stdout",
     "output_type": "stream",
     "text": [
      "Model: mobilenet_v3_large.pth, Epoch: 3, Accuracy: 60.833333333333336, Train Loss: 1.5417392253875732, Val Loss: 2.01639461517334, Epoch Time: 63.945789098739624\n",
      "Model: mobilenet_v3_large.pth saved.\n"
     ]
    },
    {
     "name": "stderr",
     "output_type": "stream",
     "text": [
      "Train Loop: 100%|██████████| 75/75 [00:48<00:00,  1.53it/s]\n",
      "Validation Loop: 100%|██████████| 38/38 [00:14<00:00,  2.57it/s]\n"
     ]
    },
    {
     "name": "stdout",
     "output_type": "stream",
     "text": [
      "Model: mobilenet_v3_large.pth, Epoch: 4, Accuracy: 68.25, Train Loss: 1.6257672309875488, Val Loss: 1.1200010776519775, Epoch Time: 63.67005944252014\n",
      "Model: mobilenet_v3_large.pth saved.\n"
     ]
    },
    {
     "name": "stderr",
     "output_type": "stream",
     "text": [
      "Train Loop: 100%|██████████| 75/75 [00:49<00:00,  1.53it/s]\n",
      "Validation Loop: 100%|██████████| 38/38 [00:15<00:00,  2.53it/s]\n"
     ]
    },
    {
     "name": "stdout",
     "output_type": "stream",
     "text": [
      "Model: mobilenet_v3_large.pth, Epoch: 5, Accuracy: 69.5, Train Loss: 0.6142114400863647, Val Loss: 0.9314723610877991, Epoch Time: 64.14809465408325\n",
      "Model: mobilenet_v3_large.pth saved.\n"
     ]
    },
    {
     "name": "stderr",
     "output_type": "stream",
     "text": [
      "Train Loop: 100%|██████████| 75/75 [00:48<00:00,  1.54it/s]\n",
      "Validation Loop: 100%|██████████| 38/38 [00:15<00:00,  2.46it/s]\n"
     ]
    },
    {
     "name": "stdout",
     "output_type": "stream",
     "text": [
      "Model: mobilenet_v3_large.pth, Epoch: 6, Accuracy: 72.16666666666667, Train Loss: 1.0031874179840088, Val Loss: 0.6398810148239136, Epoch Time: 64.09039831161499\n",
      "Model: mobilenet_v3_large.pth saved.\n"
     ]
    },
    {
     "name": "stderr",
     "output_type": "stream",
     "text": [
      "Train Loop: 100%|██████████| 75/75 [00:48<00:00,  1.55it/s]\n",
      "Validation Loop: 100%|██████████| 38/38 [00:15<00:00,  2.46it/s]\n"
     ]
    },
    {
     "name": "stdout",
     "output_type": "stream",
     "text": [
      "Model: mobilenet_v3_large.pth, Epoch: 7, Accuracy: 75.75, Train Loss: 0.395204097032547, Val Loss: 0.6730837225914001, Epoch Time: 63.739118337631226\n",
      "Model: mobilenet_v3_large.pth saved.\n"
     ]
    },
    {
     "name": "stderr",
     "output_type": "stream",
     "text": [
      "Train Loop: 100%|██████████| 75/75 [00:48<00:00,  1.56it/s]\n",
      "Validation Loop: 100%|██████████| 38/38 [00:15<00:00,  2.46it/s]\n"
     ]
    },
    {
     "name": "stdout",
     "output_type": "stream",
     "text": [
      "Model: mobilenet_v3_large.pth, Epoch: 8, Accuracy: 73.33333333333333, Train Loss: 0.6365943551063538, Val Loss: 0.8929102420806885, Epoch Time: 63.57071495056152\n",
      "Model: mobilenet_v3_large.pth saved.\n"
     ]
    },
    {
     "name": "stderr",
     "output_type": "stream",
     "text": [
      "Train Loop: 100%|██████████| 75/75 [00:48<00:00,  1.56it/s]\n",
      "Validation Loop: 100%|██████████| 38/38 [00:15<00:00,  2.44it/s]\n"
     ]
    },
    {
     "name": "stdout",
     "output_type": "stream",
     "text": [
      "Model: mobilenet_v3_large.pth, Epoch: 9, Accuracy: 73.16666666666667, Train Loss: 0.3959657549858093, Val Loss: 0.5834637880325317, Epoch Time: 63.6281464099884\n",
      "Model: mobilenet_v3_large.pth saved.\n"
     ]
    },
    {
     "name": "stderr",
     "output_type": "stream",
     "text": [
      "Train Loop: 100%|██████████| 75/75 [00:48<00:00,  1.56it/s]\n",
      "Validation Loop: 100%|██████████| 38/38 [00:14<00:00,  2.54it/s]\n"
     ]
    },
    {
     "name": "stdout",
     "output_type": "stream",
     "text": [
      "Model: mobilenet_v3_large.pth, Epoch: 10, Accuracy: 77.08333333333333, Train Loss: 0.39872288703918457, Val Loss: 1.146108865737915, Epoch Time: 62.981900453567505\n",
      "Model: mobilenet_v3_large.pth saved.\n"
     ]
    },
    {
     "name": "stderr",
     "output_type": "stream",
     "text": [
      "Train Loop: 100%|██████████| 75/75 [00:35<00:00,  2.14it/s]\n",
      "Validation Loop: 100%|██████████| 38/38 [00:14<00:00,  2.71it/s]\n"
     ]
    },
    {
     "name": "stdout",
     "output_type": "stream",
     "text": [
      "Model: mnasnet0_5.pth, Epoch: 1, Accuracy: 5.0, Train Loss: 4.727417469024658, Val Loss: 4.753049373626709, Epoch Time: 49.081490993499756\n",
      "Model: mnasnet0_5.pth saved.\n"
     ]
    },
    {
     "name": "stderr",
     "output_type": "stream",
     "text": [
      "Train Loop: 100%|██████████| 75/75 [00:34<00:00,  2.18it/s]\n",
      "Validation Loop: 100%|██████████| 38/38 [00:13<00:00,  2.74it/s]\n"
     ]
    },
    {
     "name": "stdout",
     "output_type": "stream",
     "text": [
      "Model: mnasnet0_5.pth, Epoch: 2, Accuracy: 10.583333333333334, Train Loss: 4.675021171569824, Val Loss: 4.671231269836426, Epoch Time: 48.29862451553345\n",
      "Model: mnasnet0_5.pth saved.\n"
     ]
    },
    {
     "name": "stderr",
     "output_type": "stream",
     "text": [
      "Train Loop: 100%|██████████| 75/75 [00:34<00:00,  2.16it/s]\n",
      "Validation Loop: 100%|██████████| 38/38 [00:14<00:00,  2.70it/s]\n"
     ]
    },
    {
     "name": "stdout",
     "output_type": "stream",
     "text": [
      "Model: mnasnet0_5.pth, Epoch: 3, Accuracy: 16.0, Train Loss: 4.593450546264648, Val Loss: 4.643869400024414, Epoch Time: 48.86229085922241\n",
      "Model: mnasnet0_5.pth saved.\n"
     ]
    },
    {
     "name": "stderr",
     "output_type": "stream",
     "text": [
      "Train Loop: 100%|██████████| 75/75 [00:35<00:00,  2.13it/s]\n",
      "Validation Loop: 100%|██████████| 38/38 [00:14<00:00,  2.68it/s]\n"
     ]
    },
    {
     "name": "stdout",
     "output_type": "stream",
     "text": [
      "Model: mnasnet0_5.pth, Epoch: 4, Accuracy: 16.916666666666668, Train Loss: 4.495575904846191, Val Loss: 4.456336498260498, Epoch Time: 49.4313108921051\n",
      "Model: mnasnet0_5.pth saved.\n"
     ]
    },
    {
     "name": "stderr",
     "output_type": "stream",
     "text": [
      "Train Loop: 100%|██████████| 75/75 [00:34<00:00,  2.14it/s]\n",
      "Validation Loop: 100%|██████████| 38/38 [00:14<00:00,  2.70it/s]\n"
     ]
    },
    {
     "name": "stdout",
     "output_type": "stream",
     "text": [
      "Model: mnasnet0_5.pth, Epoch: 5, Accuracy: 18.916666666666668, Train Loss: 4.272945880889893, Val Loss: 4.349742889404297, Epoch Time: 49.057427406311035\n",
      "Model: mnasnet0_5.pth saved.\n"
     ]
    },
    {
     "name": "stderr",
     "output_type": "stream",
     "text": [
      "Train Loop: 100%|██████████| 75/75 [00:35<00:00,  2.11it/s]\n",
      "Validation Loop: 100%|██████████| 38/38 [00:13<00:00,  2.73it/s]\n"
     ]
    },
    {
     "name": "stdout",
     "output_type": "stream",
     "text": [
      "Model: mnasnet0_5.pth, Epoch: 6, Accuracy: 20.333333333333332, Train Loss: 4.11449670791626, Val Loss: 3.9016213417053223, Epoch Time: 49.480552434921265\n",
      "Model: mnasnet0_5.pth saved.\n"
     ]
    },
    {
     "name": "stderr",
     "output_type": "stream",
     "text": [
      "Train Loop: 100%|██████████| 75/75 [00:35<00:00,  2.11it/s]\n",
      "Validation Loop: 100%|██████████| 38/38 [00:14<00:00,  2.71it/s]\n"
     ]
    },
    {
     "name": "stdout",
     "output_type": "stream",
     "text": [
      "Model: mnasnet0_5.pth, Epoch: 7, Accuracy: 21.25, Train Loss: 3.7627720832824707, Val Loss: 3.5168511867523193, Epoch Time: 49.61001229286194\n",
      "Model: mnasnet0_5.pth saved.\n"
     ]
    },
    {
     "name": "stderr",
     "output_type": "stream",
     "text": [
      "Train Loop: 100%|██████████| 75/75 [00:35<00:00,  2.14it/s]\n",
      "Validation Loop: 100%|██████████| 38/38 [00:14<00:00,  2.71it/s]\n"
     ]
    },
    {
     "name": "stdout",
     "output_type": "stream",
     "text": [
      "Model: mnasnet0_5.pth, Epoch: 8, Accuracy: 22.5, Train Loss: 3.713149070739746, Val Loss: 3.3508191108703613, Epoch Time: 49.094178915023804\n",
      "Model: mnasnet0_5.pth saved.\n"
     ]
    },
    {
     "name": "stderr",
     "output_type": "stream",
     "text": [
      "Train Loop: 100%|██████████| 75/75 [00:35<00:00,  2.14it/s]\n",
      "Validation Loop: 100%|██████████| 38/38 [00:13<00:00,  2.72it/s]\n"
     ]
    },
    {
     "name": "stdout",
     "output_type": "stream",
     "text": [
      "Model: mnasnet0_5.pth, Epoch: 9, Accuracy: 22.75, Train Loss: 3.4191577434539795, Val Loss: 3.2546029090881348, Epoch Time: 48.96669960021973\n",
      "Model: mnasnet0_5.pth saved.\n"
     ]
    },
    {
     "name": "stderr",
     "output_type": "stream",
     "text": [
      "Train Loop: 100%|██████████| 75/75 [00:35<00:00,  2.11it/s]\n",
      "Validation Loop: 100%|██████████| 38/38 [00:14<00:00,  2.66it/s]\n"
     ]
    },
    {
     "name": "stdout",
     "output_type": "stream",
     "text": [
      "Model: mnasnet0_5.pth, Epoch: 10, Accuracy: 23.166666666666668, Train Loss: 3.328458786010742, Val Loss: 3.341798782348633, Epoch Time: 49.83375787734985\n",
      "Model: mnasnet0_5.pth saved.\n"
     ]
    },
    {
     "name": "stderr",
     "output_type": "stream",
     "text": [
      "Train Loop: 100%|██████████| 75/75 [00:25<00:00,  2.99it/s]\n",
      "Validation Loop: 100%|██████████| 38/38 [00:13<00:00,  2.83it/s]\n"
     ]
    },
    {
     "name": "stdout",
     "output_type": "stream",
     "text": [
      "Model: shufflenet_v2_x0_5.pth, Epoch: 1, Accuracy: 1.9166666666666667, Train Loss: 4.769854545593262, Val Loss: 4.7770891189575195, Epoch Time: 38.52267837524414\n",
      "Model: shufflenet_v2_x0_5.pth saved.\n"
     ]
    },
    {
     "name": "stderr",
     "output_type": "stream",
     "text": [
      "Train Loop: 100%|██████████| 75/75 [00:24<00:00,  3.03it/s]\n",
      "Validation Loop: 100%|██████████| 38/38 [00:13<00:00,  2.92it/s]\n"
     ]
    },
    {
     "name": "stdout",
     "output_type": "stream",
     "text": [
      "Model: shufflenet_v2_x0_5.pth, Epoch: 2, Accuracy: 3.9166666666666665, Train Loss: 4.752618789672852, Val Loss: 4.7449750900268555, Epoch Time: 37.73931050300598\n",
      "Model: shufflenet_v2_x0_5.pth saved.\n"
     ]
    },
    {
     "name": "stderr",
     "output_type": "stream",
     "text": [
      "Train Loop: 100%|██████████| 75/75 [00:24<00:00,  3.11it/s]\n",
      "Validation Loop: 100%|██████████| 38/38 [00:13<00:00,  2.90it/s]\n"
     ]
    },
    {
     "name": "stdout",
     "output_type": "stream",
     "text": [
      "Model: shufflenet_v2_x0_5.pth, Epoch: 3, Accuracy: 4.25, Train Loss: 4.686968803405762, Val Loss: 4.693909645080566, Epoch Time: 37.230671882629395\n",
      "Model: shufflenet_v2_x0_5.pth saved.\n"
     ]
    },
    {
     "name": "stderr",
     "output_type": "stream",
     "text": [
      "Train Loop: 100%|██████████| 75/75 [00:23<00:00,  3.14it/s]\n",
      "Validation Loop: 100%|██████████| 38/38 [00:14<00:00,  2.71it/s]\n"
     ]
    },
    {
     "name": "stdout",
     "output_type": "stream",
     "text": [
      "Model: shufflenet_v2_x0_5.pth, Epoch: 4, Accuracy: 7.75, Train Loss: 4.606549263000488, Val Loss: 4.606583595275879, Epoch Time: 37.872278928756714\n",
      "Model: shufflenet_v2_x0_5.pth saved.\n"
     ]
    },
    {
     "name": "stderr",
     "output_type": "stream",
     "text": [
      "Train Loop: 100%|██████████| 75/75 [00:24<00:00,  3.10it/s]\n",
      "Validation Loop: 100%|██████████| 38/38 [00:13<00:00,  2.83it/s]\n"
     ]
    },
    {
     "name": "stdout",
     "output_type": "stream",
     "text": [
      "Model: shufflenet_v2_x0_5.pth, Epoch: 5, Accuracy: 10.666666666666666, Train Loss: 4.440804481506348, Val Loss: 4.426572799682617, Epoch Time: 37.624454736709595\n",
      "Model: shufflenet_v2_x0_5.pth saved.\n"
     ]
    },
    {
     "name": "stderr",
     "output_type": "stream",
     "text": [
      "Train Loop: 100%|██████████| 75/75 [00:24<00:00,  3.12it/s]\n",
      "Validation Loop: 100%|██████████| 38/38 [00:13<00:00,  2.78it/s]\n"
     ]
    },
    {
     "name": "stdout",
     "output_type": "stream",
     "text": [
      "Model: shufflenet_v2_x0_5.pth, Epoch: 6, Accuracy: 9.25, Train Loss: 4.288101673126221, Val Loss: 4.359342575073242, Epoch Time: 37.68214225769043\n",
      "Model: shufflenet_v2_x0_5.pth saved.\n"
     ]
    },
    {
     "name": "stderr",
     "output_type": "stream",
     "text": [
      "Train Loop: 100%|██████████| 75/75 [00:24<00:00,  3.12it/s]\n",
      "Validation Loop: 100%|██████████| 38/38 [00:13<00:00,  2.89it/s]\n"
     ]
    },
    {
     "name": "stdout",
     "output_type": "stream",
     "text": [
      "Model: shufflenet_v2_x0_5.pth, Epoch: 7, Accuracy: 11.083333333333334, Train Loss: 4.137435436248779, Val Loss: 4.099949836730957, Epoch Time: 37.15235495567322\n",
      "Model: shufflenet_v2_x0_5.pth saved.\n"
     ]
    },
    {
     "name": "stderr",
     "output_type": "stream",
     "text": [
      "Train Loop: 100%|██████████| 75/75 [00:24<00:00,  3.03it/s]\n",
      "Validation Loop: 100%|██████████| 38/38 [00:13<00:00,  2.85it/s]\n"
     ]
    },
    {
     "name": "stdout",
     "output_type": "stream",
     "text": [
      "Model: shufflenet_v2_x0_5.pth, Epoch: 8, Accuracy: 13.5, Train Loss: 4.02349853515625, Val Loss: 3.8371620178222656, Epoch Time: 38.089136600494385\n",
      "Model: shufflenet_v2_x0_5.pth saved.\n"
     ]
    },
    {
     "name": "stderr",
     "output_type": "stream",
     "text": [
      "Train Loop: 100%|██████████| 75/75 [00:24<00:00,  3.07it/s]\n",
      "Validation Loop: 100%|██████████| 38/38 [00:13<00:00,  2.73it/s]\n"
     ]
    },
    {
     "name": "stdout",
     "output_type": "stream",
     "text": [
      "Model: shufflenet_v2_x0_5.pth, Epoch: 9, Accuracy: 14.166666666666666, Train Loss: 3.7888636589050293, Val Loss: 4.0853376388549805, Epoch Time: 38.3530330657959\n",
      "Model: shufflenet_v2_x0_5.pth saved.\n"
     ]
    },
    {
     "name": "stderr",
     "output_type": "stream",
     "text": [
      "Train Loop: 100%|██████████| 75/75 [00:24<00:00,  3.06it/s]\n",
      "Validation Loop: 100%|██████████| 38/38 [00:13<00:00,  2.82it/s]\n"
     ]
    },
    {
     "name": "stdout",
     "output_type": "stream",
     "text": [
      "Model: shufflenet_v2_x0_5.pth, Epoch: 10, Accuracy: 12.583333333333334, Train Loss: 3.636974811553955, Val Loss: 3.667978286743164, Epoch Time: 37.95821952819824\n",
      "Model: shufflenet_v2_x0_5.pth saved.\n"
     ]
    },
    {
     "name": "stderr",
     "output_type": "stream",
     "text": [
      "Train Loop: 100%|██████████| 75/75 [00:28<00:00,  2.63it/s]\n",
      "Validation Loop: 100%|██████████| 38/38 [00:13<00:00,  2.74it/s]\n"
     ]
    },
    {
     "name": "stdout",
     "output_type": "stream",
     "text": [
      "Model: shufflenet_v2_x1_0.pth, Epoch: 1, Accuracy: 4.166666666666667, Train Loss: 4.764179229736328, Val Loss: 4.761979579925537, Epoch Time: 42.39675545692444\n",
      "Model: shufflenet_v2_x1_0.pth saved.\n"
     ]
    },
    {
     "name": "stderr",
     "output_type": "stream",
     "text": [
      "Train Loop: 100%|██████████| 75/75 [00:29<00:00,  2.59it/s]\n",
      "Validation Loop: 100%|██████████| 38/38 [00:13<00:00,  2.73it/s]\n"
     ]
    },
    {
     "name": "stdout",
     "output_type": "stream",
     "text": [
      "Model: shufflenet_v2_x1_0.pth, Epoch: 2, Accuracy: 9.166666666666666, Train Loss: 4.698372840881348, Val Loss: 4.712132453918457, Epoch Time: 42.94411325454712\n",
      "Model: shufflenet_v2_x1_0.pth saved.\n"
     ]
    },
    {
     "name": "stderr",
     "output_type": "stream",
     "text": [
      "Train Loop: 100%|██████████| 75/75 [00:29<00:00,  2.58it/s]\n",
      "Validation Loop: 100%|██████████| 38/38 [00:14<00:00,  2.70it/s]\n"
     ]
    },
    {
     "name": "stdout",
     "output_type": "stream",
     "text": [
      "Model: shufflenet_v2_x1_0.pth, Epoch: 3, Accuracy: 11.833333333333334, Train Loss: 4.615700721740723, Val Loss: 4.553896903991699, Epoch Time: 43.16622471809387\n",
      "Model: shufflenet_v2_x1_0.pth saved.\n"
     ]
    },
    {
     "name": "stderr",
     "output_type": "stream",
     "text": [
      "Train Loop: 100%|██████████| 75/75 [00:28<00:00,  2.59it/s]\n",
      "Validation Loop: 100%|██████████| 38/38 [00:13<00:00,  2.76it/s]\n"
     ]
    },
    {
     "name": "stdout",
     "output_type": "stream",
     "text": [
      "Model: shufflenet_v2_x1_0.pth, Epoch: 4, Accuracy: 11.0, Train Loss: 4.416048049926758, Val Loss: 4.121048927307129, Epoch Time: 42.70734143257141\n",
      "Model: shufflenet_v2_x1_0.pth saved.\n"
     ]
    },
    {
     "name": "stderr",
     "output_type": "stream",
     "text": [
      "Train Loop: 100%|██████████| 75/75 [00:29<00:00,  2.54it/s]\n",
      "Validation Loop: 100%|██████████| 38/38 [00:13<00:00,  2.73it/s]\n"
     ]
    },
    {
     "name": "stdout",
     "output_type": "stream",
     "text": [
      "Model: shufflenet_v2_x1_0.pth, Epoch: 5, Accuracy: 19.0, Train Loss: 4.28484582901001, Val Loss: 3.915156364440918, Epoch Time: 43.387723207473755\n",
      "Model: shufflenet_v2_x1_0.pth saved.\n"
     ]
    },
    {
     "name": "stderr",
     "output_type": "stream",
     "text": [
      "Train Loop: 100%|██████████| 75/75 [00:28<00:00,  2.60it/s]\n",
      "Validation Loop: 100%|██████████| 38/38 [00:14<00:00,  2.71it/s]\n"
     ]
    },
    {
     "name": "stdout",
     "output_type": "stream",
     "text": [
      "Model: shufflenet_v2_x1_0.pth, Epoch: 6, Accuracy: 14.833333333333334, Train Loss: 4.040198802947998, Val Loss: 4.190709590911865, Epoch Time: 42.84035396575928\n",
      "Model: shufflenet_v2_x1_0.pth saved.\n"
     ]
    },
    {
     "name": "stderr",
     "output_type": "stream",
     "text": [
      "Train Loop: 100%|██████████| 75/75 [00:28<00:00,  2.63it/s]\n",
      "Validation Loop: 100%|██████████| 38/38 [00:13<00:00,  2.73it/s]\n"
     ]
    },
    {
     "name": "stdout",
     "output_type": "stream",
     "text": [
      "Model: shufflenet_v2_x1_0.pth, Epoch: 7, Accuracy: 20.0, Train Loss: 3.83355975151062, Val Loss: 4.001041889190674, Epoch Time: 42.44837188720703\n",
      "Model: shufflenet_v2_x1_0.pth saved.\n"
     ]
    },
    {
     "name": "stderr",
     "output_type": "stream",
     "text": [
      "Train Loop: 100%|██████████| 75/75 [00:29<00:00,  2.51it/s]\n",
      "Validation Loop: 100%|██████████| 38/38 [00:13<00:00,  2.73it/s]\n"
     ]
    },
    {
     "name": "stdout",
     "output_type": "stream",
     "text": [
      "Model: shufflenet_v2_x1_0.pth, Epoch: 8, Accuracy: 19.0, Train Loss: 3.741969585418701, Val Loss: 3.5762720108032227, Epoch Time: 43.83913731575012\n",
      "Model: shufflenet_v2_x1_0.pth saved.\n"
     ]
    },
    {
     "name": "stderr",
     "output_type": "stream",
     "text": [
      "Train Loop: 100%|██████████| 75/75 [00:29<00:00,  2.54it/s]\n",
      "Validation Loop: 100%|██████████| 38/38 [00:13<00:00,  2.78it/s]\n"
     ]
    },
    {
     "name": "stdout",
     "output_type": "stream",
     "text": [
      "Model: shufflenet_v2_x1_0.pth, Epoch: 9, Accuracy: 20.666666666666668, Train Loss: 3.39229679107666, Val Loss: 3.5155630111694336, Epoch Time: 43.156447887420654\n",
      "Model: shufflenet_v2_x1_0.pth saved.\n"
     ]
    },
    {
     "name": "stderr",
     "output_type": "stream",
     "text": [
      "Train Loop: 100%|██████████| 75/75 [00:28<00:00,  2.60it/s]\n",
      "Validation Loop: 100%|██████████| 38/38 [00:13<00:00,  2.72it/s]"
     ]
    },
    {
     "name": "stdout",
     "output_type": "stream",
     "text": [
      "Model: shufflenet_v2_x1_0.pth, Epoch: 10, Accuracy: 23.666666666666668, Train Loss: 3.2552127838134766, Val Loss: 3.341686487197876, Epoch Time: 42.84636640548706\n",
      "Model: shufflenet_v2_x1_0.pth saved.\n"
     ]
    },
    {
     "name": "stderr",
     "output_type": "stream",
     "text": [
      "\n"
     ]
    }
   ],
   "source": [
    "train_loader = train_sample_loader\n",
    "test_loader = test_sample_loader\n",
    "\n",
    "for idx, (model, model_name) in enumerate(zip(model_list, model_name_list)):\n",
    "\n",
    "    num_epochs = 10\n",
    "    optimizer = torch.optim.Adam(model.parameters(), lr=0.0001)\n",
    "    criterion = torch.nn.CrossEntropyLoss()\n",
    "\n",
    "    if torch.cuda.is_available():\n",
    "        device = torch.device('cuda') \n",
    "    else:\n",
    "        device = torch.device('cpu')\n",
    "\n",
    "    for param in model.parameters():\n",
    "        param.requires_grad = True\n",
    "\n",
    "    model = model.to(device)\n",
    "\n",
    "    results_df = pd.DataFrame(columns=['Model', 'Epoch', 'Accuracy', 'Train Loss', 'Val Loss', 'Epoch Time'])\n",
    "\n",
    "    for epoch in range(num_epochs):\n",
    "        epoch_start = time.time()\n",
    "        \n",
    "        model.train()\n",
    "        for batch_idx, (images, labels) in enumerate(tqdm(train_loader, desc='Train Loop')):\n",
    "            images = images.to(device)\n",
    "            labels = labels.to(device)\n",
    "            optimizer.zero_grad(set_to_none=True)\n",
    "            outputs = model(images)\n",
    "            train_loss = criterion(outputs, labels)\n",
    "            train_loss.backward()\n",
    "            optimizer.step()\n",
    "                        \n",
    "        model.eval()\n",
    "        with torch.no_grad():\n",
    "            correct = 0\n",
    "            total = 0\n",
    "            for batch_idx, (images, labels) in enumerate(tqdm(test_loader, desc='Validation Loop')):\n",
    "                images = images.to(device)\n",
    "                labels = labels.to(device)\n",
    "                outputs = model(images)\n",
    "                _, predicted = torch.max(outputs.data, 1)\n",
    "                total += labels.size(0)\n",
    "                correct += (predicted == labels).sum().item()\n",
    "                val_loss = criterion(outputs, labels)\n",
    "\n",
    "        print(f'Model: {model_name}, Epoch: {epoch+1}, Accuracy: {100 * correct / total}, Train Loss: {train_loss.item()}, Val Loss: {val_loss.item()}, Epoch Time: {time.time()-epoch_start}')\n",
    "        \n",
    "        if not os.path.exists('Results'):\n",
    "            os.makedirs('Results')\n",
    "\n",
    "        results_df.loc[len(results_df)] = [model_name, (epoch+1), (100 * correct / total), train_loss.item(), val_loss.item(), (time.time()-epoch_start)]\n",
    "        results_df.to_csv(f'Results/{model_name}.csv', index=False)\n",
    "            \n",
    "        if not os.path.exists('Models'):\n",
    "            os.makedirs('Models')\n",
    "                \n",
    "        torch.save(model.state_dict(), f'Models/{model_name}')\n",
    "        print(f'Model: {model_name} saved.')\n",
    "     "
   ]
  },
  {
   "cell_type": "markdown",
   "metadata": {},
   "source": [
    "- Trained on ml.c5.9xlarge\n",
    "- Bottleneck in training time is the num_of_workers available to support data loading.\n",
    "- Batchsize = 32\n",
    "- Optimizer = Adam \n",
    "- lr = .0001\n",
    "- Trained with a random sampler to increase observability of metrics \n",
    "- Tuned 5 of the smallest pretrained models available via Pytorch\n",
    "- 10 epochs, should maybe increase, because the first model appears like it had more to go, based on train and val loss\n",
    "- Benchmarking 'light-weight' pretrained models on the stanford dogs dataset using AWS and PyTorch"
   ]
  },
  {
   "cell_type": "code",
   "execution_count": null,
   "metadata": {},
   "outputs": [],
   "source": []
  }
 ],
 "metadata": {
  "kernelspec": {
   "display_name": "base",
   "language": "python",
   "name": "python3"
  },
  "language_info": {
   "codemirror_mode": {
    "name": "ipython",
    "version": 3
   },
   "file_extension": ".py",
   "mimetype": "text/x-python",
   "name": "python",
   "nbconvert_exporter": "python",
   "pygments_lexer": "ipython3",
   "version": "3.10.13"
  }
 },
 "nbformat": 4,
 "nbformat_minor": 2
}
