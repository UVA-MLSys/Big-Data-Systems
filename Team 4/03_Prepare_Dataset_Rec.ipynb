{
 "cells": [
  {
   "cell_type": "markdown",
   "metadata": {},
   "source": [
    "## 1. Convert text to BERT Features"
   ]
  },
  {
   "cell_type": "code",
   "execution_count": 1,
   "metadata": {},
   "outputs": [
    {
     "name": "stderr",
     "output_type": "stream",
     "text": [
      "/home/sagemaker-user/.conda/envs/data_science_on_aws/lib/python3.7/site-packages/boto3/compat.py:82: PythonDeprecationWarning: Boto3 will no longer support Python 3.7 starting December 13, 2023. To continue receiving service updates, bug fixes, and security updates please upgrade to Python 3.8 or later. More information can be found here: https://aws.amazon.com/blogs/developer/python-support-policy-updates-for-aws-sdks-and-tools/\n",
      "  warnings.warn(warning, PythonDeprecationWarning)\n"
     ]
    }
   ],
   "source": [
    "import boto3\n",
    "import sagemaker\n",
    "import pandas as pd\n",
    "\n",
    "sess = sagemaker.Session()\n",
    "role = sagemaker.get_execution_role()\n",
    "bucket = \"sagemaker-team4-bucket\"\n",
    "region = boto3.Session().region_name\n",
    "account_id = boto3.client(\"sts\").get_caller_identity().get(\"Account\")\n",
    "\n",
    "sm = boto3.Session().client(service_name=\"sagemaker\", region_name=region)"
   ]
  },
  {
   "cell_type": "code",
   "execution_count": 2,
   "metadata": {},
   "outputs": [
    {
     "name": "stdout",
     "output_type": "stream",
     "text": [
      "2024-02-18 20:23:31 211125778552personalizepocvod\n",
      "2024-02-18 01:27:18 aws-athena-query-results-211125778552-us-east-1\n",
      "2024-04-13 17:52:38 aws-athena-query-results-us-east-1-211125778552\n",
      "2024-03-27 00:35:44 aws-glue-assets-211125778552-us-east-1\n",
      "2024-03-27 00:28:12 aws-glue-assets-211125778552-us-east-2\n",
      "2024-02-15 21:19:44 sagemaker-studio-12jvao34qlkn\n",
      "2024-02-15 22:38:05 sagemaker-studio-211125778552-3pjkfc2ijfr\n",
      "2024-02-17 02:02:09 sagemaker-studio-211125778552-4dcj21sopi3\n",
      "2024-02-19 03:02:29 sagemaker-studio-211125778552-4rfwbx1bibn\n",
      "2024-02-15 20:23:46 sagemaker-studio-211125778552-4yhhjbuzjdq\n",
      "2024-02-17 02:02:35 sagemaker-studio-211125778552-8xxlet4bnrv\n",
      "2024-02-17 02:02:08 sagemaker-studio-211125778552-rfcwvtinree\n",
      "2024-02-20 00:38:45 sagemaker-studio-211125778552-yu1t8p5304s\n",
      "2024-03-21 19:20:47 sagemaker-studio-uyd2sz3oy3\n",
      "2024-03-08 03:11:27 sagemaker-team11-stanford-dogs\n",
      "2024-04-13 20:37:15 sagemaker-team4-bucket\n",
      "2024-03-18 01:49:41 sagemaker-team6-distracted-drivers\n",
      "2024-02-15 20:23:48 sagemaker-us-east-1-211125778552\n",
      "2024-03-03 20:33:04 team-3-project-data\n",
      "2024-03-20 23:58:20 team-8-project-data\n",
      "2024-03-28 22:10:03 team5bucket\n"
     ]
    }
   ],
   "source": [
    "!aws s3 ls"
   ]
  },
  {
   "cell_type": "code",
   "execution_count": 3,
   "metadata": {},
   "outputs": [
    {
     "name": "stdout",
     "output_type": "stream",
     "text": [
      "                           PRE athena/\n",
      "                           PRE ryanair-data/\n"
     ]
    }
   ],
   "source": [
    "!aws s3 ls sagemaker-team4-bucket"
   ]
  },
  {
   "cell_type": "code",
   "execution_count": 4,
   "metadata": {},
   "outputs": [
    {
     "name": "stdout",
     "output_type": "stream",
     "text": [
      "                           PRE parquet/\n",
      "2024-04-20 01:34:56    1908135 ryanair_reviews.csv\n"
     ]
    }
   ],
   "source": [
    "!aws s3 ls s3://sagemaker-team4-bucket/ryanair-data/"
   ]
  },
  {
   "cell_type": "code",
   "execution_count": 5,
   "metadata": {},
   "outputs": [
    {
     "name": "stdout",
     "output_type": "stream",
     "text": [
      "s3://sagemaker-team4-bucket/ryanair-data/\n"
     ]
    }
   ],
   "source": [
    "raw_input_data_s3_uri = \"s3://{}/ryanair-data/\".format(bucket)\n",
    "print(raw_input_data_s3_uri)"
   ]
  },
  {
   "cell_type": "code",
   "execution_count": 6,
   "metadata": {},
   "outputs": [
    {
     "name": "stdout",
     "output_type": "stream",
     "text": [
      "s3://sagemaker-team4-bucket/athena/staging\n"
     ]
    }
   ],
   "source": [
    "raw_input_data_athena_uri = \"s3://{}/athena/staging\".format(bucket)\n",
    "print(raw_input_data_athena_uri)"
   ]
  },
  {
   "cell_type": "markdown",
   "metadata": {},
   "source": [
    "### Create the Experiment"
   ]
  },
  {
   "cell_type": "code",
   "execution_count": 7,
   "metadata": {},
   "outputs": [
    {
     "name": "stdout",
     "output_type": "stream",
     "text": [
      "Experiment name: Ryanair-Reviews-BERT-REC-Experiment-1713590248\n"
     ]
    }
   ],
   "source": [
    "import time\n",
    "from smexperiments.experiment import Experiment\n",
    "\n",
    "timestamp = int(time.time())\n",
    "\n",
    "experiment = Experiment.create(\n",
    "    experiment_name=\"Ryanair-Reviews-BERT-REC-Experiment-{}\".format(timestamp),\n",
    "    description=\"Ryanair Reviews BERT REC Experiment\",\n",
    "    sagemaker_boto_client=sm,\n",
    ")\n",
    "\n",
    "experiment_name = experiment.experiment_name\n",
    "print(\"Experiment name: {}\".format(experiment_name))"
   ]
  },
  {
   "cell_type": "markdown",
   "metadata": {},
   "source": [
    "### Create the Trial"
   ]
  },
  {
   "cell_type": "code",
   "execution_count": 8,
   "metadata": {},
   "outputs": [
    {
     "name": "stdout",
     "output_type": "stream",
     "text": [
      "Trial name: trial-1713590250\n"
     ]
    }
   ],
   "source": [
    "import time\n",
    "from smexperiments.trial import Trial\n",
    "\n",
    "timestamp = int(time.time())\n",
    "\n",
    "trial = Trial.create(\n",
    "    trial_name=\"trial-{}\".format(timestamp), experiment_name=experiment_name, sagemaker_boto_client=sm\n",
    ")\n",
    "\n",
    "trial_name = trial.trial_name\n",
    "print(\"Trial name: {}\".format(trial_name))"
   ]
  },
  {
   "cell_type": "markdown",
   "metadata": {},
   "source": [
    "### Create the Experiment Config"
   ]
  },
  {
   "cell_type": "code",
   "execution_count": 9,
   "metadata": {},
   "outputs": [],
   "source": [
    "experiment_config = {\n",
    "    \"ExperimentName\": experiment_name,\n",
    "    \"TrialName\": trial_name,\n",
    "    \"TrialComponentDisplayName\": \"prepare\",\n",
    "}"
   ]
  },
  {
   "cell_type": "markdown",
   "metadata": {},
   "source": [
    "### Create Feature Store and Feature Group"
   ]
  },
  {
   "cell_type": "code",
   "execution_count": 10,
   "metadata": {},
   "outputs": [],
   "source": [
    "featurestore_runtime = boto3.Session().client(service_name=\"sagemaker-featurestore-runtime\", region_name=region)"
   ]
  },
  {
   "cell_type": "code",
   "execution_count": 11,
   "metadata": {},
   "outputs": [
    {
     "name": "stdout",
     "output_type": "stream",
     "text": [
      "reviews-feature-store-1713590256\n"
     ]
    }
   ],
   "source": [
    "timestamp = int(time.time())\n",
    "\n",
    "feature_store_offline_prefix = \"reviews-feature-store-\" + str(timestamp)\n",
    "\n",
    "print(feature_store_offline_prefix)"
   ]
  },
  {
   "cell_type": "code",
   "execution_count": 12,
   "metadata": {},
   "outputs": [
    {
     "name": "stdout",
     "output_type": "stream",
     "text": [
      "reviews-feature-group-1713590256\n"
     ]
    }
   ],
   "source": [
    "feature_group_name = \"reviews-feature-group-\" + str(timestamp)\n",
    "\n",
    "print(feature_group_name)"
   ]
  },
  {
   "cell_type": "code",
   "execution_count": 13,
   "metadata": {},
   "outputs": [],
   "source": [
    "from sagemaker.feature_store.feature_definition import (\n",
    "    FeatureDefinition,\n",
    "    FeatureTypeEnum,\n",
    ")\n",
    "\n",
    "feature_definitions = [\n",
    "    FeatureDefinition(feature_name=\"input_ids\", feature_type=FeatureTypeEnum.STRING),\n",
    "    FeatureDefinition(feature_name=\"input_mask\", feature_type=FeatureTypeEnum.STRING),\n",
    "    FeatureDefinition(feature_name=\"segment_ids\", feature_type=FeatureTypeEnum.STRING),\n",
    "    FeatureDefinition(feature_name=\"label_id\", feature_type=FeatureTypeEnum.INTEGRAL),\n",
    "    FeatureDefinition(feature_name=\"record_id\", feature_type=FeatureTypeEnum.STRING),\n",
    "    FeatureDefinition(feature_name=\"date\", feature_type=FeatureTypeEnum.STRING),\n",
    "    FeatureDefinition(feature_name=\"label\", feature_type=FeatureTypeEnum.INTEGRAL),\n",
    "    #FeatureDefinition(feature_name='review', feature_type=FeatureTypeEnum.STRING)\n",
    "]"
   ]
  },
  {
   "cell_type": "code",
   "execution_count": 14,
   "metadata": {},
   "outputs": [
    {
     "name": "stdout",
     "output_type": "stream",
     "text": [
      "FeatureGroup(name='reviews-feature-group-1713590256', sagemaker_session=<sagemaker.session.Session object at 0x7f041922f0d0>, feature_definitions=[FeatureDefinition(feature_name='input_ids', feature_type=<FeatureTypeEnum.STRING: 'String'>), FeatureDefinition(feature_name='input_mask', feature_type=<FeatureTypeEnum.STRING: 'String'>), FeatureDefinition(feature_name='segment_ids', feature_type=<FeatureTypeEnum.STRING: 'String'>), FeatureDefinition(feature_name='label_id', feature_type=<FeatureTypeEnum.INTEGRAL: 'Integral'>), FeatureDefinition(feature_name='record_id', feature_type=<FeatureTypeEnum.STRING: 'String'>), FeatureDefinition(feature_name='date', feature_type=<FeatureTypeEnum.STRING: 'String'>), FeatureDefinition(feature_name='label', feature_type=<FeatureTypeEnum.INTEGRAL: 'Integral'>)])\n"
     ]
    }
   ],
   "source": [
    "from sagemaker.feature_store.feature_group import FeatureGroup\n",
    "\n",
    "feature_group = FeatureGroup(name=feature_group_name, feature_definitions=feature_definitions, sagemaker_session=sess)\n",
    "\n",
    "print(feature_group)"
   ]
  },
  {
   "cell_type": "code",
   "execution_count": 16,
   "metadata": {},
   "outputs": [],
   "source": [
    "processing_instance_type = \"ml.m5.large\"\n",
    "processing_instance_count = 2\n",
    "train_split_percentage = 0.50\n",
    "validation_split_percentage = 0.25\n",
    "test_split_percentage = 0.25\n",
    "balance_dataset = True\n",
    "max_seq_length = 183"
   ]
  },
  {
   "cell_type": "code",
   "execution_count": 17,
   "metadata": {},
   "outputs": [
    {
     "name": "stderr",
     "output_type": "stream",
     "text": [
      "INFO:sagemaker.image_uris:Same images used for training and inference. Defaulting to image scope: inference.\n",
      "INFO:sagemaker.image_uris:Defaulting to only available Python version: py3\n"
     ]
    }
   ],
   "source": [
    "from sagemaker.sklearn.processing import SKLearnProcessor\n",
    "\n",
    "processor = SKLearnProcessor(\n",
    "    framework_version=\"0.23-1\",\n",
    "    role=role,\n",
    "    instance_type=processing_instance_type,\n",
    "    instance_count=processing_instance_count,\n",
    "    #env={\"AWS_DEFAULT_REGION\": region},\n",
    "    max_runtime_in_seconds=7200,\n",
    ")"
   ]
  },
  {
   "cell_type": "code",
   "execution_count": 18,
   "metadata": {},
   "outputs": [
    {
     "name": "stderr",
     "output_type": "stream",
     "text": [
      "INFO:sagemaker:Creating processing-job with name sagemaker-scikit-learn-2024-04-20-05-17-50-785\n"
     ]
    },
    {
     "name": "stdout",
     "output_type": "stream",
     "text": [
      "\n",
      "Job Name:  sagemaker-scikit-learn-2024-04-20-05-17-50-785\n",
      "Inputs:  [{'InputName': 'raw-input-data', 'AppManaged': False, 'S3Input': {'S3Uri': 's3://sagemaker-team4-bucket/ryanair-data/', 'LocalPath': '/opt/ml/processing/input/data/', 'S3DataType': 'S3Prefix', 'S3InputMode': 'File', 'S3DataDistributionType': 'ShardedByS3Key', 'S3CompressionType': 'None'}}, {'InputName': 'code', 'AppManaged': False, 'S3Input': {'S3Uri': 's3://sagemaker-us-east-1-211125778552/sagemaker-scikit-learn-2024-04-20-05-17-50-785/input/code/preprocess-scikit-text-to-bert-feature-store-rec.py', 'LocalPath': '/opt/ml/processing/input/code', 'S3DataType': 'S3Prefix', 'S3InputMode': 'File', 'S3DataDistributionType': 'FullyReplicated', 'S3CompressionType': 'None'}}]\n",
      "Outputs:  [{'OutputName': 'bert-train', 'AppManaged': False, 'S3Output': {'S3Uri': 's3://sagemaker-us-east-1-211125778552/sagemaker-scikit-learn-2024-04-20-05-17-50-785/output/bert-train', 'LocalPath': '/opt/ml/processing/output/bert/train', 'S3UploadMode': 'EndOfJob'}}, {'OutputName': 'bert-validation', 'AppManaged': False, 'S3Output': {'S3Uri': 's3://sagemaker-us-east-1-211125778552/sagemaker-scikit-learn-2024-04-20-05-17-50-785/output/bert-validation', 'LocalPath': '/opt/ml/processing/output/bert/validation', 'S3UploadMode': 'EndOfJob'}}, {'OutputName': 'bert-test', 'AppManaged': False, 'S3Output': {'S3Uri': 's3://sagemaker-us-east-1-211125778552/sagemaker-scikit-learn-2024-04-20-05-17-50-785/output/bert-test', 'LocalPath': '/opt/ml/processing/output/bert/test', 'S3UploadMode': 'EndOfJob'}}]\n"
     ]
    }
   ],
   "source": [
    "from sagemaker.processing import ProcessingInput, ProcessingOutput\n",
    "\n",
    "processor.run(\n",
    "    code=\"preprocess-scikit-text-to-bert-feature-store-rec.py\",\n",
    "    inputs=[\n",
    "        ProcessingInput(\n",
    "            input_name=\"raw-input-data\",\n",
    "            source=raw_input_data_s3_uri,\n",
    "            destination=\"/opt/ml/processing/input/data/\",\n",
    "            s3_data_distribution_type=\"ShardedByS3Key\",\n",
    "        )\n",
    "    ],\n",
    "    outputs=[\n",
    "        ProcessingOutput(\n",
    "            output_name=\"bert-train\", s3_upload_mode=\"EndOfJob\", source=\"/opt/ml/processing/output/bert/train\"\n",
    "        ),\n",
    "        ProcessingOutput(\n",
    "            output_name=\"bert-validation\",\n",
    "            s3_upload_mode=\"EndOfJob\",\n",
    "            source=\"/opt/ml/processing/output/bert/validation\",\n",
    "        ),\n",
    "        ProcessingOutput(\n",
    "            output_name=\"bert-test\", s3_upload_mode=\"EndOfJob\", source=\"/opt/ml/processing/output/bert/test\"\n",
    "        ),\n",
    "    ],\n",
    "    arguments=[\n",
    "        \"--train-split-percentage\",\n",
    "        str(train_split_percentage),\n",
    "        \"--validation-split-percentage\",\n",
    "        str(validation_split_percentage),\n",
    "        \"--test-split-percentage\",\n",
    "        str(test_split_percentage),\n",
    "        \"--max-seq-length\",\n",
    "        str(max_seq_length),\n",
    "        \"--balance-dataset\",\n",
    "        str(balance_dataset),\n",
    "        \"--feature-store-offline-prefix\",\n",
    "        str(feature_store_offline_prefix),\n",
    "        \"--feature-group-name\",\n",
    "        str(feature_group_name),\n",
    "    ],\n",
    "    experiment_config=experiment_config,\n",
    "    logs=True,\n",
    "    wait=False,\n",
    ")"
   ]
  },
  {
   "cell_type": "code",
   "execution_count": 19,
   "metadata": {},
   "outputs": [
    {
     "name": "stdout",
     "output_type": "stream",
     "text": [
      "sagemaker-scikit-learn-2024-04-20-05-17-50-785\n"
     ]
    }
   ],
   "source": [
    "scikit_processing_job_name = processor.jobs[-1].describe()[\"ProcessingJobName\"]\n",
    "print(scikit_processing_job_name)"
   ]
  },
  {
   "cell_type": "code",
   "execution_count": 20,
   "metadata": {},
   "outputs": [
    {
     "data": {
      "text/html": [
       "<b>Review <a target=\"blank\" href=\"https://console.aws.amazon.com/sagemaker/home?region=us-east-1#/processing-jobs/sagemaker-scikit-learn-2024-04-20-05-17-50-785\">Processing Job</a></b>"
      ],
      "text/plain": [
       "<IPython.core.display.HTML object>"
      ]
     },
     "metadata": {},
     "output_type": "display_data"
    }
   ],
   "source": [
    "from IPython.core.display import display, HTML\n",
    "\n",
    "display(\n",
    "    HTML(\n",
    "        '<b>Review <a target=\"blank\" href=\"https://console.aws.amazon.com/sagemaker/home?region={}#/processing-jobs/{}\">Processing Job</a></b>'.format(\n",
    "            region, scikit_processing_job_name\n",
    "        )\n",
    "    )\n",
    ")"
   ]
  },
  {
   "cell_type": "code",
   "execution_count": 21,
   "metadata": {},
   "outputs": [
    {
     "data": {
      "text/html": [
       "<b>Review <a target=\"blank\" href=\"https://console.aws.amazon.com/cloudwatch/home?region=us-east-1#logStream:group=/aws/sagemaker/ProcessingJobs;prefix=sagemaker-scikit-learn-2024-04-20-05-17-50-785;streamFilter=typeLogStreamPrefix\">CloudWatch Logs</a> After About 5 Minutes</b>"
      ],
      "text/plain": [
       "<IPython.core.display.HTML object>"
      ]
     },
     "metadata": {},
     "output_type": "display_data"
    }
   ],
   "source": [
    "from IPython.core.display import display, HTML\n",
    "\n",
    "display(\n",
    "    HTML(\n",
    "        '<b>Review <a target=\"blank\" href=\"https://console.aws.amazon.com/cloudwatch/home?region={}#logStream:group=/aws/sagemaker/ProcessingJobs;prefix={};streamFilter=typeLogStreamPrefix\">CloudWatch Logs</a> After About 5 Minutes</b>'.format(\n",
    "            region, scikit_processing_job_name\n",
    "        )\n",
    "    )\n",
    ")"
   ]
  },
  {
   "cell_type": "code",
   "execution_count": 22,
   "metadata": {},
   "outputs": [
    {
     "data": {
      "text/html": [
       "<b>Review <a target=\"blank\" href=\"https://s3.console.aws.amazon.com/s3/buckets/sagemaker-team4-bucket/sagemaker-scikit-learn-2024-04-20-05-17-50-785/?region=us-east-1&tab=overview\">S3 Output Data</a> After The Processing Job Has Completed</b>"
      ],
      "text/plain": [
       "<IPython.core.display.HTML object>"
      ]
     },
     "metadata": {},
     "output_type": "display_data"
    }
   ],
   "source": [
    "from IPython.core.display import display, HTML\n",
    "\n",
    "display(\n",
    "    HTML(\n",
    "        '<b>Review <a target=\"blank\" href=\"https://s3.console.aws.amazon.com/s3/buckets/{}/{}/?region={}&tab=overview\">S3 Output Data</a> After The Processing Job Has Completed</b>'.format(\n",
    "            bucket, scikit_processing_job_name, region\n",
    "        )\n",
    "    )\n",
    ")"
   ]
  },
  {
   "cell_type": "markdown",
   "metadata": {},
   "source": [
    "### Monitor the processing job"
   ]
  },
  {
   "cell_type": "code",
   "execution_count": 23,
   "metadata": {},
   "outputs": [
    {
     "name": "stdout",
     "output_type": "stream",
     "text": [
      "{'ProcessingInputs': [{'InputName': 'raw-input-data', 'AppManaged': False, 'S3Input': {'S3Uri': 's3://sagemaker-team4-bucket/ryanair-data/', 'LocalPath': '/opt/ml/processing/input/data/', 'S3DataType': 'S3Prefix', 'S3InputMode': 'File', 'S3DataDistributionType': 'ShardedByS3Key', 'S3CompressionType': 'None'}}, {'InputName': 'code', 'AppManaged': False, 'S3Input': {'S3Uri': 's3://sagemaker-us-east-1-211125778552/sagemaker-scikit-learn-2024-04-20-05-17-50-785/input/code/preprocess-scikit-text-to-bert-feature-store-rec.py', 'LocalPath': '/opt/ml/processing/input/code', 'S3DataType': 'S3Prefix', 'S3InputMode': 'File', 'S3DataDistributionType': 'FullyReplicated', 'S3CompressionType': 'None'}}], 'ProcessingOutputConfig': {'Outputs': [{'OutputName': 'bert-train', 'S3Output': {'S3Uri': 's3://sagemaker-us-east-1-211125778552/sagemaker-scikit-learn-2024-04-20-05-17-50-785/output/bert-train', 'LocalPath': '/opt/ml/processing/output/bert/train', 'S3UploadMode': 'EndOfJob'}, 'AppManaged': False}, {'OutputName': 'bert-validation', 'S3Output': {'S3Uri': 's3://sagemaker-us-east-1-211125778552/sagemaker-scikit-learn-2024-04-20-05-17-50-785/output/bert-validation', 'LocalPath': '/opt/ml/processing/output/bert/validation', 'S3UploadMode': 'EndOfJob'}, 'AppManaged': False}, {'OutputName': 'bert-test', 'S3Output': {'S3Uri': 's3://sagemaker-us-east-1-211125778552/sagemaker-scikit-learn-2024-04-20-05-17-50-785/output/bert-test', 'LocalPath': '/opt/ml/processing/output/bert/test', 'S3UploadMode': 'EndOfJob'}, 'AppManaged': False}]}, 'ProcessingJobName': 'sagemaker-scikit-learn-2024-04-20-05-17-50-785', 'ProcessingResources': {'ClusterConfig': {'InstanceCount': 2, 'InstanceType': 'ml.m5.large', 'VolumeSizeInGB': 30}}, 'StoppingCondition': {'MaxRuntimeInSeconds': 7200}, 'AppSpecification': {'ImageUri': '683313688378.dkr.ecr.us-east-1.amazonaws.com/sagemaker-scikit-learn:0.23-1-cpu-py3', 'ContainerEntrypoint': ['python3', '/opt/ml/processing/input/code/preprocess-scikit-text-to-bert-feature-store-rec.py'], 'ContainerArguments': ['--train-split-percentage', '0.5', '--validation-split-percentage', '0.25', '--test-split-percentage', '0.25', '--max-seq-length', '183', '--balance-dataset', 'True', '--feature-store-offline-prefix', 'reviews-feature-store-1713590256', '--feature-group-name', 'reviews-feature-group-1713590256']}, 'RoleArn': 'arn:aws:iam::211125778552:role/service-role/AmazonSageMaker-ExecutionRole-20240215T152311', 'ExperimentConfig': {'ExperimentName': 'Ryanair-Reviews-BERT-REC-Experiment-1713590248', 'TrialName': 'trial-1713590250', 'TrialComponentDisplayName': 'prepare'}, 'ProcessingJobArn': 'arn:aws:sagemaker:us-east-1:211125778552:processing-job/sagemaker-scikit-learn-2024-04-20-05-17-50-785', 'ProcessingJobStatus': 'InProgress', 'LastModifiedTime': datetime.datetime(2024, 4, 20, 5, 17, 51, 821000, tzinfo=tzlocal()), 'CreationTime': datetime.datetime(2024, 4, 20, 5, 17, 51, 378000, tzinfo=tzlocal()), 'ResponseMetadata': {'RequestId': '9d8d4314-50aa-440b-bf25-f5b858110c34', 'HTTPStatusCode': 200, 'HTTPHeaders': {'x-amzn-requestid': '9d8d4314-50aa-440b-bf25-f5b858110c34', 'content-type': 'application/x-amz-json-1.1', 'content-length': '2894', 'date': 'Sat, 20 Apr 2024 05:17:53 GMT'}, 'RetryAttempts': 0}}\n"
     ]
    }
   ],
   "source": [
    "running_processor = sagemaker.processing.ProcessingJob.from_processing_name(\n",
    "    processing_job_name=scikit_processing_job_name, sagemaker_session=sess\n",
    ")\n",
    "\n",
    "processing_job_description = running_processor.describe()\n",
    "\n",
    "print(processing_job_description)"
   ]
  },
  {
   "cell_type": "code",
   "execution_count": 24,
   "metadata": {},
   "outputs": [
    {
     "name": "stdout",
     "output_type": "stream",
     "text": [
      "............................Collecting tensorflow==2.3.1\n",
      "  Downloading tensorflow-2.3.1-cp37-cp37m-manylinux2010_x86_64.whl (320.4 MB)\n",
      "Collecting tensorflow==2.3.1\n",
      "  Downloading tensorflow-2.3.1-cp37-cp37m-manylinux2010_x86_64.whl (320.4 MB)\n",
      "     ━━━━━━━━━━━━━━━━━━━━━━━━━━━━━━━━━━━━━━━ 320.4/320.4 MB 2.7 MB/s eta 0:00:00\n",
      "     ━━━━━━━━━━━━━━━━━━━━━━━━━━━━━━━━━━━━━━━ 320.4/320.4 MB 2.7 MB/s eta 0:00:00\n",
      "Requirement already satisfied: wheel>=0.26 in /miniconda3/lib/python3.7/site-packages (from tensorflow==2.3.1) (0.37.1)\n",
      "Collecting keras-preprocessing<1.2,>=1.1.1\n",
      "  Downloading Keras_Preprocessing-1.1.2-py2.py3-none-any.whl (42 kB)\n",
      "     ━━━━━━━━━━━━━━━━━━━━━━━━━━━━━━━━━━━━━━━━ 42.6/42.6 kB 9.4 MB/s eta 0:00:00\n",
      "Collecting google-pasta>=0.1.8\n",
      "  Downloading google_pasta-0.2.0-py3-none-any.whl (57 kB)\n",
      "     ━━━━━━━━━━━━━━━━━━━━━━━━━━━━━━━━━━━━━━━━ 57.5/57.5 kB 12.8 MB/s eta 0:00:00\n",
      "Requirement already satisfied: protobuf>=3.9.2 in /miniconda3/lib/python3.7/site-packages (from tensorflow==2.3.1) (3.20.2)\n",
      "Collecting opt-einsum>=2.3.2\n",
      "  Downloading opt_einsum-3.3.0-py3-none-any.whl (65 kB)\n",
      "     ━━━━━━━━━━━━━━━━━━━━━━━━━━━━━━━━━━━━━━━━ 65.5/65.5 kB 13.0 MB/s eta 0:00:00\n",
      "Collecting absl-py>=0.7.0\n",
      "  Downloading absl_py-2.1.0-py3-none-any.whl (133 kB)\n",
      "     ━━━━━━━━━━━━━━━━━━━━━━━━━━━━━━━━━━━━━━ 133.7/133.7 kB 27.8 MB/s eta 0:00:00\n",
      "Collecting h5py<2.11.0,>=2.10.0\n",
      "  Downloading h5py-2.10.0-cp37-cp37m-manylinux1_x86_64.whl (2.9 MB)\n",
      "     ━━━━━━━━━━━━━━━━━━━━━━━━━━━━━━━━━━━━━━━━ 2.9/2.9 MB 84.3 MB/s eta 0:00:00\n",
      "Collecting keras-preprocessing<1.2,>=1.1.1\n",
      "  Downloading Keras_Preprocessing-1.1.2-py2.py3-none-any.whl (42 kB)\n",
      "     ━━━━━━━━━━━━━━━━━━━━━━━━━━━━━━━━━━━━━━━━ 42.6/42.6 kB 9.4 MB/s eta 0:00:00\n",
      "Collecting numpy<1.19.0,>=1.16.0\n",
      "  Downloading numpy-1.18.5-cp37-cp37m-manylinux1_x86_64.whl (20.1 MB)\n",
      "Collecting grpcio>=1.8.6\n",
      "  Downloading grpcio-1.62.2-cp37-cp37m-manylinux_2_17_x86_64.manylinux2014_x86_64.whl (5.6 MB)\n",
      "     ━━━━━━━━━━━━━━━━━━━━━━━━━━━━━━━━━━━━━━━━ 5.6/5.6 MB 93.6 MB/s eta 0:00:00\n",
      "Collecting google-pasta>=0.1.8\n",
      "  Downloading google_pasta-0.2.0-py3-none-any.whl (57 kB)\n",
      "     ━━━━━━━━━━━━━━━━━━━━━━━━━━━━━━━━━━━━━━━━ 57.5/57.5 kB 13.1 MB/s eta 0:00:00\n",
      "Collecting opt-einsum>=2.3.2\n",
      "  Downloading opt_einsum-3.3.0-py3-none-any.whl (65 kB)\n",
      "     ━━━━━━━━━━━━━━━━━━━━━━━━━━━━━━━━━━━━━━━━ 65.5/65.5 kB 15.3 MB/s eta 0:00:00\n",
      "Collecting wrapt>=1.11.1\n",
      "  Downloading wrapt-1.16.0-cp37-cp37m-manylinux_2_5_x86_64.manylinux1_x86_64.manylinux_2_17_x86_64.manylinux2014_x86_64.whl (77 kB)\n",
      "     ━━━━━━━━━━━━━━━━━━━━━━━━━━━━━━━━━━━━━━━━ 77.5/77.5 kB 17.8 MB/s eta 0:00:00\n",
      "Collecting termcolor>=1.1.0\n",
      "  Downloading termcolor-2.3.0-py3-none-any.whl (6.9 kB)\n",
      "Requirement already satisfied: protobuf>=3.9.2 in /miniconda3/lib/python3.7/site-packages (from tensorflow==2.3.1) (3.20.2)\n",
      "Collecting h5py<2.11.0,>=2.10.0\n",
      "  Downloading h5py-2.10.0-cp37-cp37m-manylinux1_x86_64.whl (2.9 MB)\n",
      "     ━━━━━━━━━━━━━━━━━━━━━━━━━━━━━━━━━━━━━━━━ 20.1/20.1 MB 68.4 MB/s eta 0:00:00\n",
      "Collecting termcolor>=1.1.0\n",
      "  Downloading termcolor-2.3.0-py3-none-any.whl (6.9 kB)\n",
      "Collecting wrapt>=1.11.1\n",
      "  Downloading wrapt-1.16.0-cp37-cp37m-manylinux_2_5_x86_64.manylinux1_x86_64.manylinux_2_17_x86_64.manylinux2014_x86_64.whl (77 kB)\n",
      "     ━━━━━━━━━━━━━━━━━━━━━━━━━━━━━━━━━━━━━━━━ 77.5/77.5 kB 15.3 MB/s eta 0:00:00\n",
      "     ━━━━━━━━━━━━━━━━━━━━━━━━━━━━━━━━━━━━━━━━ 2.9/2.9 MB 6.6 MB/s eta 0:00:00\n",
      "Collecting absl-py>=0.7.0\n",
      "  Downloading absl_py-2.1.0-py3-none-any.whl (133 kB)\n",
      "     ━━━━━━━━━━━━━━━━━━━━━━━━━━━━━━━━━━━━━━ 133.7/133.7 kB 27.5 MB/s eta 0:00:00\n",
      "Collecting gast==0.3.3\n",
      "  Downloading gast-0.3.3-py2.py3-none-any.whl (9.7 kB)\n",
      "Collecting tensorflow-estimator<2.4.0,>=2.3.0\n",
      "  Downloading tensorflow_estimator-2.3.0-py2.py3-none-any.whl (459 kB)\n",
      "     ━━━━━━━━━━━━━━━━━━━━━━━━━━━━━━━━━━━━━━ 459.0/459.0 kB 53.4 MB/s eta 0:00:00\n",
      "Collecting numpy<1.19.0,>=1.16.0\n",
      "  Downloading numpy-1.18.5-cp37-cp37m-manylinux1_x86_64.whl (20.1 MB)\n",
      "     ━━━━━━━━━━━━━━━━━━━━━━━━━━━━━━━━━━━━━━━━ 20.1/20.1 MB 68.4 MB/s eta 0:00:00\n",
      "Requirement already satisfied: six>=1.12.0 in /miniconda3/lib/python3.7/site-packages (from tensorflow==2.3.1) (1.15.0)\n",
      "Collecting astunparse==1.6.3\n",
      "  Downloading astunparse-1.6.3-py2.py3-none-any.whl (12 kB)\n",
      "Collecting tensorboard<3,>=2.3.0\n",
      "Collecting grpcio>=1.8.6\n",
      "  Downloading grpcio-1.62.2-cp37-cp37m-manylinux_2_17_x86_64.manylinux2014_x86_64.whl (5.6 MB)\n",
      "     ━━━━━━━━━━━━━━━━━━━━━━━━━━━━━━━━━━━━━━━━ 5.6/5.6 MB 98.4 MB/s eta 0:00:00\n",
      "Collecting tensorflow-estimator<2.4.0,>=2.3.0\n",
      "  Downloading tensorflow_estimator-2.3.0-py2.py3-none-any.whl (459 kB)\n",
      "     ━━━━━━━━━━━━━━━━━━━━━━━━━━━━━━━━━━━━━━ 459.0/459.0 kB 51.4 MB/s eta 0:00:00\n",
      "Requirement already satisfied: wheel>=0.26 in /miniconda3/lib/python3.7/site-packages (from tensorflow==2.3.1) (0.37.1)\n",
      "Collecting tensorboard<3,>=2.3.0\n",
      "  Downloading tensorboard-2.11.2-py3-none-any.whl (6.0 MB)\n",
      "     ━━━━━━━━━━━━━━━━━━━━━━━━━━━━━━━━━━━━━━━━ 6.0/6.0 MB 99.1 MB/s eta 0:00:00\n",
      "Requirement already satisfied: six>=1.12.0 in /miniconda3/lib/python3.7/site-packages (from tensorflow==2.3.1) (1.15.0)\n",
      "Collecting gast==0.3.3\n",
      "  Downloading gast-0.3.3-py2.py3-none-any.whl (9.7 kB)\n",
      "Collecting astunparse==1.6.3\n",
      "  Downloading astunparse-1.6.3-py2.py3-none-any.whl (12 kB)\n",
      "Collecting google-auth-oauthlib<0.5,>=0.4.1\n",
      "  Downloading google_auth_oauthlib-0.4.6-py2.py3-none-any.whl (18 kB)\n",
      "Requirement already satisfied: requests<3,>=2.21.0 in /miniconda3/lib/python3.7/site-packages (from tensorboard<3,>=2.3.0->tensorflow==2.3.1) (2.28.1)\n",
      "Collecting google-auth<3,>=1.6.3\n",
      "  Downloading google_auth-2.29.0-py2.py3-none-any.whl (189 kB)\n",
      "     ━━━━━━━━━━━━━━━━━━━━━━━━━━━━━━━━━━━━━━ 189.2/189.2 kB 30.0 MB/s eta 0:00:00\n",
      "Collecting tensorboard-plugin-wit>=1.6.0\n",
      "  Downloading tensorboard_plugin_wit-1.8.1-py3-none-any.whl (781 kB)\n",
      "     ━━━━━━━━━━━━━━━━━━━━━━━━━━━━━━━━━━━━━━ 781.3/781.3 kB 67.5 MB/s eta 0:00:00\n",
      "Collecting tensorboard-data-server<0.7.0,>=0.6.0\n",
      "  Downloading tensorboard_data_server-0.6.1-py3-none-manylinux2010_x86_64.whl (4.9 MB)\n",
      "  Downloading tensorboard-2.11.2-py3-none-any.whl (6.0 MB)\n",
      "     ━━━━━━━━━━━━━━━━━━━━━━━━━━━━━━━━━━━━━━━━ 6.0/6.0 MB 91.2 MB/s eta 0:00:00\n",
      "Collecting tensorboard-data-server<0.7.0,>=0.6.0\n",
      "  Downloading tensorboard_data_server-0.6.1-py3-none-manylinux2010_x86_64.whl (4.9 MB)\n",
      "     ━━━━━━━━━━━━━━━━━━━━━━━━━━━━━━━━━━━━━━━━ 4.9/4.9 MB 104.2 MB/s eta 0:00:00\n",
      "Collecting markdown>=2.6.8\n",
      "  Downloading Markdown-3.4.4-py3-none-any.whl (94 kB)\n",
      "     ━━━━━━━━━━━━━━━━━━━━━━━━━━━━━━━━━━━━━━━━ 94.2/94.2 kB 20.3 MB/s eta 0:00:00\n",
      "Requirement already satisfied: setuptools>=41.0.0 in /miniconda3/lib/python3.7/site-packages (from tensorboard<3,>=2.3.0->tensorflow==2.3.1) (65.6.3)\n",
      "Collecting tensorboard-plugin-wit>=1.6.0\n",
      "  Downloading tensorboard_plugin_wit-1.8.1-py3-none-any.whl (781 kB)\n",
      "     ━━━━━━━━━━━━━━━━━━━━━━━━━━━━━━━━━━━━━━ 781.3/781.3 kB 69.9 MB/s eta 0:00:00\n",
      "Collecting google-auth-oauthlib<0.5,>=0.4.1\n",
      "  Downloading google_auth_oauthlib-0.4.6-py2.py3-none-any.whl (18 kB)\n",
      "Collecting werkzeug>=1.0.1\n",
      "  Downloading Werkzeug-2.2.3-py3-none-any.whl (233 kB)\n",
      "     ━━━━━━━━━━━━━━━━━━━━━━━━━━━━━━━━━━━━━━ 233.6/233.6 kB 39.9 MB/s eta 0:00:00\n",
      "Requirement already satisfied: requests<3,>=2.21.0 in /miniconda3/lib/python3.7/site-packages (from tensorboard<3,>=2.3.0->tensorflow==2.3.1) (2.28.1)\n",
      "Collecting google-auth<3,>=1.6.3\n",
      "  Downloading google_auth-2.29.0-py2.py3-none-any.whl (189 kB)\n",
      "     ━━━━━━━━━━━━━━━━━━━━━━━━━━━━━━━━━━━━━━ 189.2/189.2 kB 34.1 MB/s eta 0:00:00\n",
      "Collecting pyasn1-modules>=0.2.1\n",
      "  Downloading pyasn1_modules-0.3.0-py2.py3-none-any.whl (181 kB)\n",
      "     ━━━━━━━━━━━━━━━━━━━━━━━━━━━━━━━━━━━━━━ 181.3/181.3 kB 35.3 MB/s eta 0:00:00\n",
      "Collecting cachetools<6.0,>=2.0.0\n",
      "  Downloading cachetools-5.3.3-py3-none-any.whl (9.3 kB)\n",
      "Collecting rsa<5,>=3.1.4\n",
      "  Downloading rsa-4.9-py3-none-any.whl (34 kB)\n",
      "Collecting requests-oauthlib>=0.7.0\n",
      "  Downloading requests_oauthlib-2.0.0-py2.py3-none-any.whl (24 kB)\n",
      "Requirement already satisfied: importlib-metadata>=4.4 in /miniconda3/lib/python3.7/site-packages (from markdown>=2.6.8->tensorboard<3,>=2.3.0->tensorflow==2.3.1) (6.0.0)\n",
      "Requirement already satisfied: certifi>=2017.4.17 in /miniconda3/lib/python3.7/site-packages (from requests<3,>=2.21.0->tensorboard<3,>=2.3.0->tensorflow==2.3.1) (2022.12.7)\n",
      "Requirement already satisfied: charset-normalizer<3,>=2 in /miniconda3/lib/python3.7/site-packages (from requests<3,>=2.21.0->tensorboard<3,>=2.3.0->tensorflow==2.3.1) (2.0.4)\n",
      "Requirement already satisfied: urllib3<1.27,>=1.21.1 in /miniconda3/lib/python3.7/site-packages (from requests<3,>=2.21.0->tensorboard<3,>=2.3.0->tensorflow==2.3.1) (1.26.14)\n",
      "Requirement already satisfied: idna<4,>=2.5 in /miniconda3/lib/python3.7/site-packages (from requests<3,>=2.21.0->tensorboard<3,>=2.3.0->tensorflow==2.3.1) (3.4)\n",
      "Requirement already satisfied: MarkupSafe>=2.1.1 in /miniconda3/lib/python3.7/site-packages (from werkzeug>=1.0.1->tensorboard<3,>=2.3.0->tensorflow==2.3.1) (2.1.1)\n",
      "Requirement already satisfied: typing-extensions>=3.6.4 in /miniconda3/lib/python3.7/site-packages (from importlib-metadata>=4.4->markdown>=2.6.8->tensorboard<3,>=2.3.0->tensorflow==2.3.1) (4.4.0)\n",
      "Requirement already satisfied: zipp>=0.5 in /miniconda3/lib/python3.7/site-packages (from importlib-metadata>=4.4->markdown>=2.6.8->tensorboard<3,>=2.3.0->tensorflow==2.3.1) (3.13.0)\n",
      "Collecting pyasn1<0.6.0,>=0.4.6\n",
      "  Downloading pyasn1-0.5.1-py2.py3-none-any.whl (84 kB)\n",
      "     ━━━━━━━━━━━━━━━━━━━━━━━━━━━━━━━━━━━━━━━━ 84.9/84.9 kB 19.0 MB/s eta 0:00:00\n",
      "Collecting oauthlib>=3.0.0\n",
      "  Downloading oauthlib-3.2.2-py3-none-any.whl (151 kB)\n",
      "     ━━━━━━━━━━━━━━━━━━━━━━━━━━━━━━━━━━━━━━━━ 4.9/4.9 MB 99.5 MB/s eta 0:00:00\n",
      "Collecting werkzeug>=1.0.1\n",
      "  Downloading Werkzeug-2.2.3-py3-none-any.whl (233 kB)\n",
      "     ━━━━━━━━━━━━━━━━━━━━━━━━━━━━━━━━━━━━━━ 233.6/233.6 kB 35.6 MB/s eta 0:00:00\n",
      "Requirement already satisfied: setuptools>=41.0.0 in /miniconda3/lib/python3.7/site-packages (from tensorboard<3,>=2.3.0->tensorflow==2.3.1) (65.6.3)\n",
      "Collecting markdown>=2.6.8\n",
      "  Downloading Markdown-3.4.4-py3-none-any.whl (94 kB)\n",
      "     ━━━━━━━━━━━━━━━━━━━━━━━━━━━━━━━━━━━━━━━━ 94.2/94.2 kB 20.7 MB/s eta 0:00:00\n",
      "Collecting pyasn1-modules>=0.2.1\n",
      "  Downloading pyasn1_modules-0.3.0-py2.py3-none-any.whl (181 kB)\n",
      "     ━━━━━━━━━━━━━━━━━━━━━━━━━━━━━━━━━━━━━━ 181.3/181.3 kB 32.7 MB/s eta 0:00:00\n",
      "Collecting rsa<5,>=3.1.4\n",
      "  Downloading rsa-4.9-py3-none-any.whl (34 kB)\n",
      "Collecting cachetools<6.0,>=2.0.0\n",
      "  Downloading cachetools-5.3.3-py3-none-any.whl (9.3 kB)\n",
      "Collecting requests-oauthlib>=0.7.0\n",
      "  Downloading requests_oauthlib-2.0.0-py2.py3-none-any.whl (24 kB)\n",
      "Requirement already satisfied: importlib-metadata>=4.4 in /miniconda3/lib/python3.7/site-packages (from markdown>=2.6.8->tensorboard<3,>=2.3.0->tensorflow==2.3.1) (6.0.0)\n",
      "Requirement already satisfied: idna<4,>=2.5 in /miniconda3/lib/python3.7/site-packages (from requests<3,>=2.21.0->tensorboard<3,>=2.3.0->tensorflow==2.3.1) (3.4)\n",
      "Requirement already satisfied: charset-normalizer<3,>=2 in /miniconda3/lib/python3.7/site-packages (from requests<3,>=2.21.0->tensorboard<3,>=2.3.0->tensorflow==2.3.1) (2.0.4)\n",
      "Requirement already satisfied: certifi>=2017.4.17 in /miniconda3/lib/python3.7/site-packages (from requests<3,>=2.21.0->tensorboard<3,>=2.3.0->tensorflow==2.3.1) (2022.12.7)\n",
      "Requirement already satisfied: urllib3<1.27,>=1.21.1 in /miniconda3/lib/python3.7/site-packages (from requests<3,>=2.21.0->tensorboard<3,>=2.3.0->tensorflow==2.3.1) (1.26.14)\n",
      "Requirement already satisfied: MarkupSafe>=2.1.1 in /miniconda3/lib/python3.7/site-packages (from werkzeug>=1.0.1->tensorboard<3,>=2.3.0->tensorflow==2.3.1) (2.1.1)\n",
      "Requirement already satisfied: typing-extensions>=3.6.4 in /miniconda3/lib/python3.7/site-packages (from importlib-metadata>=4.4->markdown>=2.6.8->tensorboard<3,>=2.3.0->tensorflow==2.3.1) (4.4.0)\n",
      "Requirement already satisfied: zipp>=0.5 in /miniconda3/lib/python3.7/site-packages (from importlib-metadata>=4.4->markdown>=2.6.8->tensorboard<3,>=2.3.0->tensorflow==2.3.1) (3.13.0)\n",
      "Collecting pyasn1<0.6.0,>=0.4.6\n",
      "  Downloading pyasn1-0.5.1-py2.py3-none-any.whl (84 kB)\n",
      "     ━━━━━━━━━━━━━━━━━━━━━━━━━━━━━━━━━━━━━━━━ 84.9/84.9 kB 15.7 MB/s eta 0:00:00\n",
      "Collecting oauthlib>=3.0.0\n",
      "  Downloading oauthlib-3.2.2-py3-none-any.whl (151 kB)\n",
      "     ━━━━━━━━━━━━━━━━━━━━━━━━━━━━━━━━━━━━━━ 151.7/151.7 kB 28.9 MB/s eta 0:00:00\n",
      "     ━━━━━━━━━━━━━━━━━━━━━━━━━━━━━━━━━━━━━━ 151.7/151.7 kB 27.6 MB/s eta 0:00:00\n",
      "Installing collected packages: tensorflow-estimator, tensorboard-plugin-wit, wrapt, werkzeug, termcolor, tensorboard-data-server, pyasn1, oauthlib, numpy, grpcio, google-pasta, gast, cachetools, astunparse, absl-py, rsa, requests-oauthlib, pyasn1-modules, opt-einsum, markdown, keras-preprocessing, h5py, google-auth, google-auth-oauthlib, tensorboard, tensorflow\n",
      "  Attempting uninstall: werkzeug\n",
      "    Found existing installation: Werkzeug 0.15.6\n",
      "    Uninstalling Werkzeug-0.15.6:\n",
      "      Successfully uninstalled Werkzeug-0.15.6\n",
      "Installing collected packages: tensorflow-estimator, tensorboard-plugin-wit, wrapt, werkzeug, termcolor, tensorboard-data-server, pyasn1, oauthlib, numpy, grpcio, google-pasta, gast, cachetools, astunparse, absl-py, rsa, requests-oauthlib, pyasn1-modules, opt-einsum, markdown, keras-preprocessing, h5py, google-auth, google-auth-oauthlib, tensorboard, tensorflow\n",
      "  Attempting uninstall: werkzeug\n",
      "    Found existing installation: Werkzeug 0.15.6\n",
      "    Uninstalling Werkzeug-0.15.6:\n",
      "      Successfully uninstalled Werkzeug-0.15.6\n",
      "  Attempting uninstall: numpy\n",
      "    Found existing installation: numpy 1.19.2\n",
      "    Uninstalling numpy-1.19.2:\n",
      "  Attempting uninstall: numpy\n",
      "    Found existing installation: numpy 1.19.2\n",
      "    Uninstalling numpy-1.19.2:\n",
      "      Successfully uninstalled numpy-1.19.2\n",
      "      Successfully uninstalled numpy-1.19.2\n",
      "ERROR: pip's dependency resolver does not currently take into account all the packages that are installed. This behaviour is the source of the following dependency conflicts.\n",
      "sagemaker-sklearn-container 2.0 requires numpy==1.19.2, but you have numpy 1.18.5 which is incompatible.\n",
      "sagemaker-sklearn-container 2.0 requires Werkzeug==0.15.6, but you have werkzeug 2.2.3 which is incompatible.\n",
      "Successfully installed absl-py-2.1.0 astunparse-1.6.3 cachetools-5.3.3 gast-0.3.3 google-auth-2.29.0 google-auth-oauthlib-0.4.6 google-pasta-0.2.0 grpcio-1.62.2 h5py-2.10.0 keras-preprocessing-1.1.2 markdown-3.4.4 numpy-1.19.2 oauthlib-3.2.2 opt-einsum-3.3.0 pyasn1-0.5.1 pyasn1-modules-0.3.0 requests-oauthlib-2.0.0 rsa-4.9 tensorboard-2.11.2 tensorboard-data-server-0.6.1 tensorboard-plugin-wit-1.8.1 tensorflow-2.3.1 tensorflow-estimator-2.3.0 termcolor-2.3.0 werkzeug-2.2.3 wrapt-1.16.0\n",
      "WARNING: Running pip as the 'root' user can result in broken permissions and conflicting behaviour with the system package manager. It is recommended to use a virtual environment instead: https://pip.pypa.io/warnings/venv\n",
      "[notice] A new release of pip is available: 23.0 -> 24.0\n",
      "[notice] To update, run: pip install --upgrade pip\n",
      "ERROR: pip's dependency resolver does not currently take into account all the packages that are installed. This behaviour is the source of the following dependency conflicts.\n",
      "sagemaker-sklearn-container 2.0 requires numpy==1.19.2, but you have numpy 1.18.5 which is incompatible.\n",
      "sagemaker-sklearn-container 2.0 requires Werkzeug==0.15.6, but you have werkzeug 2.2.3 which is incompatible.\n",
      "Successfully installed absl-py-2.1.0 astunparse-1.6.3 cachetools-5.3.3 gast-0.3.3 google-auth-2.29.0 google-auth-oauthlib-0.4.6 google-pasta-0.2.0 grpcio-1.62.2 h5py-2.10.0 keras-preprocessing-1.1.2 markdown-3.4.4 numpy-1.19.2 oauthlib-3.2.2 opt-einsum-3.3.0 pyasn1-0.5.1 pyasn1-modules-0.3.0 requests-oauthlib-2.0.0 rsa-4.9 tensorboard-2.11.2 tensorboard-data-server-0.6.1 tensorboard-plugin-wit-1.8.1 tensorflow-2.3.1 tensorflow-estimator-2.3.0 termcolor-2.3.0 werkzeug-2.2.3 wrapt-1.16.0\n",
      "WARNING: Running pip as the 'root' user can result in broken permissions and conflicting behaviour with the system package manager. It is recommended to use a virtual environment instead: https://pip.pypa.io/warnings/venv\n",
      "2024-04-20 05:22:56.839198: W tensorflow/stream_executor/platform/default/dso_loader.cc:59] Could not load dynamic library 'libcudart.so.10.1'; dlerror: libcudart.so.10.1: cannot open shared object file: No such file or directory\n",
      "2024-04-20 05:22:56.839539: I tensorflow/stream_executor/cuda/cudart_stub.cc:29] Ignore above cudart dlerror if you do not have a GPU set up on your machine.\n",
      "[notice] A new release of pip is available: 23.0 -> 24.0\n",
      "[notice] To update, run: pip install --upgrade pip\n",
      "2024-04-20 05:22:57.723135: W tensorflow/stream_executor/platform/default/dso_loader.cc:59] Could not load dynamic library 'libcudart.so.10.1'; dlerror: libcudart.so.10.1: cannot open shared object file: No such file or directory\n",
      "2024-04-20 05:22:57.723496: I tensorflow/stream_executor/cuda/cudart_stub.cc:29] Ignore above cudart dlerror if you do not have a GPU set up on your machine.\n",
      "WARNING conda.models.version:get_matcher(541): Using .* with relational operator is superfluous and deprecated and will be removed in a future version of conda. Your spec was 1.7.1.*, but conda is ignoring the .* and treating it as 1.7.1\n",
      "WARNING conda.models.version:get_matcher(541): Using .* with relational operator is superfluous and deprecated and will be removed in a future version of conda. Your spec was 1.7.1.*, but conda is ignoring the .* and treating it as 1.7.1\n",
      "Collecting package metadata (current_repodata.json): ...working... done\n",
      "Solving environment: ...working... failed with initial frozen solve. Retrying with flexible solve.\n",
      "Collecting package metadata (current_repodata.json): ...working... done\n",
      "Solving environment: ...working... failed with initial frozen solve. Retrying with flexible solve.\n",
      "WARNING conda.models.version:get_matcher(541): Using .* with relational operator is superfluous and deprecated and will be removed in a future version of conda. Your spec was 1.9.0.*, but conda is ignoring the .* and treating it as 1.9.0\n",
      "WARNING conda.models.version:get_matcher(541): Using .* with relational operator is superfluous and deprecated and will be removed in a future version of conda. Your spec was 1.6.0.*, but conda is ignoring the .* and treating it as 1.6.0\n",
      "WARNING conda.models.version:get_matcher(541): Using .* with relational operator is superfluous and deprecated and will be removed in a future version of conda. Your spec was 1.8.0.*, but conda is ignoring the .* and treating it as 1.8.0\n",
      "WARNING conda.models.version:get_matcher(541): Using .* with relational operator is superfluous and deprecated and will be removed in a future version of conda. Your spec was 1.6.0.*, but conda is ignoring the .* and treating it as 1.6.0\n",
      "WARNING conda.models.version:get_matcher(541): Using .* with relational operator is superfluous and deprecated and will be removed in a future version of conda. Your spec was 1.9.0.*, but conda is ignoring the .* and treating it as 1.9.0\n",
      "WARNING conda.models.version:get_matcher(541): Using .* with relational operator is superfluous and deprecated and will be removed in a future version of conda. Your spec was 1.8.0.*, but conda is ignoring the .* and treating it as 1.8.0\n",
      "Collecting package metadata (repodata.json): ...working... done\n",
      "Collecting package metadata (repodata.json): ...working... done\n",
      "Solving environment: ...working... done\n",
      "==> WARNING: A newer version of conda exists. <==\n",
      "  current version: 4.13.0\n",
      "  latest version: 24.3.0\n",
      "Please update conda by running\n",
      "    $ conda update -n base -c defaults conda\n",
      "## Package Plan ##\n",
      "  environment location: /miniconda3\n",
      "  added / updated specs:\n",
      "    - transformers==3.5.1\n",
      "The following packages will be downloaded:\n",
      "    package                    |            build\n",
      "    ---------------------------|-----------------\n",
      "    ca-certificates-2024.2.2   |       hbcca054_0         152 KB  conda-forge\n",
      "    certifi-2024.2.2           |     pyhd8ed1ab_0         157 KB  conda-forge\n",
      "    click-8.0.0                |   py37h89c1867_0         144 KB  conda-forge\n",
      "    colorama-0.4.6             |     pyhd8ed1ab_0          25 KB  conda-forge\n",
      "    filelock-3.13.4            |     pyhd8ed1ab_0          15 KB  conda-forge\n",
      "    joblib-1.3.2               |     pyhd8ed1ab_0         216 KB  conda-forge\n",
      "    packaging-23.2             |     pyhd8ed1ab_0          48 KB  conda-forge\n",
      "    protobuf-3.12.4            |   py37h3340039_0         707 KB  conda-forge\n",
      "    regex-2022.4.24            |   py37h540881e_0         384 KB  conda-forge\n",
      "    sacremoses-0.0.53          |     pyhd8ed1ab_0         427 KB  conda-forge\n",
      "    sentencepiece-0.1.96       |   py37h7cecad7_1         8.2 MB  conda-forge\n",
      "    tokenizers-0.9.4           |   py37h17e0dd7_1         2.6 MB  conda-forge\n",
      "    tqdm-4.66.2                |     pyhd8ed1ab_0          87 KB  conda-forge\n",
      "    transformers-3.5.1         |     pyhd8ed1ab_0         685 KB  conda-forge\n",
      "    ------------------------------------------------------------\n",
      "                                           Total:        13.8 MB\n",
      "The following NEW packages will be INSTALLED:\n",
      "  click              conda-forge/linux-64::click-8.0.0-py37h89c1867_0\n",
      "  colorama           conda-forge/noarch::colorama-0.4.6-pyhd8ed1ab_0\n",
      "  filelock           conda-forge/noarch::filelock-3.13.4-pyhd8ed1ab_0\n",
      "  joblib             conda-forge/noarch::joblib-1.3.2-pyhd8ed1ab_0\n",
      "  packaging          conda-forge/noarch::packaging-23.2-pyhd8ed1ab_0\n",
      "  protobuf           conda-forge/linux-64::protobuf-3.12.4-py37h3340039_0\n",
      "  regex              conda-forge/linux-64::regex-2022.4.24-py37h540881e_0\n",
      "  sacremoses         conda-forge/noarch::sacremoses-0.0.53-pyhd8ed1ab_0\n",
      "  sentencepiece      conda-forge/linux-64::sentencepiece-0.1.96-py37h7cecad7_1\n",
      "  tokenizers         conda-forge/linux-64::tokenizers-0.9.4-py37h17e0dd7_1\n",
      "  tqdm               conda-forge/noarch::tqdm-4.66.2-pyhd8ed1ab_0\n",
      "  transformers       conda-forge/noarch::transformers-3.5.1-pyhd8ed1ab_0\n",
      "The following packages will be UPDATED:\n",
      "  ca-certificates    pkgs/main::ca-certificates-2023.01.10~ --> conda-forge::ca-certificates-2024.2.2-hbcca054_0\n",
      "  certifi            pkgs/main/linux-64::certifi-2022.12.7~ --> conda-forge/noarch::certifi-2024.2.2-pyhd8ed1ab_0\n",
      "The following packages will be SUPERSEDED by a higher-priority channel:\n",
      "  openssl              pkgs/main::openssl-1.1.1t-h7f8727e_0 --> conda-forge::openssl-1.1.1o-h166bdaf_0\n",
      "Downloading and Extracting Packages\n",
      "#015click-8.0.0          | 144 KB    |            |   0% #015click-8.0.0          | 144 KB    | ########## | 100% #015click-8.0.0          | 144 KB    | ########## | 100% \n",
      "#015ca-certificates-2024 | 152 KB    |            |   0% #015ca-certificates-2024 | 152 KB    | ########## | 100% \n",
      "#015packaging-23.2       | 48 KB     |            |   0% #015packaging-23.2       | 48 KB     | ########## | 100% \n",
      "#015sentencepiece-0.1.96 | 8.2 MB    |            |   0% #015sentencepiece-0.1.96 | 8.2 MB    | ########9  |  90% #015sentencepiece-0.1.96 | 8.2 MB    | ########## | 100% \n",
      "#015tokenizers-0.9.4     | 2.6 MB    |            |   0% #015tokenizers-0.9.4     | 2.6 MB    | ########## | 100% #015tokenizers-0.9.4     | 2.6 MB    | ########## | 100% \n",
      "#015certifi-2024.2.2     | 157 KB    |            |   0% #015certifi-2024.2.2     | 157 KB    | ########## | 100% \n",
      "#015regex-2022.4.24      | 384 KB    |            |   0% #015regex-2022.4.24      | 384 KB    | ########## | 100% \n",
      "#015sacremoses-0.0.53    | 427 KB    |            |   0% #015sacremoses-0.0.53    | 427 KB    | ########## | 100% #015sacremoses-0.0.53    | 427 KB    | ########## | 100% \n",
      "#015filelock-3.13.4      | 15 KB     |            |   0% #015filelock-3.13.4      | 15 KB     | ########## | 100% \n",
      "#015tqdm-4.66.2          | 87 KB     |            |   0% #015tqdm-4.66.2          | 87 KB     | ########## | 100% \n",
      "#015colorama-0.4.6       | 25 KB     |            |   0% #015colorama-0.4.6       | 25 KB     | ########## | 100% \n",
      "#015joblib-1.3.2         | 216 KB    |            |   0% #015joblib-1.3.2         | 216 KB    | ########## | 100% \n",
      "#015protobuf-3.12.4      | 707 KB    |            |   0% #015protobuf-3.12.4      | 707 KB    | ########## | 100% #015protobuf-3.12.4      | 707 KB    | ########## | 100% \n",
      "#015transformers-3.5.1   | 685 KB    |            |   0% #015transformers-3.5.1   | 685 KB    | ########## | 100% #015transformers-3.5.1   | 685 KB    | ########## | 100% \n",
      "Preparing transaction: ...working... done\n",
      "Verifying transaction: ...working... done\n",
      "Executing transaction: ...working... done\n",
      "Solving environment: ...working... done\n",
      "==> WARNING: A newer version of conda exists. <==\n",
      "  current version: 4.13.0\n",
      "  latest version: 24.3.0\n",
      "Please update conda by running\n",
      "    $ conda update -n base -c defaults conda\n",
      "## Package Plan ##\n",
      "  environment location: /miniconda3\n",
      "  added / updated specs:\n",
      "    - transformers==3.5.1\n",
      "The following packages will be downloaded:\n",
      "    package                    |            build\n",
      "    ---------------------------|-----------------\n",
      "    ca-certificates-2024.2.2   |       hbcca054_0         152 KB  conda-forge\n",
      "    certifi-2024.2.2           |     pyhd8ed1ab_0         157 KB  conda-forge\n",
      "    click-8.0.0                |   py37h89c1867_0         144 KB  conda-forge\n",
      "    colorama-0.4.6             |     pyhd8ed1ab_0          25 KB  conda-forge\n",
      "    filelock-3.13.4            |     pyhd8ed1ab_0          15 KB  conda-forge\n",
      "    joblib-1.3.2               |     pyhd8ed1ab_0         216 KB  conda-forge\n",
      "    packaging-23.2             |     pyhd8ed1ab_0          48 KB  conda-forge\n",
      "    protobuf-3.12.4            |   py37h3340039_0         707 KB  conda-forge\n",
      "    regex-2022.4.24            |   py37h540881e_0         384 KB  conda-forge\n",
      "    sacremoses-0.0.53          |     pyhd8ed1ab_0         427 KB  conda-forge\n",
      "    sentencepiece-0.1.96       |   py37h7cecad7_1         8.2 MB  conda-forge\n",
      "    tokenizers-0.9.4           |   py37h17e0dd7_1         2.6 MB  conda-forge\n",
      "    tqdm-4.66.2                |     pyhd8ed1ab_0          87 KB  conda-forge\n",
      "    transformers-3.5.1         |     pyhd8ed1ab_0         685 KB  conda-forge\n",
      "    ------------------------------------------------------------\n",
      "                                           Total:        13.8 MB\n",
      "The following NEW packages will be INSTALLED:\n",
      "  click              conda-forge/linux-64::click-8.0.0-py37h89c1867_0\n",
      "  colorama           conda-forge/noarch::colorama-0.4.6-pyhd8ed1ab_0\n",
      "  filelock           conda-forge/noarch::filelock-3.13.4-pyhd8ed1ab_0\n",
      "  joblib             conda-forge/noarch::joblib-1.3.2-pyhd8ed1ab_0\n",
      "  packaging          conda-forge/noarch::packaging-23.2-pyhd8ed1ab_0\n",
      "  protobuf           conda-forge/linux-64::protobuf-3.12.4-py37h3340039_0\n",
      "  regex              conda-forge/linux-64::regex-2022.4.24-py37h540881e_0\n",
      "  sacremoses         conda-forge/noarch::sacremoses-0.0.53-pyhd8ed1ab_0\n",
      "  sentencepiece      conda-forge/linux-64::sentencepiece-0.1.96-py37h7cecad7_1\n",
      "  tokenizers         conda-forge/linux-64::tokenizers-0.9.4-py37h17e0dd7_1\n",
      "  tqdm               conda-forge/noarch::tqdm-4.66.2-pyhd8ed1ab_0\n",
      "  transformers       conda-forge/noarch::transformers-3.5.1-pyhd8ed1ab_0\n",
      "The following packages will be UPDATED:\n",
      "  ca-certificates    pkgs/main::ca-certificates-2023.01.10~ --> conda-forge::ca-certificates-2024.2.2-hbcca054_0\n",
      "  certifi            pkgs/main/linux-64::certifi-2022.12.7~ --> conda-forge/noarch::certifi-2024.2.2-pyhd8ed1ab_0\n",
      "The following packages will be SUPERSEDED by a higher-priority channel:\n",
      "  openssl              pkgs/main::openssl-1.1.1t-h7f8727e_0 --> conda-forge::openssl-1.1.1o-h166bdaf_0\n",
      "Downloading and Extracting Packages\n",
      "#015colorama-0.4.6       | 25 KB     |            |   0% #015colorama-0.4.6       | 25 KB     | ########## | 100% \n",
      "#015transformers-3.5.1   | 685 KB    |            |   0% #015transformers-3.5.1   | 685 KB    | ########## | 100% #015transformers-3.5.1   | 685 KB    | ########## | 100% \n",
      "#015tokenizers-0.9.4     | 2.6 MB    |            |   0% #015tokenizers-0.9.4     | 2.6 MB    | ########## | 100% #015tokenizers-0.9.4     | 2.6 MB    | ########## | 100% \n",
      "#015packaging-23.2       | 48 KB     |            |   0% #015packaging-23.2       | 48 KB     | ########## | 100% \n",
      "#015filelock-3.13.4      | 15 KB     |            |   0% #015filelock-3.13.4      | 15 KB     | ########## | 100% \n",
      "#015tqdm-4.66.2          | 87 KB     |            |   0% #015tqdm-4.66.2          | 87 KB     | ########## | 100% \n",
      "#015protobuf-3.12.4      | 707 KB    |            |   0% #015protobuf-3.12.4      | 707 KB    | ########## | 100% #015protobuf-3.12.4      | 707 KB    | ########## | 100% \n",
      "#015certifi-2024.2.2     | 157 KB    |            |   0% #015certifi-2024.2.2     | 157 KB    | ########## | 100% \n",
      "#015click-8.0.0          | 144 KB    |            |   0% #015click-8.0.0          | 144 KB    | ########## | 100% \n",
      "#015regex-2022.4.24      | 384 KB    |            |   0% #015regex-2022.4.24      | 384 KB    | ########## | 100% #015regex-2022.4.24      | 384 KB    | ########## | 100% \n",
      "#015sentencepiece-0.1.96 | 8.2 MB    |            |   0% #015sentencepiece-0.1.96 | 8.2 MB    | ########## | 100% #015sentencepiece-0.1.96 | 8.2 MB    | ########## | 100% \n",
      "#015joblib-1.3.2         | 216 KB    |            |   0% #015joblib-1.3.2         | 216 KB    | ########## | 100% \n",
      "#015ca-certificates-2024 | 152 KB    |            |   0% #015ca-certificates-2024 | 152 KB    | ########## | 100% \n",
      "#015sacremoses-0.0.53    | 427 KB    |            |   0% #015sacremoses-0.0.53    | 427 KB    | ########## | 100% #015sacremoses-0.0.53    | 427 KB    | ########## | 100% \n",
      "Preparing transaction: ...working... done\n",
      "Verifying transaction: ...working... done\n",
      "#015Downloading:   0%|          | 0.00/232k [00:00<?, ?B/s]#015Downloading: 100%|██████████| 232k/232k [00:00<00:00, 52.8MB/s]\n",
      "Loaded arguments:\n",
      "Namespace(balance_dataset=True, current_host='algo-2', feature_group_name='reviews-feature-group-1713590256', feature_store_offline_prefix='reviews-feature-store-1713590256', hosts=['algo-1', 'algo-2'], input_data='/opt/ml/processing/input/data', max_seq_length=183, output_data='/opt/ml/processing/output', test_split_percentage=0.25, train_split_percentage=0.5, validation_split_percentage=0.25)\n",
      "Environment variables:\n",
      "environ({'PATH': '/miniconda3/bin:/usr/local/sbin:/usr/local/bin:/usr/sbin:/usr/bin:/sbin:/bin', 'HOSTNAME': 'ip-10-2-215-217.ec2.internal', 'AWS_REGION': 'us-east-1', 'AWS_CONTAINER_CREDENTIALS_RELATIVE_URI': '/v2/credentials/wDx8ttJMdcKD3gpYLeIq6xA5UCeY0APKMPD7kvSLbFg', 'PYTHONDONTWRITEBYTECODE': '1', 'PYTHONUNBUFFERED': '1', 'PYTHONIOENCODING': 'UTF-8', 'LANG': 'C.UTF-8', 'LC_ALL': 'C.UTF-8', 'SAGEMAKER_SKLEARN_VERSION': '0.23-1', 'SAGEMAKER_TRAINING_MODULE': 'sagemaker_sklearn_container.training:main', 'SAGEMAKER_SERVING_MODULE': 'sagemaker_sklearn_container.serving:main', 'SKLEARN_MMS_CONFIG': '/home/model-server/config.properties', 'SM_INPUT': '/opt/ml/input', 'SM_INPUT_TRAINING_CONFIG_FILE': '/opt/ml/input/config/hyperparameters.json', 'SM_INPUT_DATA_CONFIG_FILE': '/opt/ml/input/config/inputdataconfig.json', 'SM_CHECKPOINT_CONFIG_FILE': '/opt/ml/input/config/checkpointconfig.json', 'SM_MODEL_DIR': '/opt/ml/model', 'TEMP': '/home/model-server/tmp', 'HOME': '/root', 'KMP_DUPLICATE_LIB_OK': 'True', 'KMP_INIT_AT_FORK': 'FALSE', 'TF2_BEHAVIOR': '1'})\n",
      "Current host: algo-2\n",
      "num_cpus 2\n",
      "Listing contents of /opt/ml/processing/output\n",
      "bert\n",
      "Listing contents of /opt/ml/processing/output/bert/train\n",
      "Listing contents of /opt/ml/processing/output/bert/validation\n",
      "Listing contents of /opt/ml/processing/output/bert/test\n",
      "Complete\n",
      "Executing transaction: ...working... done\n",
      "#015Downloading:   0%|          | 0.00/232k [00:00<?, ?B/s]#015Downloading: 100%|██████████| 232k/232k [00:00<00:00, 51.1MB/s]\n",
      "Loaded arguments:\n",
      "Namespace(balance_dataset=True, current_host='algo-1', feature_group_name='reviews-feature-group-1713590256', feature_store_offline_prefix='reviews-feature-store-1713590256', hosts=['algo-1', 'algo-2'], input_data='/opt/ml/processing/input/data', max_seq_length=183, output_data='/opt/ml/processing/output', test_split_percentage=0.25, train_split_percentage=0.5, validation_split_percentage=0.25)\n",
      "Environment variables:\n",
      "environ({'PATH': '/miniconda3/bin:/usr/local/sbin:/usr/local/bin:/usr/sbin:/usr/bin:/sbin:/bin', 'HOSTNAME': 'ip-10-2-217-126.ec2.internal', 'AWS_REGION': 'us-east-1', 'AWS_CONTAINER_CREDENTIALS_RELATIVE_URI': '/v2/credentials/wDx8ttJMdcKD3gpYLeIq6xA5UCeY0APKMPD7kvSLbFg', 'PYTHONDONTWRITEBYTECODE': '1', 'PYTHONUNBUFFERED': '1', 'PYTHONIOENCODING': 'UTF-8', 'LANG': 'C.UTF-8', 'LC_ALL': 'C.UTF-8', 'SAGEMAKER_SKLEARN_VERSION': '0.23-1', 'SAGEMAKER_TRAINING_MODULE': 'sagemaker_sklearn_container.training:main', 'SAGEMAKER_SERVING_MODULE': 'sagemaker_sklearn_container.serving:main', 'SKLEARN_MMS_CONFIG': '/home/model-server/config.properties', 'SM_INPUT': '/opt/ml/input', 'SM_INPUT_TRAINING_CONFIG_FILE': '/opt/ml/input/config/hyperparameters.json', 'SM_INPUT_DATA_CONFIG_FILE': '/opt/ml/input/config/inputdataconfig.json', 'SM_CHECKPOINT_CONFIG_FILE': '/opt/ml/input/config/checkpointconfig.json', 'SM_MODEL_DIR': '/opt/ml/model', 'TEMP': '/home/model-server/tmp', 'HOME': '/root', 'KMP_DUPLICATE_LIB_OK': 'True', 'KMP_INIT_AT_FORK': 'FALSE', 'TF2_BEHAVIOR': '1'})\n",
      "Current host: algo-1\n",
      "num_cpus 2\n",
      "file /opt/ml/processing/input/data/ryanair_reviews.csv\n",
      "max_seq_length 183\n",
      "balance_dataset True\n",
      "prefix reviews-feature-store-1713590256\n",
      "feature_group_name reviews-feature-group-1713590256\n",
      "Shape of dataframe (2249, 21)\n",
      "Shape of balanced dataframe (1744, 21)\n",
      "0     no\n",
      "1     no\n",
      "2     no\n",
      "3     no\n",
      "4     no\n",
      "      ..\n",
      "95    no\n",
      "96    no\n",
      "97    no\n",
      "98    no\n",
      "99    no\n",
      "Name: Recommended, Length: 100, dtype: object\n",
      "Shape of dataframe before splitting (1744, 21)\n",
      "train split percentage 0.5\n",
      "validation split percentage 0.25\n",
      "test split percentage 0.25\n",
      "holdout percentage 0.5\n",
      "test holdout percentage 0.5\n",
      "Shape of train dataframe (872, 21)\n",
      "Shape of validation dataframe (436, 21)\n",
      "Shape of test dataframe (436, 21)\n",
      "2024-04-20T05:31:09Z\n",
      "Writing input 0 of 872\n",
      "Writing input 0 of 436\n",
      "Writing input 0 of 436\n",
      "Listing contents of /opt/ml/processing/output\n",
      "bert\n",
      "Listing contents of /opt/ml/processing/output/bert/train\n",
      "part-algo-1-ryanair_reviews.tfrecord\n",
      "Listing contents of /opt/ml/processing/output/bert/validation\n",
      "part-algo-1-ryanair_reviews.tfrecord\n",
      "Listing contents of /opt/ml/processing/output/bert/test\n",
      "part-algo-1-ryanair_reviews.tfrecord\n",
      "Complete\n",
      "\n"
     ]
    }
   ],
   "source": [
    "running_processor.wait(logs=True)"
   ]
  },
  {
   "cell_type": "code",
   "execution_count": 25,
   "metadata": {},
   "outputs": [
    {
     "name": "stdout",
     "output_type": "stream",
     "text": [
      "s3://sagemaker-us-east-1-211125778552/sagemaker-scikit-learn-2024-04-20-05-17-50-785/output/bert-train\n",
      "s3://sagemaker-us-east-1-211125778552/sagemaker-scikit-learn-2024-04-20-05-17-50-785/output/bert-validation\n",
      "s3://sagemaker-us-east-1-211125778552/sagemaker-scikit-learn-2024-04-20-05-17-50-785/output/bert-test\n"
     ]
    }
   ],
   "source": [
    "processing_job_description = running_processor.describe()\n",
    "\n",
    "output_config = processing_job_description[\"ProcessingOutputConfig\"]\n",
    "for output in output_config[\"Outputs\"]:\n",
    "    if output[\"OutputName\"] == \"bert-train\":\n",
    "        processed_train_data_s3_uri = output[\"S3Output\"][\"S3Uri\"]\n",
    "    if output[\"OutputName\"] == \"bert-validation\":\n",
    "        processed_validation_data_s3_uri = output[\"S3Output\"][\"S3Uri\"]\n",
    "    if output[\"OutputName\"] == \"bert-test\":\n",
    "        processed_test_data_s3_uri = output[\"S3Output\"][\"S3Uri\"]\n",
    "\n",
    "print(processed_train_data_s3_uri)\n",
    "print(processed_validation_data_s3_uri)\n",
    "print(processed_test_data_s3_uri)"
   ]
  },
  {
   "cell_type": "code",
   "execution_count": 26,
   "metadata": {},
   "outputs": [
    {
     "name": "stdout",
     "output_type": "stream",
     "text": [
      "2024-04-20 05:31:23     687825 part-algo-1-ryanair_reviews.tfrecord\n"
     ]
    }
   ],
   "source": [
    "!aws s3 ls $processed_train_data_s3_uri/"
   ]
  },
  {
   "cell_type": "code",
   "execution_count": 27,
   "metadata": {},
   "outputs": [
    {
     "name": "stdout",
     "output_type": "stream",
     "text": [
      "2024-04-20 05:31:23     341891 part-algo-1-ryanair_reviews.tfrecord\n"
     ]
    }
   ],
   "source": [
    "!aws s3 ls $processed_validation_data_s3_uri/"
   ]
  },
  {
   "cell_type": "code",
   "execution_count": 28,
   "metadata": {},
   "outputs": [
    {
     "name": "stdout",
     "output_type": "stream",
     "text": [
      "2024-04-20 05:31:23     342767 part-algo-1-ryanair_reviews.tfrecord\n"
     ]
    }
   ],
   "source": [
    "!aws s3 ls $processed_test_data_s3_uri/"
   ]
  },
  {
   "cell_type": "code",
   "execution_count": 29,
   "metadata": {},
   "outputs": [
    {
     "data": {
      "text/html": [
       "<div>\n",
       "<style scoped>\n",
       "    .dataframe tbody tr th:only-of-type {\n",
       "        vertical-align: middle;\n",
       "    }\n",
       "\n",
       "    .dataframe tbody tr th {\n",
       "        vertical-align: top;\n",
       "    }\n",
       "\n",
       "    .dataframe thead th {\n",
       "        text-align: right;\n",
       "    }\n",
       "</style>\n",
       "<table border=\"1\" class=\"dataframe\">\n",
       "  <thead>\n",
       "    <tr style=\"text-align: right;\">\n",
       "      <th></th>\n",
       "      <th>TrialComponentName</th>\n",
       "      <th>DisplayName</th>\n",
       "      <th>SourceArn</th>\n",
       "      <th>SageMaker.InstanceCount</th>\n",
       "      <th>SageMaker.InstanceType</th>\n",
       "      <th>SageMaker.VolumeSizeInGB</th>\n",
       "      <th>SageMaker.ImageUri - MediaType</th>\n",
       "      <th>SageMaker.ImageUri - Value</th>\n",
       "      <th>code - MediaType</th>\n",
       "      <th>code - Value</th>\n",
       "      <th>raw-input-data - MediaType</th>\n",
       "      <th>raw-input-data - Value</th>\n",
       "      <th>bert-test - MediaType</th>\n",
       "      <th>bert-test - Value</th>\n",
       "      <th>bert-train - MediaType</th>\n",
       "      <th>bert-train - Value</th>\n",
       "      <th>bert-validation - MediaType</th>\n",
       "      <th>bert-validation - Value</th>\n",
       "      <th>Trials</th>\n",
       "      <th>Experiments</th>\n",
       "    </tr>\n",
       "  </thead>\n",
       "  <tbody>\n",
       "    <tr>\n",
       "      <th>0</th>\n",
       "      <td>sagemaker-scikit-learn-2024-04-20-05-17-50-785-aws-processing-job</td>\n",
       "      <td>prepare</td>\n",
       "      <td>arn:aws:sagemaker:us-east-1:211125778552:processing-job/sagemaker-scikit-learn-2024-04-20-05-17-50-785</td>\n",
       "      <td>2.0</td>\n",
       "      <td>ml.m5.large</td>\n",
       "      <td>30.0</td>\n",
       "      <td>None</td>\n",
       "      <td>683313688378.dkr.ecr.us-east-1.amazonaws.com/sagemaker-scikit-learn:0.23-1-cpu-py3</td>\n",
       "      <td>None</td>\n",
       "      <td>s3://sagemaker-us-east-1-211125778552/sagemaker-scikit-learn-2024-04-20-05-17-50-785/input/code/preprocess-scikit-text-to-bert-feature-store-rec.py</td>\n",
       "      <td>None</td>\n",
       "      <td>s3://sagemaker-team4-bucket/ryanair-data/</td>\n",
       "      <td>None</td>\n",
       "      <td>s3://sagemaker-us-east-1-211125778552/sagemaker-scikit-learn-2024-04-20-05-17-50-785/output/bert-test</td>\n",
       "      <td>None</td>\n",
       "      <td>s3://sagemaker-us-east-1-211125778552/sagemaker-scikit-learn-2024-04-20-05-17-50-785/output/bert-train</td>\n",
       "      <td>None</td>\n",
       "      <td>s3://sagemaker-us-east-1-211125778552/sagemaker-scikit-learn-2024-04-20-05-17-50-785/output/bert-validation</td>\n",
       "      <td>[trial-1713590250]</td>\n",
       "      <td>[Ryanair-Reviews-BERT-REC-Experiment-1713590248]</td>\n",
       "    </tr>\n",
       "  </tbody>\n",
       "</table>\n",
       "</div>"
      ],
      "text/plain": [
       "                                                  TrialComponentName  \\\n",
       "0  sagemaker-scikit-learn-2024-04-20-05-17-50-785-aws-processing-job   \n",
       "\n",
       "  DisplayName  \\\n",
       "0     prepare   \n",
       "\n",
       "                                                                                                SourceArn  \\\n",
       "0  arn:aws:sagemaker:us-east-1:211125778552:processing-job/sagemaker-scikit-learn-2024-04-20-05-17-50-785   \n",
       "\n",
       "   SageMaker.InstanceCount SageMaker.InstanceType  SageMaker.VolumeSizeInGB  \\\n",
       "0                      2.0            ml.m5.large                      30.0   \n",
       "\n",
       "  SageMaker.ImageUri - MediaType  \\\n",
       "0                           None   \n",
       "\n",
       "                                                           SageMaker.ImageUri - Value  \\\n",
       "0  683313688378.dkr.ecr.us-east-1.amazonaws.com/sagemaker-scikit-learn:0.23-1-cpu-py3   \n",
       "\n",
       "  code - MediaType  \\\n",
       "0             None   \n",
       "\n",
       "                                                                                                                                          code - Value  \\\n",
       "0  s3://sagemaker-us-east-1-211125778552/sagemaker-scikit-learn-2024-04-20-05-17-50-785/input/code/preprocess-scikit-text-to-bert-feature-store-rec.py   \n",
       "\n",
       "  raw-input-data - MediaType                     raw-input-data - Value  \\\n",
       "0                       None  s3://sagemaker-team4-bucket/ryanair-data/   \n",
       "\n",
       "  bert-test - MediaType  \\\n",
       "0                  None   \n",
       "\n",
       "                                                                                       bert-test - Value  \\\n",
       "0  s3://sagemaker-us-east-1-211125778552/sagemaker-scikit-learn-2024-04-20-05-17-50-785/output/bert-test   \n",
       "\n",
       "  bert-train - MediaType  \\\n",
       "0                   None   \n",
       "\n",
       "                                                                                       bert-train - Value  \\\n",
       "0  s3://sagemaker-us-east-1-211125778552/sagemaker-scikit-learn-2024-04-20-05-17-50-785/output/bert-train   \n",
       "\n",
       "  bert-validation - MediaType  \\\n",
       "0                        None   \n",
       "\n",
       "                                                                                       bert-validation - Value  \\\n",
       "0  s3://sagemaker-us-east-1-211125778552/sagemaker-scikit-learn-2024-04-20-05-17-50-785/output/bert-validation   \n",
       "\n",
       "               Trials                                       Experiments  \n",
       "0  [trial-1713590250]  [Ryanair-Reviews-BERT-REC-Experiment-1713590248]  "
      ]
     },
     "execution_count": 29,
     "metadata": {},
     "output_type": "execute_result"
    }
   ],
   "source": [
    "from sagemaker.analytics import ExperimentAnalytics\n",
    "\n",
    "import pandas as pd\n",
    "\n",
    "pd.set_option(\"max_colwidth\", 500)\n",
    "# pd.set_option(\"max_rows\", 100)\n",
    "\n",
    "experiment_analytics = ExperimentAnalytics(\n",
    "    sagemaker_session=sess, experiment_name=experiment_name, sort_by=\"CreationTime\", sort_order=\"Descending\"\n",
    ")\n",
    "\n",
    "experiment_analytics_df = experiment_analytics.dataframe()\n",
    "experiment_analytics_df"
   ]
  },
  {
   "cell_type": "code",
   "execution_count": 30,
   "metadata": {},
   "outputs": [
    {
     "name": "stdout",
     "output_type": "stream",
     "text": [
      "sagemaker-scikit-learn-2024-04-20-05-17-50-785-aws-processing-job\n"
     ]
    }
   ],
   "source": [
    "trial_component_name = experiment_analytics_df.TrialComponentName[0]\n",
    "print(trial_component_name)"
   ]
  },
  {
   "cell_type": "code",
   "execution_count": 31,
   "metadata": {},
   "outputs": [
    {
     "data": {
      "text/plain": [
       "{'TrialComponentName': 'sagemaker-scikit-learn-2024-04-20-05-17-50-785-aws-processing-job',\n",
       " 'TrialComponentArn': 'arn:aws:sagemaker:us-east-1:211125778552:experiment-trial-component/sagemaker-scikit-learn-2024-04-20-05-17-50-785-aws-processing-job',\n",
       " 'DisplayName': 'prepare',\n",
       " 'Source': {'SourceArn': 'arn:aws:sagemaker:us-east-1:211125778552:processing-job/sagemaker-scikit-learn-2024-04-20-05-17-50-785',\n",
       "  'SourceType': 'SageMakerProcessingJob'},\n",
       " 'Status': {'PrimaryStatus': 'Completed',\n",
       "  'Message': 'Status: Completed, exit message: null, failure reason: null'},\n",
       " 'StartTime': datetime.datetime(2024, 4, 20, 5, 22, 16, tzinfo=tzlocal()),\n",
       " 'EndTime': datetime.datetime(2024, 4, 20, 5, 31, 28, tzinfo=tzlocal()),\n",
       " 'CreationTime': datetime.datetime(2024, 4, 20, 5, 17, 51, 986000, tzinfo=tzlocal()),\n",
       " 'CreatedBy': {'UserProfileArn': 'arn:aws:sagemaker:us-east-1:211125778552:user-profile/d-k0wihxzgpgsi/default-user',\n",
       "  'UserProfileName': 'default-user',\n",
       "  'DomainId': 'd-k0wihxzgpgsi'},\n",
       " 'LastModifiedTime': datetime.datetime(2024, 4, 20, 5, 31, 29, 5000, tzinfo=tzlocal()),\n",
       " 'LastModifiedBy': {},\n",
       " 'Parameters': {'SageMaker.InstanceCount': {'NumberValue': 2.0},\n",
       "  'SageMaker.InstanceType': {'StringValue': 'ml.m5.large'},\n",
       "  'SageMaker.VolumeSizeInGB': {'NumberValue': 30.0}},\n",
       " 'InputArtifacts': {'SageMaker.ImageUri': {'Value': '683313688378.dkr.ecr.us-east-1.amazonaws.com/sagemaker-scikit-learn:0.23-1-cpu-py3'},\n",
       "  'code': {'Value': 's3://sagemaker-us-east-1-211125778552/sagemaker-scikit-learn-2024-04-20-05-17-50-785/input/code/preprocess-scikit-text-to-bert-feature-store-rec.py'},\n",
       "  'raw-input-data': {'Value': 's3://sagemaker-team4-bucket/ryanair-data/'}},\n",
       " 'OutputArtifacts': {'bert-test': {'Value': 's3://sagemaker-us-east-1-211125778552/sagemaker-scikit-learn-2024-04-20-05-17-50-785/output/bert-test'},\n",
       "  'bert-train': {'Value': 's3://sagemaker-us-east-1-211125778552/sagemaker-scikit-learn-2024-04-20-05-17-50-785/output/bert-train'},\n",
       "  'bert-validation': {'Value': 's3://sagemaker-us-east-1-211125778552/sagemaker-scikit-learn-2024-04-20-05-17-50-785/output/bert-validation'}},\n",
       " 'Metrics': [],\n",
       " 'LineageGroupArn': 'arn:aws:sagemaker:us-east-1:211125778552:lineage-group/sagemaker-default-lineage-group',\n",
       " 'Sources': [],\n",
       " 'ResponseMetadata': {'RequestId': '3aac8327-99f6-4507-a0ee-337ac4e8ca1c',\n",
       "  'HTTPStatusCode': 200,\n",
       "  'HTTPHeaders': {'x-amzn-requestid': '3aac8327-99f6-4507-a0ee-337ac4e8ca1c',\n",
       "   'content-type': 'application/x-amz-json-1.1',\n",
       "   'content-length': '1943',\n",
       "   'date': 'Sat, 20 Apr 2024 05:32:03 GMT'},\n",
       "  'RetryAttempts': 0}}"
      ]
     },
     "execution_count": 31,
     "metadata": {},
     "output_type": "execute_result"
    }
   ],
   "source": [
    "trial_component_description = sm.describe_trial_component(TrialComponentName=trial_component_name)\n",
    "trial_component_description"
   ]
  },
  {
   "cell_type": "code",
   "execution_count": 32,
   "metadata": {},
   "outputs": [
    {
     "data": {
      "text/html": [
       "<div>\n",
       "<style scoped>\n",
       "    .dataframe tbody tr th:only-of-type {\n",
       "        vertical-align: middle;\n",
       "    }\n",
       "\n",
       "    .dataframe tbody tr th {\n",
       "        vertical-align: top;\n",
       "    }\n",
       "\n",
       "    .dataframe thead th {\n",
       "        text-align: right;\n",
       "    }\n",
       "</style>\n",
       "<table border=\"1\" class=\"dataframe\">\n",
       "  <thead>\n",
       "    <tr style=\"text-align: right;\">\n",
       "      <th></th>\n",
       "      <th>Name/Source</th>\n",
       "      <th>Direction</th>\n",
       "      <th>Type</th>\n",
       "      <th>Association Type</th>\n",
       "      <th>Lineage Type</th>\n",
       "    </tr>\n",
       "  </thead>\n",
       "  <tbody>\n",
       "    <tr>\n",
       "      <th>0</th>\n",
       "      <td>s3://...scikit-text-to-bert-feature-store-rec.py</td>\n",
       "      <td>Input</td>\n",
       "      <td>DataSet</td>\n",
       "      <td>ContributedTo</td>\n",
       "      <td>artifact</td>\n",
       "    </tr>\n",
       "    <tr>\n",
       "      <th>1</th>\n",
       "      <td>s3://sagemaker-team4-bucket/ryanair-data/</td>\n",
       "      <td>Input</td>\n",
       "      <td>DataSet</td>\n",
       "      <td>ContributedTo</td>\n",
       "      <td>artifact</td>\n",
       "    </tr>\n",
       "    <tr>\n",
       "      <th>2</th>\n",
       "      <td>68331...om/sagemaker-scikit-learn:0.23-1-cpu-py3</td>\n",
       "      <td>Input</td>\n",
       "      <td>Image</td>\n",
       "      <td>ContributedTo</td>\n",
       "      <td>artifact</td>\n",
       "    </tr>\n",
       "    <tr>\n",
       "      <th>3</th>\n",
       "      <td>s3://...2024-04-20-05-17-50-785/output/bert-test</td>\n",
       "      <td>Output</td>\n",
       "      <td>DataSet</td>\n",
       "      <td>Produced</td>\n",
       "      <td>artifact</td>\n",
       "    </tr>\n",
       "    <tr>\n",
       "      <th>4</th>\n",
       "      <td>s3://...4-20-05-17-50-785/output/bert-validation</td>\n",
       "      <td>Output</td>\n",
       "      <td>DataSet</td>\n",
       "      <td>Produced</td>\n",
       "      <td>artifact</td>\n",
       "    </tr>\n",
       "    <tr>\n",
       "      <th>5</th>\n",
       "      <td>s3://...024-04-20-05-17-50-785/output/bert-train</td>\n",
       "      <td>Output</td>\n",
       "      <td>DataSet</td>\n",
       "      <td>Produced</td>\n",
       "      <td>artifact</td>\n",
       "    </tr>\n",
       "  </tbody>\n",
       "</table>\n",
       "</div>"
      ],
      "text/plain": [
       "                                        Name/Source Direction     Type  \\\n",
       "0  s3://...scikit-text-to-bert-feature-store-rec.py     Input  DataSet   \n",
       "1         s3://sagemaker-team4-bucket/ryanair-data/     Input  DataSet   \n",
       "2  68331...om/sagemaker-scikit-learn:0.23-1-cpu-py3     Input    Image   \n",
       "3  s3://...2024-04-20-05-17-50-785/output/bert-test    Output  DataSet   \n",
       "4  s3://...4-20-05-17-50-785/output/bert-validation    Output  DataSet   \n",
       "5  s3://...024-04-20-05-17-50-785/output/bert-train    Output  DataSet   \n",
       "\n",
       "  Association Type Lineage Type  \n",
       "0    ContributedTo     artifact  \n",
       "1    ContributedTo     artifact  \n",
       "2    ContributedTo     artifact  \n",
       "3         Produced     artifact  \n",
       "4         Produced     artifact  \n",
       "5         Produced     artifact  "
      ]
     },
     "execution_count": 32,
     "metadata": {},
     "output_type": "execute_result"
    }
   ],
   "source": [
    "from sagemaker.lineage.visualizer import LineageTableVisualizer\n",
    "\n",
    "lineage_table_viz = LineageTableVisualizer(sess)\n",
    "lineage_table_viz_df = lineage_table_viz.show(processing_job_name=scikit_processing_job_name)\n",
    "lineage_table_viz_df"
   ]
  },
  {
   "cell_type": "code",
   "execution_count": 33,
   "metadata": {},
   "outputs": [
    {
     "name": "stdout",
     "output_type": "stream",
     "text": [
      "Stored 'processed_train_data_s3_uri' (str)\n",
      "Stored 'processed_validation_data_s3_uri' (str)\n",
      "Stored 'processed_test_data_s3_uri' (str)\n",
      "Stored 'max_seq_length' (int)\n",
      "Stored 'experiment_name' (str)\n",
      "Stored 'trial_name' (str)\n"
     ]
    }
   ],
   "source": [
    "%store processed_train_data_s3_uri\n",
    "%store processed_validation_data_s3_uri\n",
    "%store processed_test_data_s3_uri\n",
    "%store max_seq_length\n",
    "%store experiment_name\n",
    "%store trial_name"
   ]
  },
  {
   "cell_type": "code",
   "execution_count": null,
   "metadata": {},
   "outputs": [],
   "source": []
  }
 ],
 "metadata": {
  "kernelspec": {
   "display_name": "data_science_on_aws",
   "language": "python",
   "name": "python3"
  },
  "language_info": {
   "codemirror_mode": {
    "name": "ipython",
    "version": 3
   },
   "file_extension": ".py",
   "mimetype": "text/x-python",
   "name": "python",
   "nbconvert_exporter": "python",
   "pygments_lexer": "ipython3",
   "version": "3.7.16"
  }
 },
 "nbformat": 4,
 "nbformat_minor": 2
}
