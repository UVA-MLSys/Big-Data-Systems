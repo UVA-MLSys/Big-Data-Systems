{
 "cells": [
  {
   "cell_type": "markdown",
   "metadata": {},
   "source": [
    "## Drop Athena DB and delete S3 bucket"
   ]
  },
  {
   "cell_type": "code",
   "execution_count": 14,
   "metadata": {},
   "outputs": [
    {
     "name": "stderr",
     "output_type": "stream",
     "text": [
      "/home/sagemaker-user/.conda/envs/data_science_on_aws/lib/python3.7/site-packages/boto3/compat.py:82: PythonDeprecationWarning: Boto3 will no longer support Python 3.7 starting December 13, 2023. To continue receiving service updates, bug fixes, and security updates please upgrade to Python 3.8 or later. More information can be found here: https://aws.amazon.com/blogs/developer/python-support-policy-updates-for-aws-sdks-and-tools/\n",
      "  warnings.warn(warning, PythonDeprecationWarning)\n"
     ]
    }
   ],
   "source": [
    "import boto3\n",
    "import sagemaker\n",
    "import pandas as pd\n",
    "\n",
    "sess = sagemaker.Session()\n",
    "role = sagemaker.get_execution_role()\n",
    "region = boto3.Session().region_name\n",
    "account_id = boto3.client(\"sts\").get_caller_identity().get(\"Account\")\n",
    "\n",
    "sm = boto3.Session().client(service_name=\"sagemaker\", region_name=region)"
   ]
  },
  {
   "cell_type": "markdown",
   "metadata": {},
   "source": [
    "### List existing S3 buckets"
   ]
  },
  {
   "cell_type": "code",
   "execution_count": 15,
   "metadata": {},
   "outputs": [
    {
     "name": "stdout",
     "output_type": "stream",
     "text": [
      "2024-02-18 20:23:31 211125778552personalizepocvod\n",
      "2024-02-18 01:27:18 aws-athena-query-results-211125778552-us-east-1\n",
      "2024-04-13 17:52:38 aws-athena-query-results-us-east-1-211125778552\n",
      "2024-03-27 00:35:44 aws-glue-assets-211125778552-us-east-1\n",
      "2024-03-27 00:28:12 aws-glue-assets-211125778552-us-east-2\n",
      "2024-02-15 21:19:44 sagemaker-studio-12jvao34qlkn\n",
      "2024-02-15 22:38:05 sagemaker-studio-211125778552-3pjkfc2ijfr\n",
      "2024-02-17 02:02:09 sagemaker-studio-211125778552-4dcj21sopi3\n",
      "2024-02-19 03:02:29 sagemaker-studio-211125778552-4rfwbx1bibn\n",
      "2024-02-15 20:23:46 sagemaker-studio-211125778552-4yhhjbuzjdq\n",
      "2024-02-17 02:02:35 sagemaker-studio-211125778552-8xxlet4bnrv\n",
      "2024-02-17 02:02:08 sagemaker-studio-211125778552-rfcwvtinree\n",
      "2024-02-20 00:38:45 sagemaker-studio-211125778552-yu1t8p5304s\n",
      "2024-03-21 19:20:47 sagemaker-studio-uyd2sz3oy3\n",
      "2024-03-08 03:11:27 sagemaker-team11-stanford-dogs\n",
      "2024-04-13 20:37:15 sagemaker-team4-bucket\n",
      "2024-03-18 01:49:41 sagemaker-team6-distracted-drivers\n",
      "2024-02-15 20:23:48 sagemaker-us-east-1-211125778552\n",
      "2024-03-03 20:33:04 team-3-project-data\n",
      "2024-03-20 23:58:20 team-8-project-data\n",
      "2024-04-21 00:52:23 team12\n",
      "2024-03-28 22:10:03 team5bucket\n"
     ]
    }
   ],
   "source": [
    "!aws s3 ls"
   ]
  },
  {
   "cell_type": "markdown",
   "metadata": {},
   "source": [
    "### Drop the Athena database"
   ]
  },
  {
   "cell_type": "code",
   "execution_count": 16,
   "metadata": {},
   "outputs": [],
   "source": [
    "from pyathena import connect\n",
    "import pandas as pd"
   ]
  },
  {
   "cell_type": "code",
   "execution_count": 17,
   "metadata": {},
   "outputs": [],
   "source": [
    "database_name = \"team4\"\n",
    "bucket = \"sagemaker-team4-bucket\""
   ]
  },
  {
   "cell_type": "code",
   "execution_count": 18,
   "metadata": {},
   "outputs": [],
   "source": [
    "# Set S3 staging directory -- this is a temporary directory used for Athena queries\n",
    "s3_staging_dir = \"s3://{0}/athena/staging\".format(bucket)"
   ]
  },
  {
   "cell_type": "code",
   "execution_count": 19,
   "metadata": {},
   "outputs": [],
   "source": [
    "conn = connect(region_name=region, s3_staging_dir=s3_staging_dir)"
   ]
  },
  {
   "cell_type": "code",
   "execution_count": 20,
   "metadata": {},
   "outputs": [
    {
     "name": "stdout",
     "output_type": "stream",
     "text": [
      "DROP DATABASE IF EXISTS team4 CASCADE\n"
     ]
    }
   ],
   "source": [
    "statement = \"DROP DATABASE IF EXISTS {} CASCADE\".format(database_name)\n",
    "print(statement)"
   ]
  },
  {
   "cell_type": "code",
   "execution_count": 21,
   "metadata": {},
   "outputs": [
    {
     "data": {
      "text/html": [
       "<div>\n",
       "<style scoped>\n",
       "    .dataframe tbody tr th:only-of-type {\n",
       "        vertical-align: middle;\n",
       "    }\n",
       "\n",
       "    .dataframe tbody tr th {\n",
       "        vertical-align: top;\n",
       "    }\n",
       "\n",
       "    .dataframe thead th {\n",
       "        text-align: right;\n",
       "    }\n",
       "</style>\n",
       "<table border=\"1\" class=\"dataframe\">\n",
       "  <thead>\n",
       "    <tr style=\"text-align: right;\">\n",
       "      <th></th>\n",
       "    </tr>\n",
       "  </thead>\n",
       "  <tbody>\n",
       "  </tbody>\n",
       "</table>\n",
       "</div>"
      ],
      "text/plain": [
       "Empty DataFrame\n",
       "Columns: []\n",
       "Index: []"
      ]
     },
     "execution_count": 21,
     "metadata": {},
     "output_type": "execute_result"
    }
   ],
   "source": [
    "pd.read_sql(statement, conn)"
   ]
  },
  {
   "cell_type": "code",
   "execution_count": 22,
   "metadata": {},
   "outputs": [
    {
     "data": {
      "text/html": [
       "<div>\n",
       "<style scoped>\n",
       "    .dataframe tbody tr th:only-of-type {\n",
       "        vertical-align: middle;\n",
       "    }\n",
       "\n",
       "    .dataframe tbody tr th {\n",
       "        vertical-align: top;\n",
       "    }\n",
       "\n",
       "    .dataframe thead th {\n",
       "        text-align: right;\n",
       "    }\n",
       "</style>\n",
       "<table border=\"1\" class=\"dataframe\">\n",
       "  <thead>\n",
       "    <tr style=\"text-align: right;\">\n",
       "      <th></th>\n",
       "      <th>database_name</th>\n",
       "    </tr>\n",
       "  </thead>\n",
       "  <tbody>\n",
       "    <tr>\n",
       "      <th>0</th>\n",
       "      <td>default</td>\n",
       "    </tr>\n",
       "    <tr>\n",
       "      <th>1</th>\n",
       "      <td>dsoaws</td>\n",
       "    </tr>\n",
       "    <tr>\n",
       "      <th>2</th>\n",
       "      <td>sagemaker_featurestore</td>\n",
       "    </tr>\n",
       "    <tr>\n",
       "      <th>3</th>\n",
       "      <td>team-8-fec-db</td>\n",
       "    </tr>\n",
       "    <tr>\n",
       "      <th>4</th>\n",
       "      <td>team3-court-data</td>\n",
       "    </tr>\n",
       "  </tbody>\n",
       "</table>\n",
       "</div>"
      ],
      "text/plain": [
       "            database_name\n",
       "0                 default\n",
       "1                  dsoaws\n",
       "2  sagemaker_featurestore\n",
       "3           team-8-fec-db\n",
       "4        team3-court-data"
      ]
     },
     "execution_count": 22,
     "metadata": {},
     "output_type": "execute_result"
    }
   ],
   "source": [
    "statement = \"SHOW DATABASES\"\n",
    "\n",
    "df_show = pd.read_sql(statement, conn)\n",
    "df_show.head(5)"
   ]
  },
  {
   "cell_type": "markdown",
   "metadata": {},
   "source": [
    "### Remove the Ryanair customer feedback file from the S3 bucket"
   ]
  },
  {
   "cell_type": "code",
   "execution_count": 23,
   "metadata": {},
   "outputs": [
    {
     "name": "stdout",
     "output_type": "stream",
     "text": [
      "delete: s3://sagemaker-team4-bucket/ryanair-data/ryanair_reviews.csv\n"
     ]
    }
   ],
   "source": [
    "!aws s3 rm s3://sagemaker-team4-bucket/ryanair-data/ryanair_reviews.csv"
   ]
  },
  {
   "cell_type": "markdown",
   "metadata": {},
   "source": [
    "### Remove the S3 bucket"
   ]
  },
  {
   "cell_type": "code",
   "execution_count": 24,
   "metadata": {},
   "outputs": [
    {
     "name": "stdout",
     "output_type": "stream",
     "text": [
      "delete: s3://sagemaker-team4-bucket/athena/staging/07fc18f2-8f89-4f8e-b7dd-f576c7a69593.csv.metadata\n",
      "delete: s3://sagemaker-team4-bucket/athena/staging/130d9037-144e-4202-b297-ead61720622a.txt\n",
      "delete: s3://sagemaker-team4-bucket/athena/staging/07fc18f2-8f89-4f8e-b7dd-f576c7a69593.csv\n",
      "delete: s3://sagemaker-team4-bucket/athena/staging/24aa83a4-5a46-4b2b-9880-b3fa101b8e49.txt\n",
      "delete: s3://sagemaker-team4-bucket/athena/staging/21a1cd5c-d895-4c12-a9a3-3bf20811be10.txt\n",
      "delete: s3://sagemaker-team4-bucket/athena/staging/3094c9d8-2e97-4777-a260-76b12b25bede.csv.metadata\n",
      "delete: s3://sagemaker-team4-bucket/athena/staging/2614fb8a-edeb-4e3f-b5db-3cb6a78466f0.txt\n",
      "delete: s3://sagemaker-team4-bucket/athena/staging/2eb62712-76bd-4552-a1e9-759ee2b91333.txt.metadata\n",
      "delete: s3://sagemaker-team4-bucket/athena/staging/4893d8b1-dc7d-47ce-915d-91942e5edd18.txt\n",
      "delete: s3://sagemaker-team4-bucket/athena/staging/5d454fab-14ef-43cd-88ea-0d355010083a.txt\n",
      "delete: s3://sagemaker-team4-bucket/athena/staging/2d61c69c-2e8d-4406-878f-98f24b48b255.csv.metadata\n",
      "delete: s3://sagemaker-team4-bucket/athena/staging/60e286ac-61bd-456e-9b6a-347ef208c49a.csv\n",
      "delete: s3://sagemaker-team4-bucket/athena/staging/60e286ac-61bd-456e-9b6a-347ef208c49a.csv.metadata\n",
      "delete: s3://sagemaker-team4-bucket/athena/staging/60e5c04a-4bfc-48de-8f8f-0a6f131253fa.csv\n",
      "delete: s3://sagemaker-team4-bucket/athena/staging/5d454fab-14ef-43cd-88ea-0d355010083a.txt.metadata\n",
      "delete: s3://sagemaker-team4-bucket/athena/staging/6b8e64f7-42e1-4be4-9bf7-62c3ce8cad7d.txt.metadata\n",
      "delete: s3://sagemaker-team4-bucket/athena/staging/3094c9d8-2e97-4777-a260-76b12b25bede.csv\n",
      "delete: s3://sagemaker-team4-bucket/athena/staging/3195cb45-a59d-4d84-9e36-18e2f994cb64.csv\n",
      "delete: s3://sagemaker-team4-bucket/athena/staging/71254686-a342-4cf2-942c-f6fa3a2a4d9c.txt.metadata\n",
      "delete: s3://sagemaker-team4-bucket/athena/staging/79702099-f635-437c-a3a4-24bf69d0f457.csv\n",
      "delete: s3://sagemaker-team4-bucket/athena/staging/6b8e64f7-42e1-4be4-9bf7-62c3ce8cad7d.txt\n",
      "delete: s3://sagemaker-team4-bucket/athena/staging/79702099-f635-437c-a3a4-24bf69d0f457.csv.metadata\n",
      "delete: s3://sagemaker-team4-bucket/athena/staging/2412dc12-4689-42ca-9625-fecc158cc9e2.txt\n",
      "delete: s3://sagemaker-team4-bucket/athena/staging/7a728c50-f35e-402d-882b-03acef730b43.txt\n",
      "delete: s3://sagemaker-team4-bucket/athena/staging/2412dc12-4689-42ca-9625-fecc158cc9e2.txt.metadata\n",
      "delete: s3://sagemaker-team4-bucket/athena/staging/7a728c50-f35e-402d-882b-03acef730b43.txt.metadata\n",
      "delete: s3://sagemaker-team4-bucket/athena/staging/7b3f0528-f1d8-492b-8c8f-5f75d786556d.txt.metadata\n",
      "delete: s3://sagemaker-team4-bucket/athena/staging/2d61c69c-2e8d-4406-878f-98f24b48b255.csv\n",
      "delete: s3://sagemaker-team4-bucket/athena/staging/256323fa-bea6-4495-86ba-9b753f2d595a.txt\n",
      "delete: s3://sagemaker-team4-bucket/athena/staging/2614fb8a-edeb-4e3f-b5db-3cb6a78466f0.txt.metadata\n",
      "delete: s3://sagemaker-team4-bucket/athena/staging/847a735c-7a5d-49f7-b74a-b6db3b7334a7.csv.metadata\n",
      "delete: s3://sagemaker-team4-bucket/athena/staging/847a735c-7a5d-49f7-b74a-b6db3b7334a7.csv\n",
      "delete: s3://sagemaker-team4-bucket/athena/staging/94886928-6b2a-4b7a-b470-0049226964c4.txt\n",
      "delete: s3://sagemaker-team4-bucket/athena/staging/7b3f0528-f1d8-492b-8c8f-5f75d786556d.txt\n",
      "delete: s3://sagemaker-team4-bucket/athena/staging/9f5e9e05-e69e-41e2-bf6e-3de557665e82.csv.metadata\n",
      "delete: s3://sagemaker-team4-bucket/athena/staging/60e5c04a-4bfc-48de-8f8f-0a6f131253fa.csv.metadata\n",
      "delete: s3://sagemaker-team4-bucket/athena/staging/97bd6f9b-24ad-4827-81a6-01d841444cd7.txt\n",
      "delete: s3://sagemaker-team4-bucket/athena/staging/2eb62712-76bd-4552-a1e9-759ee2b91333.txt\n",
      "delete: s3://sagemaker-team4-bucket/athena/staging/aadf25b4-eed2-4909-8e13-797f563d1dee.csv.metadata\n",
      "delete: s3://sagemaker-team4-bucket/athena/staging/9f5e9e05-e69e-41e2-bf6e-3de557665e82.csv\n",
      "delete: s3://sagemaker-team4-bucket/athena/staging/aadf25b4-eed2-4909-8e13-797f563d1dee.csv\n",
      "delete: s3://sagemaker-team4-bucket/athena/staging/3195cb45-a59d-4d84-9e36-18e2f994cb64.csv.metadata\n",
      "delete: s3://sagemaker-team4-bucket/athena/staging/b923d644-e8e8-456c-8f1f-1472828515c4.csv.metadata\n",
      "delete: s3://sagemaker-team4-bucket/athena/staging/ad23ab52-b916-4e88-ac9f-753b087ed7fb.txt\n",
      "delete: s3://sagemaker-team4-bucket/athena/staging/b923d644-e8e8-456c-8f1f-1472828515c4.csv\n",
      "delete: s3://sagemaker-team4-bucket/athena/staging/764f09f1-af08-4826-b69b-719839c19dff.txt\n",
      "delete: s3://sagemaker-team4-bucket/athena/staging/c7468696-4301-4d8d-b0ad-c795b9cb0294.txt\n",
      "delete: s3://sagemaker-team4-bucket/athena/staging/c7468696-4301-4d8d-b0ad-c795b9cb0294.txt.metadata\n",
      "delete: s3://sagemaker-team4-bucket/athena/staging/c07d6ae6-b71e-439c-bb45-682992644e8b.txt\n",
      "delete: s3://sagemaker-team4-bucket/athena/staging/ba92a5f6-f9b2-4d36-8e0d-16251beac1e8.csv.metadata\n",
      "delete: s3://sagemaker-team4-bucket/athena/staging/71254686-a342-4cf2-942c-f6fa3a2a4d9c.txt\n",
      "delete: s3://sagemaker-team4-bucket/athena/staging/97bd6f9b-24ad-4827-81a6-01d841444cd7.txt.metadata\n",
      "delete: s3://sagemaker-team4-bucket/athena/staging/d6070862-b7a8-4d38-92b0-9654baf13923.txt\n",
      "delete: s3://sagemaker-team4-bucket/athena/staging/ba92a5f6-f9b2-4d36-8e0d-16251beac1e8.csv\n",
      "delete: s3://sagemaker-team4-bucket/athena/staging/cfa43c3e-9b59-4c56-984e-ee2110018c8e.csv\n",
      "delete: s3://sagemaker-team4-bucket/athena/staging/cfa43c3e-9b59-4c56-984e-ee2110018c8e.csv.metadata\n",
      "delete: s3://sagemaker-team4-bucket/athena/staging/e501a005-998a-433b-929e-8b8b6c28e213.csv.metadata\n",
      "delete: s3://sagemaker-team4-bucket/athena/staging/d3dfd54b-73f5-4453-b5eb-3c03a2777774.txt\n",
      "delete: s3://sagemaker-team4-bucket/athena/staging/ee1b2316-beca-4c2f-83cd-ea2298353e0f.txt\n",
      "delete: s3://sagemaker-team4-bucket/athena/staging/e5e83ea5-e72c-4c6e-a4e0-76069908e212.txt\n",
      "delete: s3://sagemaker-team4-bucket/athena/staging/f0bf49ce-441a-4768-b88f-86aa8e5eee3c.txt\n",
      "delete: s3://sagemaker-team4-bucket/athena/staging/ccefa3dc-c6ee-4e4c-98e5-0a2f43fffbd6.txt\n",
      "delete: s3://sagemaker-team4-bucket/athena/staging/f6efeb74-aad1-4ff6-b7af-096a739c8448.txt.metadata\n",
      "delete: s3://sagemaker-team4-bucket/athena/staging/d6070862-b7a8-4d38-92b0-9654baf13923.txt.metadata\n",
      "delete: s3://sagemaker-team4-bucket/athena/staging/ee1b2316-beca-4c2f-83cd-ea2298353e0f.txt.metadata\n",
      "delete: s3://sagemaker-team4-bucket/athena/staging/ccefa3dc-c6ee-4e4c-98e5-0a2f43fffbd6.txt.metadata\n",
      "delete: s3://sagemaker-team4-bucket/athena/staging/fee61fc3-7352-4a99-bd74-b742150c0bcc.txt.metadata\n",
      "delete: s3://sagemaker-team4-bucket/athena/staging/f6efeb74-aad1-4ff6-b7af-096a739c8448.txt\n",
      "delete: s3://sagemaker-team4-bucket/athena/staging/f0bf49ce-441a-4768-b88f-86aa8e5eee3c.txt.metadata\n",
      "delete: s3://sagemaker-team4-bucket/athena/staging/tables/414fdd32-13fc-4411-ac8e-5c35e3aa72f0-manifest.csv\n",
      "delete: s3://sagemaker-team4-bucket/athena/staging/tables/414fdd32-13fc-4411-ac8e-5c35e3aa72f0.metadata\n",
      "delete: s3://sagemaker-team4-bucket/athena/staging/tables/eb6f3cc4-9ef7-4d89-a776-a366dbb216c1-manifest.csv\n",
      "delete: s3://sagemaker-team4-bucket/athena/staging/fee61fc3-7352-4a99-bd74-b742150c0bcc.txt\n",
      "delete: s3://sagemaker-team4-bucket/athena/staging/tables/fbfb13a7-2ffa-4d22-a4b5-32d339982426-manifest.csv\n",
      "delete: s3://sagemaker-team4-bucket/athena/staging/tables/92dbd29b-95bb-46a0-b378-8a030c6e0568-manifest.csv\n",
      "delete: s3://sagemaker-team4-bucket/athena/staging/tables/92dbd29b-95bb-46a0-b378-8a030c6e0568.metadata\n",
      "delete: s3://sagemaker-team4-bucket/athena/staging/tables/ff825dc4-35cb-4929-9d55-43515e167c1a-manifest.csv\n",
      "delete: s3://sagemaker-team4-bucket/athena/staging/tables/ff825dc4-35cb-4929-9d55-43515e167c1a.metadata\n",
      "delete: s3://sagemaker-team4-bucket/ryanair-data/parquet/year=__HIVE_DEFAULT_PARTITION__/20240420_224821_00444_ne4p6_d2c8bac9-c4fc-41ca-adb1-22bf75a18bd3\n",
      "delete: s3://sagemaker-team4-bucket/ryanair-data/parquet/year=__HIVE_DEFAULT_PARTITION__/20240414_224405_00041_zbuip_8170c085-faa6-4bb4-b231-cdd173d9ef55\n",
      "delete: s3://sagemaker-team4-bucket/athena/staging/tables/eb6f3cc4-9ef7-4d89-a776-a366dbb216c1.metadata\n",
      "delete: s3://sagemaker-team4-bucket/athena/staging/tables/fbfb13a7-2ffa-4d22-a4b5-32d339982426.metadata\n",
      "delete: s3://sagemaker-team4-bucket/ryanair-data/parquet/year=__HIVE_DEFAULT_PARTITION__/20240420_012211_00097_ixvau_85f79bf4-64c3-4d0d-a9bd-57d3511b9c75\n",
      "delete: s3://sagemaker-team4-bucket/ryanair-data/parquet/year=__HIVE_DEFAULT_PARTITION__/20240420_013502_00118_k9czz_709246e0-317a-45c1-a63e-5f44270dd09a\n",
      "delete: s3://sagemaker-team4-bucket/athena/staging/e501a005-998a-433b-929e-8b8b6c28e213.csv\n",
      "delete: s3://sagemaker-team4-bucket/ryanair-data/parquet/year=__HIVE_DEFAULT_PARTITION__/20240413_203809_00022_nktqn_10f97f51-ad32-44d5-bba7-f870689dae13\n",
      "remove_bucket: sagemaker-team4-bucket\n"
     ]
    }
   ],
   "source": [
    "!aws s3 rb s3://sagemaker-team4-bucket --force"
   ]
  },
  {
   "cell_type": "code",
   "execution_count": null,
   "metadata": {},
   "outputs": [],
   "source": []
  }
 ],
 "metadata": {
  "kernelspec": {
   "display_name": "data_science_on_aws",
   "language": "python",
   "name": "python3"
  },
  "language_info": {
   "codemirror_mode": {
    "name": "ipython",
    "version": 3
   },
   "file_extension": ".py",
   "mimetype": "text/x-python",
   "name": "python",
   "nbconvert_exporter": "python",
   "pygments_lexer": "ipython3",
   "version": "3.7.16"
  }
 },
 "nbformat": 4,
 "nbformat_minor": 2
}
