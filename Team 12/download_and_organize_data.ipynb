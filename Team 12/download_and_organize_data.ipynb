{
 "cells": [
  {
   "cell_type": "code",
   "execution_count": 2,
   "id": "4a0af406-91dc-4a52-ac6f-ee8c174105c9",
   "metadata": {},
   "outputs": [
    {
     "name": "stdout",
     "output_type": "stream",
     "text": [
      "Collecting ucimlrepo\n",
      "  Using cached ucimlrepo-0.0.6-py3-none-any.whl.metadata (5.3 kB)\n",
      "Using cached ucimlrepo-0.0.6-py3-none-any.whl (8.0 kB)\n",
      "Installing collected packages: ucimlrepo\n",
      "Successfully installed ucimlrepo-0.0.6\n",
      "Note: you may need to restart the kernel to use updated packages.\n"
     ]
    }
   ],
   "source": [
    "pip install ucimlrepo"
   ]
  },
  {
   "cell_type": "code",
   "execution_count": 3,
   "id": "99f33e4b-cdfd-4bd7-8452-f8c5ffbe4c09",
   "metadata": {},
   "outputs": [],
   "source": [
    "from ucimlrepo import fetch_ucirepo\n",
    "\n",
    "# fetch dataset\n",
    "us_census_data_1990 = fetch_ucirepo(id=116)\n",
    "\n",
    "# data (as pandas dataframes)\n",
    "X = us_census_data_1990.data.features\n",
    "y = us_census_data_1990.data.targets\n"
   ]
  },
  {
   "cell_type": "code",
   "execution_count": 1,
   "id": "bbb950a1-3ea7-4429-9a16-5bb97d7b7232",
   "metadata": {},
   "outputs": [],
   "source": [
    "import pandas as pd\n",
    "import time\n",
    "pd.set_option('display.max_columns', None)"
   ]
  },
  {
   "cell_type": "code",
   "execution_count": 6,
   "id": "a5d0ae15-c0fc-405d-98fc-7c0e4d2df7da",
   "metadata": {},
   "outputs": [],
   "source": [
    "newX = X\n",
    "newX['collapsed_income'] = newX.loc[:, 'dIncome1':'dIncome8'].idxmax(axis=1)\n",
    "newX['income'] = newX['collapsed_income'].str.strip().str[-1].astype(int)\n",
    "newX = newX.drop(['dIncome1', 'dIncome2', 'dIncome3', 'dIncome4', 'dIncome5', 'dIncome6', 'dIncome7', 'dIncome8', 'collapsed_income'], axis = 1)"
   ]
  },
  {
   "cell_type": "code",
   "execution_count": 2,
   "id": "effd3856-bc61-4aa3-ab08-69e093640e18",
   "metadata": {},
   "outputs": [],
   "source": [
    "import pyarrow as pa\n",
    "import pyarrow.parquet as pq"
   ]
  },
  {
   "cell_type": "code",
   "execution_count": 8,
   "id": "cd87d4c6-f81e-4815-b221-196b19a62f0e",
   "metadata": {},
   "outputs": [
    {
     "data": {
      "text/plain": [
       "4.095423698425293"
      ]
     },
     "execution_count": 8,
     "metadata": {},
     "output_type": "execute_result"
    }
   ],
   "source": [
    "start_time = time.time()\n",
    "table = pa.Table.from_pandas(newX)\n",
    "pq.write_table(table, 'data2.parquet')\n",
    "end_time = time.time()\n",
    "\n",
    "end_time - start_time"
   ]
  },
  {
   "cell_type": "code",
   "execution_count": 9,
   "id": "e3a245ee-7c3c-4033-aa0d-ccf90625bfc6",
   "metadata": {},
   "outputs": [
    {
     "data": {
      "text/plain": [
       "4.685370922088623"
      ]
     },
     "execution_count": 9,
     "metadata": {},
     "output_type": "execute_result"
    }
   ],
   "source": [
    "start_time = time.time()\n",
    "table = pa.Table.from_pandas(X)\n",
    "pq.write_table(table, 'data.parquet')\n",
    "end_time = time.time()\n",
    "\n",
    "end_time - start_time"
   ]
  },
  {
   "cell_type": "code",
   "execution_count": 3,
   "id": "a77f0912-3289-40a1-b499-bfeea5b27c99",
   "metadata": {},
   "outputs": [],
   "source": [
    "X = pd.read_parquet('data.parquet')"
   ]
  },
  {
   "cell_type": "code",
   "execution_count": 4,
   "id": "62041524-cb3e-45d4-9fc3-738e3bc72c10",
   "metadata": {},
   "outputs": [
    {
     "data": {
      "text/plain": [
       "26.080443382263184"
      ]
     },
     "execution_count": 4,
     "metadata": {},
     "output_type": "execute_result"
    }
   ],
   "source": [
    "start_time = time.time()\n",
    "pd.DataFrame(X).to_json('data.json')\n",
    "end_time = time.time()\n",
    "\n",
    "end_time - start_time"
   ]
  },
  {
   "cell_type": "code",
   "execution_count": 5,
   "id": "679afd4c-716f-48f8-b9a5-5c6b6f2998ff",
   "metadata": {},
   "outputs": [],
   "source": [
    "from pyarrow import orc"
   ]
  },
  {
   "cell_type": "code",
   "execution_count": 7,
   "id": "38ac8086-c423-4561-ac94-948585f1fdd1",
   "metadata": {},
   "outputs": [
    {
     "data": {
      "text/plain": [
       "27.223031044006348"
      ]
     },
     "execution_count": 7,
     "metadata": {},
     "output_type": "execute_result"
    }
   ],
   "source": [
    "start_time = time.time()\n",
    "pd.DataFrame(newX).to_json('data2.json')\n",
    "end_time = time.time()\n",
    "\n",
    "end_time - start_time"
   ]
  },
  {
   "cell_type": "code",
   "execution_count": 8,
   "id": "746ae709-e74e-4719-9e5f-841fdc9f28e2",
   "metadata": {},
   "outputs": [
    {
     "data": {
      "text/plain": [
       "8.219791173934937"
      ]
     },
     "execution_count": 8,
     "metadata": {},
     "output_type": "execute_result"
    }
   ],
   "source": [
    "start_time = time.time()\n",
    "table = pa.Table.from_pandas(X)\n",
    "orc.write_table(table, 'data.orc')\n",
    "end_time = time.time()\n",
    "\n",
    "end_time - start_time"
   ]
  },
  {
   "cell_type": "code",
   "execution_count": 9,
   "id": "1381c9b8-efca-418f-a4c5-c15d0d5d8b94",
   "metadata": {},
   "outputs": [
    {
     "data": {
      "text/plain": [
       "7.115490674972534"
      ]
     },
     "execution_count": 9,
     "metadata": {},
     "output_type": "execute_result"
    }
   ],
   "source": [
    "start_time = time.time()\n",
    "table2 = pa.Table.from_pandas(newX)\n",
    "orc.write_table(table2, 'data2.orc')\n",
    "end_time = time.time()\n",
    "\n",
    "end_time - start_time"
   ]
  },
  {
   "cell_type": "code",
   "execution_count": 10,
   "id": "6a3d65f4-39de-4b2d-9a49-939b3f7f9abf",
   "metadata": {},
   "outputs": [
    {
     "data": {
      "text/plain": [
       "26.582375526428223"
      ]
     },
     "execution_count": 10,
     "metadata": {},
     "output_type": "execute_result"
    }
   ],
   "source": [
    "start_time = time.time()\n",
    "pd.DataFrame(X).to_csv('data.csv')\n",
    "end_time = time.time()\n",
    "\n",
    "end_time - start_time"
   ]
  },
  {
   "cell_type": "code",
   "execution_count": 11,
   "id": "aa8aedb0-522c-4426-b427-7472c7252ac9",
   "metadata": {},
   "outputs": [
    {
     "data": {
      "text/plain": [
       "22.62074375152588"
      ]
     },
     "execution_count": 11,
     "metadata": {},
     "output_type": "execute_result"
    }
   ],
   "source": [
    "start_time = time.time()\n",
    "pd.DataFrame(newX).to_csv('data2.csv')\n",
    "end_time = time.time()\n",
    "\n",
    "end_time - start_time"
   ]
  },
  {
   "cell_type": "code",
   "execution_count": 13,
   "id": "6dc4143c-3785-496d-9db6-f0b50f2e3eab",
   "metadata": {},
   "outputs": [
    {
     "name": "stdout",
     "output_type": "stream",
     "text": [
      "JSON Base file Size is : 1921.920265197754 MB\n"
     ]
    }
   ],
   "source": [
    "import os\n",
    " \n",
    "file_size = os.path.getsize('data.json')/(1024*1024)\n",
    "print(\"JSON Base file Size is :\", file_size, \"MB\")"
   ]
  },
  {
   "cell_type": "code",
   "execution_count": 15,
   "id": "609061b3-a628-4019-a2c6-4fde229c6156",
   "metadata": {},
   "outputs": [
    {
     "name": "stdout",
     "output_type": "stream",
     "text": [
      "JSON Base file Size is : 1921.920265197754 MB\n",
      "Paruqet Base file Size is : 40.81702423095703 MB\n",
      "CSV Base file Size is : 368.0190887451172 MB\n",
      "ORC Base file Size is : 107.80815410614014 MB\n"
     ]
    }
   ],
   "source": [
    "file_size = os.path.getsize('data.json')/(1024*1024)\n",
    "print(\"JSON Base file Size is :\", file_size, \"MB\")\n",
    "file_size = os.path.getsize('data.parquet')/(1024*1024)\n",
    "print(\"Paruqet Base file Size is :\", file_size, \"MB\")\n",
    "file_size = os.path.getsize('data.csv')/(1024*1024)\n",
    "print(\"CSV Base file Size is :\", file_size, \"MB\")\n",
    "file_size = os.path.getsize('data.orc')/(1024*1024)\n",
    "print(\"ORC Base file Size is :\", file_size, \"MB\")"
   ]
  },
  {
   "cell_type": "code",
   "execution_count": 16,
   "id": "d8fa6467-9e09-4d0f-b75e-a7388d56e940",
   "metadata": {},
   "outputs": [
    {
     "name": "stdout",
     "output_type": "stream",
     "text": [
      "JSON file Size is : 1657.1616973876953 MB\n",
      "Paruqet file Size is : 37.7671012878418 MB\n",
      "CSV file Size is : 309.40892219543457 MB\n",
      "ORC file Size is : 82.28339576721191 MB\n"
     ]
    }
   ],
   "source": [
    "file_size = os.path.getsize('data2.json')/(1024*1024)\n",
    "print(\"JSON file Size is :\", file_size, \"MB\")\n",
    "file_size = os.path.getsize('data2.parquet')/(1024*1024)\n",
    "print(\"Paruqet file Size is :\", file_size, \"MB\")\n",
    "file_size = os.path.getsize('data2.csv')/(1024*1024)\n",
    "print(\"CSV file Size is :\", file_size, \"MB\")\n",
    "file_size = os.path.getsize('data2.orc')/(1024*1024)\n",
    "print(\"ORC file Size is :\", file_size, \"MB\")"
   ]
  },
  {
   "cell_type": "code",
   "execution_count": 17,
   "id": "d787824c-1c01-4a0b-940f-ab48aeb9b5af",
   "metadata": {},
   "outputs": [
    {
     "name": "stdout",
     "output_type": "stream",
     "text": [
      "sagemaker.config INFO - Not applying SDK defaults from location: /etc/xdg/sagemaker/config.yaml\n",
      "sagemaker.config INFO - Not applying SDK defaults from location: /home/sagemaker-user/.config/sagemaker/config.yaml\n"
     ]
    }
   ],
   "source": [
    "import boto3\n",
    "import sagemaker\n",
    "\n",
    "# Get region \n",
    "session = boto3.session.Session()\n",
    "region_name = session.region_name\n",
    "\n",
    "# Get SageMaker session & default S3 bucket\n",
    "sagemaker_session = sagemaker.Session()\n",
    "bucket = sagemaker_session.default_bucket()"
   ]
  },
  {
   "cell_type": "code",
   "execution_count": 19,
   "id": "b3d6f2a8-655a-4248-8ed7-8ed382714f79",
   "metadata": {},
   "outputs": [],
   "source": [
    "s3 = boto3.resource('s3')\n"
   ]
  },
  {
   "cell_type": "code",
   "execution_count": 20,
   "id": "ac5137b9-0015-485d-b9e1-f112feec1bbe",
   "metadata": {},
   "outputs": [],
   "source": [
    "s3.meta.client.upload_file('data2.parquet', 'team12', 'data2.parquet')\n",
    "s3.meta.client.upload_file('data2.csv', 'team12', 'data2.csv')\n",
    "s3.meta.client.upload_file('data2.json', 'team12', 'data2.json')\n",
    "s3.meta.client.upload_file('data2.orc', 'team12', 'data2.orc')"
   ]
  },
  {
   "cell_type": "code",
   "execution_count": 21,
   "id": "cca69aed-f2ea-4e2b-bb57-fdd9b8845002",
   "metadata": {},
   "outputs": [],
   "source": [
    "s3.meta.client.upload_file('data.parquet', 'team12', 'data.parquet')\n",
    "s3.meta.client.upload_file('data.csv', 'team12', 'data.csv')\n",
    "s3.meta.client.upload_file('data.json', 'team12', 'data.json')\n",
    "s3.meta.client.upload_file('data.orc', 'team12', 'data.orc')"
   ]
  },
  {
   "cell_type": "code",
   "execution_count": null,
   "id": "43d059b1-1eb7-4141-9f13-b55423e8ade3",
   "metadata": {},
   "outputs": [],
   "source": []
  }
 ],
 "metadata": {
  "kernelspec": {
   "display_name": "Python 3 (ipykernel)",
   "language": "python",
   "name": "python3"
  },
  "language_info": {
   "codemirror_mode": {
    "name": "ipython",
    "version": 3
   },
   "file_extension": ".py",
   "mimetype": "text/x-python",
   "name": "python",
   "nbconvert_exporter": "python",
   "pygments_lexer": "ipython3",
   "version": "3.10.14"
  }
 },
 "nbformat": 4,
 "nbformat_minor": 5
}
